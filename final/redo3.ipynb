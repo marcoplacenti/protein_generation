{
  "nbformat": 4,
  "nbformat_minor": 0,
  "metadata": {
    "colab": {
      "name": "redo3.ipynb",
      "provenance": [],
      "collapsed_sections": [],
      "authorship_tag": "ABX9TyMV2OYd9BPhHlHHz6mc5OMa",
      "include_colab_link": true
    },
    "kernelspec": {
      "name": "python3",
      "display_name": "Python 3"
    }
  },
  "cells": [
    {
      "cell_type": "markdown",
      "metadata": {
        "id": "view-in-github",
        "colab_type": "text"
      },
      "source": [
        "<a href=\"https://colab.research.google.com/github/marcoplacenti/protein_generation/blob/main/final/redo3.ipynb\" target=\"_parent\"><img src=\"https://colab.research.google.com/assets/colab-badge.svg\" alt=\"Open In Colab\"/></a>"
      ]
    },
    {
      "cell_type": "code",
      "metadata": {
        "id": "EUhP0hc8nsTE"
      },
      "source": [
        "from google.colab import drive\n",
        "import torch, sys\n",
        "import pandas as pd\n",
        "import numpy as np  \n",
        "from torch import nn\n",
        "import torch.nn.functional as F\n",
        "from torchtext import data\n",
        "import torch.distributions as dist\n",
        "import random\n",
        "import matplotlib.pyplot as plt\n",
        "torch.cuda.empty_cache()\n",
        "allocation_device = torch.device('cuda' if torch.cuda.is_available() else 'cpu') # Device where a torch.Tensor will be allocated"
      ],
      "execution_count": null,
      "outputs": []
    },
    {
      "cell_type": "code",
      "metadata": {
        "colab": {
          "base_uri": "https://localhost:8080/"
        },
        "id": "uNLOUqLMnyHO",
        "outputId": "03437dc1-7b87-4518-c187-08141bf33dbf"
      },
      "source": [
        "from google.colab import drive\n",
        "drive.mount('/content/drive')"
      ],
      "execution_count": null,
      "outputs": [
        {
          "output_type": "stream",
          "text": [
            "Mounted at /content/drive\n"
          ],
          "name": "stdout"
        }
      ]
    },
    {
      "cell_type": "code",
      "metadata": {
        "colab": {
          "base_uri": "https://localhost:8080/"
        },
        "id": "UF7x6wbWn2ac",
        "outputId": "5f5f8817-8135-4b5f-bc6b-202d76143688"
      },
      "source": [
        "cd /content/drive/MyDrive/'Colab Notebooks'/project/"
      ],
      "execution_count": null,
      "outputs": [
        {
          "output_type": "stream",
          "text": [
            "/content/drive/MyDrive/Colab Notebooks/project\n"
          ],
          "name": "stdout"
        }
      ]
    },
    {
      "cell_type": "code",
      "metadata": {
        "id": "Hk6v1Oyen4I0"
      },
      "source": [
        "def get_data(dataset):\n",
        "    '''Load dataset, make vocabulary and determine length of longest sequence'''\n",
        "    data = pd.read_csv(dataset)\n",
        "\n",
        "    data = data.iloc[:,0:].replace(np.nan, '<PAD>')\n",
        "\n",
        "    longest_sequence_length = int(data['Sequence'].str.len().max()) # Find length of longest sequence\n",
        "\n",
        "    # Create vocabulary - set containing all \"conditioning tags\"\n",
        "    vocab = set()\n",
        "    for col in data.columns[:-1]:\n",
        "        vocab.update(data[col])\n",
        "\n",
        "    # Add amino acid one letter code tokens to vocabulary\n",
        "    for seq in data['Sequence']:\n",
        "        seq = list(seq) # Make sequnce a list of amino acids\n",
        "        vocab.update(seq)\n",
        "\n",
        "    # Add \"<PAD>\" and \"<EOS>\" tokens to vocabulary\n",
        "    vocab.update(['<PAD>'])\n",
        "    vocab.update(['<EOS>'])\n",
        "\n",
        "    # Determine the length of the sequence pre the amino acid sequence (conditional tags and null values)\n",
        "    sequence_pre_amino_acids_length = data.shape[1] - 1\n",
        "\n",
        "    return data, vocab, longest_sequence_length, sequence_pre_amino_acids_length"
      ],
      "execution_count": null,
      "outputs": []
    },
    {
      "cell_type": "code",
      "metadata": {
        "id": "wOwDws_ooaFL"
      },
      "source": [
        "def process_data(data, vocab, longest_sequence_length):\n",
        "    '''Create encoder and decoder (between tokens and their IDs) and encode tokens to their IDs'''\n",
        "    # Initialise encoding/decoding dictionaries (mapping between token and its ID)\n",
        "    token_to_id, id_to_token = {}, {}\n",
        "    \n",
        "    # Store special tokens in encoding/decoding dictionaries\n",
        "    token_to_id[\"<PAD>\"] = 0\n",
        "    id_to_token[0] = \"<PAD>\"\n",
        "\n",
        "    token_to_id[\"<EOS>\"] = 1\n",
        "    id_to_token[1] = \"<EOS>\"\n",
        "\n",
        "    # Store remaining tokens from vocabulary in mapping dictionaries\n",
        "    for i, token in enumerate(vocab):\n",
        "        cum_i = len(token_to_id.keys()) # Determine index of current token\n",
        "        if token != \"<PAD>\" and token != \"<EOS>\":\n",
        "            token_to_id[token] = cum_i\n",
        "            id_to_token[cum_i] = token\n",
        "\n",
        "    # Encode tokens with their IDs\n",
        "    data_encoded = [] # Initialise list of encoded records\n",
        "    for record in data.to_numpy():\n",
        "        tags = record[:-1]\n",
        "        sequence = record[-1]\n",
        "        \n",
        "        # Add \"conditioning tag\" IDs to encoding\n",
        "        encoded_record = [token_to_id[tag] for tag in tags]\n",
        "\n",
        "        # Add amino acid sequence IDs to encoding\n",
        "        for char in sequence:\n",
        "            encoded_record.append(token_to_id[char])\n",
        "        \n",
        "        # Add padding (ID = 0) to all records with a sequnce shorter than the longest\n",
        "        # such that all records end up having the same length\n",
        "        if len(sequence) < longest_sequence_length:\n",
        "            for i in range(longest_sequence_length - len(sequence)):\n",
        "                encoded_record.append(0)\n",
        "\n",
        "        data_encoded.append(encoded_record)\n",
        "\n",
        "    data_encoded = np.array(data_encoded) # Convert list of lists to numpy array\n",
        "\n",
        "    return data_encoded, token_to_id, id_to_token"
      ],
      "execution_count": null,
      "outputs": []
    },
    {
      "cell_type": "code",
      "metadata": {
        "id": "K98TytSzIfXr"
      },
      "source": [
        "def sample_categorical(lnprobs, temperature=1.0):\n",
        "    \"\"\"\n",
        "    Sample an element from a categorical distribution\n",
        "    :param lnprobs: Outcome log-probabilities\n",
        "    :param temperature: Sampling temperature. 1.0 follows the given distribution,\n",
        "        0.0 returns the maximum probability element.\n",
        "    :return: The index of the sampled element.\n",
        "    \"\"\"\n",
        "\n",
        "    if temperature == 0.0:\n",
        "        return lnprobs.argmax()\n",
        "    p = F.softmax(lnprobs / temperature, dim=0)\n",
        "    return dist.Categorical(p).sample()\n",
        "\n",
        "def sample_sentence(model, query, max_len = 140, temperature=1):\n",
        "    device = torch.device(\"cuda\" if torch.cuda.is_available() else \"cpu\")\n",
        "    \n",
        "    for _ in range(max_len - len(query)):\n",
        "        #print(_)\n",
        "        query_ = torch.zeros(max_len).to(torch.long)\n",
        "        query_[:len(query)] = query\n",
        "        #print(query_)\n",
        "        #print(make_sequence_from_tokens(query_, id_to_token))\n",
        "        output     = model(query_,1)\n",
        "\n",
        "\n",
        "        #print(output.argmax())\n",
        "        #print(output_test.view(-1, vocab_size))\n",
        "        next_char_idx = sample_categorical(output.view(-1, vocab_size)[len(query) - 1], temperature) #0.5\n",
        "        #print(next_char_idx)\n",
        "\n",
        "        query = query.tolist()\n",
        "        query.append(int(next_char_idx))\n",
        "        query = torch.from_numpy(np.array(query))\n",
        "        if next_char_idx == 1:\n",
        "          break\n",
        "        #print(make_sequence_from_tokens(query, id_to_token))\n",
        "        #print(query.shape)\n",
        "    #plt.figure(figsize=(40,10))\n",
        "    #x_plt=output[:,0,0:10]\n",
        "    #plt.imshow(x_plt.detach().cpu().numpy(), cmap='bwr_r')\n",
        "    #plt.show()\n",
        "    \n",
        "    return query\n",
        "\n",
        "def make_sequence_from_tokens(ids, id_to_token):\n",
        "    sequence = map(lambda x: id_to_token[x], ids.tolist())\n",
        "    return \"\".join(list(sequence))"
      ],
      "execution_count": null,
      "outputs": []
    },
    {
      "cell_type": "code",
      "metadata": {
        "id": "jP97oTGKoeFs"
      },
      "source": [
        "class ProGen(nn.Module):\n",
        "  \n",
        "    def __init__(self, embedding_dimension_size, vocab_size, attention_heads_count, n_layers, feedforward_dimension_size, longest_sequence_length, sequence_pre_amino_acids_length, full_sequence_length):\n",
        "        super().__init__()\n",
        "\n",
        "        self.embedding_dimension_size = embedding_dimension_size # The expected number of features in the input - the size of the embedding dimension\n",
        "        self.feedforward_dimension_size = feedforward_dimension_size # Dimension size of feedforward layer\n",
        "        self.longest_sequence_length = longest_sequence_length\n",
        "        self.sequence_pre_amino_acids_length = sequence_pre_amino_acids_length\n",
        "        self.full_sequence_length = full_sequence_length\n",
        "        self.vocab_size = vocab_size\n",
        "\n",
        "        # Initialise \"token index to embedding look up table\" with size equal to the number of different tokens\n",
        "        self.token_index_to_embedding = nn.Embedding(vocab_size, embedding_dimension_size, padding_idx=0)\n",
        "        # Initialise \"sequence position to embedding look up table\" with size equal to the length of the longest sequence\n",
        "        self.position_to_positional_encoding = self.generate_position_to_positional_encoding_mapping()\n",
        "\n",
        "        # Determine scalar that prevents dot product from becoming too large\n",
        "        self.dot_product_scalar = 1/embedding_dimension_size ** 0.5\n",
        "\n",
        "        self.layer_normalization = nn.LayerNorm(normalized_shape = embedding_dimension_size)\n",
        "        transformer_block = nn.TransformerDecoderLayer(d_model=embedding_dimension_size, nhead=attention_heads_count, dim_feedforward=feedforward_dimension_size, dropout=0)\n",
        "        self.transformer_stack = nn.TransformerDecoder(transformer_block, num_layers=n_layers, norm=self.layer_normalization)\n",
        "        self.fully_connected_layer = nn.Linear(embedding_dimension_size, vocab_size)\n",
        "        #self.toprobs = nn.Linear(embedding_dimension_size, vocab_size)\n",
        "    \n",
        "    def forward(self, x, batch_size):\n",
        "        tgt_mask = self.generate_triangular_mask(self.full_sequence_length)\n",
        "        memory = torch.zeros(self.full_sequence_length, batch_size, self.embedding_dimension_size) # The dimensions might be wrong\n",
        "        position_matrix = self.generate_position_matrix(batch_size)\n",
        "        positional_encodings = self.position_to_positional_encoding[position_matrix.view(-1)].view(batch_size, self.full_sequence_length, self.embedding_dimension_size) # Dimension: batch_size x full_sequence_length x embedding_dimension_size\n",
        "        x = self.token_index_to_embedding(x) # Dimension: batch_size x full_sequence_length x embedding_dimension_size\n",
        "        #print('x before add positional encoding', x.shape)\n",
        "        #print(positional_encodings.shape)\n",
        "        #print(x[0,60:])\n",
        "        x = x + positional_encodings.squeeze(0)\n",
        "        #print(x[0,60:])\n",
        "        #print(positional_encodings[0,60:])\n",
        "        #print('x after add positional encoding', x.shape)\n",
        "        #x = x.permute(1, 0, 2)\n",
        "        x = x.view(self.full_sequence_length, batch_size, self.embedding_dimension_size)\n",
        "        x = self.transformer_stack(x, memory, tgt_mask=tgt_mask) # Dimension for input x must be: full_sequence_length x batch_size x embedding_dimension_size, output has the same dimensions\n",
        "        # Determine token probabilities\n",
        "        x = x.permute(1, 0, 2) # Dimension is now batch_size x full_sequence_length x embedding_dimension_size\n",
        "        x = x.reshape(-1, self.embedding_dimension_size)\n",
        "        x = self.fully_connected_layer(x)\n",
        "        #print(x)\n",
        "        x = x.view(batch_size, self.full_sequence_length, self.vocab_size)\n",
        "        #print(x)\n",
        "        x = F.softmax(x, dim=1)\n",
        "        #print(x)\n",
        "        return x\n",
        "\n",
        "\n",
        "    def generate_triangular_mask(self, size):\n",
        "        ''' Generate a triangular mask for the sequence. The masked positions (upper triangular part) are filled with float('-inf').\n",
        "                  Unmasked positions (lower triangular part) are filled with float(0.0).\n",
        "          '''\n",
        "        mask = torch.triu(torch.full([size, size], - float('inf')), diagonal=1)\n",
        "\n",
        "        return mask\n",
        "            \n",
        "    def generate_complete_mask(self, size):\n",
        "        r\"\"\"Generate a square mask for the sequence. The masked positions are filled with float('-inf').\n",
        "            Unmasked positions are filled with float(0.0).\n",
        "        \"\"\"\n",
        "        mask = torch.empty(size, size)\n",
        "        mask.fill_(float('-inf'))\n",
        "        return mask\n",
        "    \n",
        "    def generate_position_to_positional_encoding_mapping(self):\n",
        "        '''Generate mapping from positions to sinusoid positional encodings'''\n",
        "        # Calculate positional encodings as described in article \"Attention Is All You Need\"\n",
        "        positons = torch.arange(self.longest_sequence_length).unsqueeze(1) # Vector of positions\n",
        "        embedding_dimension_indicies = torch.arange(self.embedding_dimension_size) # Vector of embedding dimension indicies\n",
        "        angle_rates = 1 / torch.pow(10000, 2 * embedding_dimension_indicies/self.embedding_dimension_size)\n",
        "        positional_encodings = torch.mul(positons, angle_rates)\n",
        "        positional_encodings[:, 0::2] = torch.sin(positional_encodings[:, 0::2]) # Encode even dimensions using sine function\n",
        "        positional_encodings[:, 1::2] = torch.cos(positional_encodings[:, 1::2]) # Encode odd dimensions using cosine function\n",
        "        # Add special positional encoding vector with all zeroes (no postional encoding)\n",
        "        positional_encodings = torch.cat([torch.zeros(self.embedding_dimension_size).unsqueeze(0), positional_encodings], dim=0)\n",
        "\n",
        "        return positional_encodings\n",
        "\n",
        "    def generate_position_matrix(self, batch_size):\n",
        "        position_matrix = torch.zeros(batch_size, self.full_sequence_length, dtype=torch.long)\n",
        "\n",
        "        for row_index in range(batch_size):\n",
        "            row = data_encoded[row_index ,self.sequence_pre_amino_acids_length:]\n",
        "            amino_acid_sequence_boolean = row != 0\n",
        "            amino_acid_sequence_length = len(row[amino_acid_sequence_boolean])\n",
        "            positions = torch.arange(1, amino_acid_sequence_length + 1)\n",
        "            position_matrix[row_index ,self.sequence_pre_amino_acids_length:][amino_acid_sequence_boolean] = positions\n",
        "\n",
        "        return position_matrix"
      ],
      "execution_count": null,
      "outputs": []
    },
    {
      "cell_type": "code",
      "metadata": {
        "id": "_k5oLvBfoi8k"
      },
      "source": [
        "file = \"dataset.csv\"\n",
        "\n",
        "data, vocab, longest_sequence_length, sequence_pre_amino_acids_length = get_data(file)\n",
        "data_encoded, token_to_id, id_to_token = process_data(data, vocab, longest_sequence_length)"
      ],
      "execution_count": null,
      "outputs": []
    },
    {
      "cell_type": "code",
      "metadata": {
        "id": "pGUpoHiOomMD"
      },
      "source": [
        "vocab_size = len(vocab)\n",
        "embedding_dimension_size = 32\n",
        "feedforward_dimension_size = 32*4\n",
        "attention_heads_count = 4\n",
        "n_layer= 4\n",
        "full_sequence_length = data_encoded.shape[1]\n",
        "model = ProGen(embedding_dimension_size,\n",
        "               vocab_size,\n",
        "               attention_heads_count,\n",
        "               n_layer,\n",
        "               feedforward_dimension_size,\n",
        "               longest_sequence_length,\n",
        "               sequence_pre_amino_acids_length,\n",
        "               full_sequence_length)"
      ],
      "execution_count": null,
      "outputs": []
    },
    {
      "cell_type": "markdown",
      "metadata": {
        "id": "VnkV2rApVcuO"
      },
      "source": [
        ""
      ]
    },
    {
      "cell_type": "code",
      "metadata": {
        "id": "T-6tNZNZs3CH"
      },
      "source": [
        "data_encode=torch.from_numpy(data_encoded)\n",
        "inputs  = torch.zeros(data_encode.shape[0], full_sequence_length).to(torch.long)\n",
        "targets = torch.zeros(data_encode.shape[0], full_sequence_length).to(torch.long)\n",
        "for i,entry in enumerate(data_encode):\n",
        "  inputs[i,  0:len(entry)] = entry\n",
        "  targets[i, 0:len(entry)-1] = entry[1:]\n",
        "  targets[i, len(entry)-1] = 1  # <EOS> token\n",
        "\n",
        "# Split into train and test dataset\n",
        "combined = torch.stack([inputs, targets], dim=1)\n",
        "train_size = int(0.8 * len(combined))\n",
        "test_size = len(combined) - train_size\n",
        "train_ds, test_ds = torch.utils.data.random_split(combined, [train_size, test_size])\n",
        "train_x, train_y = combined[train_ds.indices][:, 0, :], combined[train_ds.indices][:, 1, :]\n",
        "test_x, test_y   = combined[test_ds.indices][:, 0, :],  combined[test_ds.indices][:, 1, :]\n",
        "tags_end = data.columns.get_loc(\"Sequence\")"
      ],
      "execution_count": null,
      "outputs": []
    },
    {
      "cell_type": "code",
      "metadata": {
        "colab": {
          "base_uri": "https://localhost:8080/",
          "height": 445
        },
        "id": "4Gm9_1_bvAmu",
        "outputId": "1a150d69-920f-4c91-c841-2c86e14dfc48"
      },
      "source": [
        "QUERY = train_x[20,0:tags_end+10]\n",
        "stats = { 'epoch':[], 'train_loss': [], 'train_perplexity': [], 'test_loss': [], 'test_perplexity': [] }\n",
        "batch_size, epochs, clip = 16, 3000, 50\n",
        "\n",
        "opt = torch.optim.Adam(lr=0.01, params=model.parameters())\n",
        "criterion = torch.nn.CrossEntropyLoss(ignore_index=0)\n",
        "for i in range(epochs):\n",
        "    model.train()\n",
        "    opt.zero_grad()\n",
        "    # Sample a random batch of size `batch_size` from the train dataset\n",
        "    #idxs = torch.randint(size=(batch_size,), low=0, high=len(train_x))\n",
        "    idxs = np.random.randint(0, len(train_x), size=(batch_size,))\n",
        "    output = model(train_x[idxs], batch_size)\n",
        "    loss = criterion(output.view(-1, vocab_size), train_y[idxs].view(-1))\n",
        "    nn.utils.clip_grad_norm_(model.parameters(), 50)\n",
        "    loss.backward()\n",
        "    opt.step()\n",
        "    model.eval()\n",
        "    idxs = np.random.randint(0, len(test_x), size=(batch_size,))\n",
        "    output_test = model(test_x[idxs], batch_size)\n",
        "    loss_on_test = criterion(output_test.view(-1, vocab_size), test_y[idxs].view(-1))\n",
        "    perplexity = torch.exp(loss_on_test).item()\n",
        "    # Update the stats and print something.\n",
        "    stats['train_loss'].append(loss.item())\n",
        "    stats['test_loss'].append(loss_on_test.item())\n",
        "    stats['epoch'].append(i)\n",
        "    stats['test_perplexity'].append(perplexity)\n",
        "    if i % 10 == 0:\n",
        "      sampled  = make_sequence_from_tokens(sample_sentence(model, QUERY,\n",
        "                                                           full_sequence_length,\n",
        "                                                           temperature = 1), id_to_token)\n",
        "      print(i, loss.item(), perplexity, sampled)\n",
        "      #plt.figure(figsize=(20,10))\n",
        "  #    x_plt=output[:,0,200:250]\n",
        "      #plt.imshow(x_plt.detach().cpu().numpy(), cmap='bwr_r')\n",
        "      #plt.show()"
      ],
      "execution_count": null,
      "outputs": [
        {
          "output_type": "stream",
          "text": [
            "0 7.221038341522217 1367.619140625 PF00159;<PAD><PAD><PAD><PAD><PAD><PAD><PAD><PAD><PAD><PAD><PAD><PAD><PAD><PAD><PAD><PAD><PAD><PAD><PAD><PAD><PAD><PAD><PAD><PAD><PAD><PAD><PAD><PAD><PAD><PAD><PAD><PAD><PAD><PAD><PAD><PAD><PAD><PAD>GO:0007218GO:0005576GO:0005179<PAD><PAD><PAD><PAD><PAD><PAD><PAD><PAD><PAD> KW-0964 KW-0732KW-0527EukaryotaMetazoaChordataActinopteriSiluriformes (catfishes)Bagridae (bagrid catfishes)Tachysurus vachellii (Darkbarbel catfish) (Pelteobagrus vachellii)TachysurusMRLRANVCVGSpheniscidae (penguins)Hypophthalmichthys molitrix (Silver carp) (Leuciscus molitrix)ParamormyropsCalypte anna (Anna's hummingbird) (Archilochus anna)CrocutaRhinopithecus roxellana (Golden snub-nosed monkey) (Pygathrix roxellana)RhinogobiusCanis lupus (Gray wolf)GO:0032094CastorPeriophthalmusSemionotiformesTetraodonGO:0071821Anabarilius grahami (Kanglang fish) (Barilius grahami)Marmota monax (Woodchuck)Hylobatidae (gibbons)Cuculus canorus (common cuckoo)Lates calcarifer (Barramundi) (Holocentrus calcarifer)Orectolobiformes (carpet sharks)Pseudopleuronectes yokohamae (marbled flounder)Trachemys scripta (Red-eared slider turtle) (Pseudemys scripta)GO:0014049Hyporthodus septemfasciatus (Convict grouper) (Epinephelus septemfasciatus)KW-0472CarlitoLonchura (mannikins)Camelus ferus (Wild bactrian camel) (Camelus bactrianus ferus)Colobus (black-and-white colobus monkeys)Cyprinodontidae (killifishes)Phyllostomidae (leaf-nosed bats)Latimeria chalumnae (Coelacanth)TauracoAmbystoma mexicanum (Axolotl)KW-0472Kurtiformes (nursery fishes and cardinalfishes)PelodiscusRhinolophus ferrumequinum (Greater horseshoe bat)EtheostomaKW-1185GasterosteusCollichthysGO:0021954Ooceraea biroi (Clonal raider ant) (Cerapachys biroi)MacrostomidaPloimaSpodoptera exigua (Beet armyworm) (Noctua fulgens)ClariasMesocestoididaeCallithrix jacchus (White-tufted-ear marmoset)Cichliformes (cichlids and convict blennies)KW-0282Osmeridae (smelts) KW-0025Crocodylia (alligators and others)DanioSphaeramiaPhoenicopteridae (flamingos)Didelphidae (opossums)Mastacembelus armatus (zig-zag eel)Molidae (molas)Monodelphis (short-tailed opossums)Cariama cristata (Red-legged seriema)Columbiformes (pigeons and others)HeteromyidaeAstyanax mexicanus (Blind cave fish) (Astyanax fasciatus mexicanus)OncopeltusPlautiaChannaStrigidaeViperaPseudonaja textilis (Eastern brown snake)GO:0005524Hypophthalmichthys molitrix (Silver carp) (Leuciscus molitrix)PipridaePhaethon lepturus (White-tailed tropicbird)Fasciola hepatica (Liver fluke)Macaca fascicularis (Crab-eating macaque) (Cynomolgus monkey)SalmoCricetidaeRajidae (hardnose skates)Gadus morhua (Atlantic cod)Erinaceidae (hedgehogs)GO:0001664Pygoscelis adeliae (Adelie penguin)CharadriiformesCamelus ferus (Wild bactrian camel) (Camelus bactrianus ferus)Tetraodon nigroviridis (Spotted green pufferfish) (Chelonodon nigroviridis)KW-0732Taeniopygia guttata (Zebra finch) (Poephila guttata)Channa argus (northern snakehead)GO:0045202StegastesIsopoda (pill bugs, wood lice and sea slaters)ChlorocebusMammaliaPempheriformes KW-0582CrocutaCuculidae (cuckoos)Lepidothrix coronata (blue-crowned manakin)Astatotilapia calliptera (Eastern happy) (Chromis callipterus)DanionellaGruiformesMustela putorius (European polecat)Ctenopharyngodon idella (Grass carp) (Leuciscus idella)Oryzias latipes (Japanese rice fish) (Japanese killifish)AustrofundulusPapio (baboons)Sphaeramia orbicularis (orbiculate cardinalfish)\n",
            "10 7.217387676239014 1358.8714599609375 PF00159;<PAD><PAD><PAD><PAD><PAD><PAD><PAD><PAD><PAD><PAD><PAD><PAD><PAD><PAD><PAD><PAD><PAD><PAD><PAD><PAD><PAD><PAD><PAD><PAD><PAD><PAD><PAD><PAD><PAD><PAD><PAD><PAD><PAD><PAD><PAD><PAD><PAD><PAD>GO:0007218GO:0005576GO:0005179<PAD><PAD><PAD><PAD><PAD><PAD><PAD><PAD><PAD> KW-0964 KW-0732KW-0527EukaryotaMetazoaChordataActinopteriSiluriformes (catfishes)Bagridae (bagrid catfishes)Tachysurus vachellii (Darkbarbel catfish) (Pelteobagrus vachellii)TachysurusMRLRANVCVGAraneidae (orb weavers)GraphocephalaStylommatophora (land snails)ChrysochlorisCarangidae (jacks)GO:0032094LithobatesStrigidaeBrachionus plicatilis (Marine rotifer) (Brachionus muelleri)Megalobrama amblycephala (Chinese blunt snout bream) (Brema carp)Spodoptera exigua (Beet armyworm) (Noctua fulgens)Egretta (plumed egrets)TetraodonAplysiaKW-0067PteropusSisoridae (sisorid catfishes)Squalus acanthias (Spiny dogfish)Phoenicopteriformes (flamingos)Brachionus plicatilis (Marine rotifer) (Brachionus muelleri)Papilio machaon (Old World swallowtail butterfly)PoeciliopsisMyripristisSinocyclocheilus anshuiensisHymenolepisMeiacanthusStrigeididaGO:0006915IchthyomyzonLabridae (wrasses)Poecilia mexicanaPerca flavescens (American yellow perch) (Morone flavescens)LagomorphaLeucopsarionCallorhinusDipodomys (kangaroo rats)Odobenidae (walruses)InsectaGO:0048545ExodonNilaparvataPlanorbidaeGobiiformes (gobies and sleepers)GO:0050909Squamata (squamates)GO:0071878Ovis aries (Sheep)GO:1901215CariamaDiprotodontiaSparganum proliferum KW-0418Penaeus vannamei (Whiteleg shrimp) (Litopenaeus vannamei)Propithecus (sifakas)MylopharyngodonKurtiformes (nursery fishes and cardinalfishes)Xiphophorus couchianus (Monterrey platyfish)CallorhinchusPF07714;PF03002;NototheniaAnuraGO:0043204Elephantidae (elephants)Chelonia mydas (Green sea-turtle) (Chelonia agassizi)Echinococcus granulosus (Hydatid tapeworm)CyclophyllideaLoxodontaGaviidae (loons)GO:0045087Isotomidae (smooth springtails)AythyaOpisthorchiidaBos indicus x Bos taurus (Hybrid cattle)NothobranchiusUrsus americanus (American black bear) (Euarctos americanus)StrigeididaAnolis carolinensis (Green anole) (American chameleon)RhinogobiusHyperoartiaGO:0045938Varanidae (monitors)Monotremata (egg-laying mammals)GO:0043203ThunnusChanos chanos (Milkfish) (Mugil chanos)Mola mola (Ocean sunfish) (Tetraodon mola)Fundulus heteroclitus (Killifish) (Mummichog)Esox lucius (Northern pike)Calypte anna (Anna's hummingbird) (Archilochus anna)Enhydra lutris (Sea otter)Tupaiidae (tree shrews)GO:0007205KW-0472Poeciliopsis prolifica (blackstripe livebearer)HeterocephalusAplysiaMyxocyprinusHyporthodus septemfasciatus (Convict grouper) (Epinephelus septemfasciatus)Delphinapterus leucas (Beluga whale)Gulo gulo (Wolverine) (Gluton)Lepidoptera (butterflies and moths)BryconidaeScyliorhinus torazame (Cloudy catshark)MesitornithidaeAcipenser transmontanus (White sturgeon)Pyralidae (snout moths)OryctolagusFasciolaRhodniusTrachemys scripta (Red-eared slider turtle) (Pseudemys scripta)\n",
            "20 7.215144157409668 1360.59033203125 PF00159;<PAD><PAD><PAD><PAD><PAD><PAD><PAD><PAD><PAD><PAD><PAD><PAD><PAD><PAD><PAD><PAD><PAD><PAD><PAD><PAD><PAD><PAD><PAD><PAD><PAD><PAD><PAD><PAD><PAD><PAD><PAD><PAD><PAD><PAD><PAD><PAD><PAD><PAD>GO:0007218GO:0005576GO:0005179<PAD><PAD><PAD><PAD><PAD><PAD><PAD><PAD><PAD> KW-0964 KW-0732KW-0527EukaryotaMetazoaChordataActinopteriSiluriformes (catfishes)Bagridae (bagrid catfishes)Tachysurus vachellii (Darkbarbel catfish) (Pelteobagrus vachellii)TachysurusMRLRANVCVGLaodelphax striatellus (Small brown planthopper) (Delphax striatella)Hyaenidae (hyaenas)GO:1904000Pteropus alecto (Black flying fox)Larimichthys crocea (Large yellow croaker) (Pseudosciaena crocea)Rotifera (rotifers)ChlorocebusLiparis tanakae (Tanaka's snailfish)Mastacembelus armatus (zig-zag eel)LarimichthysDasyuridaeTyphlonectesBathyergidae (African mole-rats)SphaeramiaCrassostreaCypriniformes (carps and others)PipridaeNeotoma lepida (Desert woodrat)SalmoCavia (guinea pigs)CharaciformesDecapodaLatimeria chalumnae (Coelacanth)GO:0004674Gruidae (cranes)PlatysternidaeGadiformes (cods and others)HyporthodusAnas (ducks)Peromyscus maniculatus (North American deer mouse)OrnithorhynchusMicropterus salmoides (Largemouth bass) (Labrus salmoides)Pantodon buchholzi (Freshwater butterflyfish)VombatusCarlitoCanisConusMormyridae (elephantfishes)Lepidothrix coronata (blue-crowned manakin)Lipotes vexillifer (Yangtze river dolphin)SoleaBiomphalaria glabrata (Bloodfluke planorb) (Freshwater snail)Pomacentridae (damselfishes)Scylla paramamosain (Mud crab)ScophthalmidaeArvicanthis ansorgei (Sudanian grass rat)ElapidaeNilaparvata lugens (Brown planthopper)AccipitridaeReduviidae (assassin bugs)OdontophoridaeHylobatidae (gibbons)TinamidaeCamponotus floridanus (Florida carpenter ant)MicropterusStrigamiaMacaca (macaques)OpisthorchiidaePF00918;AlligatorGO:0030334Lynx pardinus (Iberian lynx) (Felis pardina)Chimaeriformes (chimaeras)Trichechus manatus (Caribbean manatee) (West Indian manatee)PatagioenasGO:0010243MuridaeCuernaPenaeus vannamei (Whiteleg shrimp) (Litopenaeus vannamei)Ctenopharyngodon idella (Grass carp) (Leuciscus idella)Cheilinus KW-1267Coilia nasus (Japanese grenadier anchovy)CallorhinusHyporthodusMyotis brandtii (Brandt's bat)Bagridae (bagrid catfishes)BrachionusMaylandia zebra (zebra mbuna)GO:0048471Geospiza fortis (Medium ground-finch)Leucoraja ocellata (Winter skate) (Raja ocellata)MonogonontaPteropodidae (flying foxes)GaviaSalmoniformes (salmons and trouts)Acipenser ruthenus (Sterlet sturgeon)Rajidae (hardnose skates)Chlorocebus sabaeus (Green monkey) (Cercopithecus sabaeus)Hominidae (great apes)CharadriidaeKW-0067Echinococcus granulosus (Hydatid tapeworm)Pentatomidae (stink bugs)Cydia pomonella (Codling moth)Penaeus marginatusCrocodylia (alligators and others)DiprotodontiaSalmoniformes (salmons and trouts)EsoxVaranidae (monitors)SchmidteaSparganumKW-1185BombyxPogonaCyprinodon variegatus (Sheepshead minnow)Portunidae (swimming crabs)AnabariliusOdobenidae (walruses)\n"
          ],
          "name": "stdout"
        },
        {
          "output_type": "error",
          "ename": "KeyboardInterrupt",
          "evalue": "ignored",
          "traceback": [
            "\u001b[0;31m---------------------------------------------------------------------------\u001b[0m",
            "\u001b[0;31mKeyboardInterrupt\u001b[0m                         Traceback (most recent call last)",
            "\u001b[0;32m<ipython-input-13-1a010651bb21>\u001b[0m in \u001b[0;36m<module>\u001b[0;34m()\u001b[0m\n\u001b[1;32m     18\u001b[0m     \u001b[0mmodel\u001b[0m\u001b[0;34m.\u001b[0m\u001b[0meval\u001b[0m\u001b[0;34m(\u001b[0m\u001b[0;34m)\u001b[0m\u001b[0;34m\u001b[0m\u001b[0;34m\u001b[0m\u001b[0m\n\u001b[1;32m     19\u001b[0m     \u001b[0midxs\u001b[0m \u001b[0;34m=\u001b[0m \u001b[0mnp\u001b[0m\u001b[0;34m.\u001b[0m\u001b[0mrandom\u001b[0m\u001b[0;34m.\u001b[0m\u001b[0mrandint\u001b[0m\u001b[0;34m(\u001b[0m\u001b[0;36m0\u001b[0m\u001b[0;34m,\u001b[0m \u001b[0mlen\u001b[0m\u001b[0;34m(\u001b[0m\u001b[0mtest_x\u001b[0m\u001b[0;34m)\u001b[0m\u001b[0;34m,\u001b[0m \u001b[0msize\u001b[0m\u001b[0;34m=\u001b[0m\u001b[0;34m(\u001b[0m\u001b[0mbatch_size\u001b[0m\u001b[0;34m,\u001b[0m\u001b[0;34m)\u001b[0m\u001b[0;34m)\u001b[0m\u001b[0;34m\u001b[0m\u001b[0;34m\u001b[0m\u001b[0m\n\u001b[0;32m---> 20\u001b[0;31m     \u001b[0moutput_test\u001b[0m \u001b[0;34m=\u001b[0m \u001b[0mmodel\u001b[0m\u001b[0;34m(\u001b[0m\u001b[0mtest_x\u001b[0m\u001b[0;34m[\u001b[0m\u001b[0midxs\u001b[0m\u001b[0;34m]\u001b[0m\u001b[0;34m,\u001b[0m \u001b[0mbatch_size\u001b[0m\u001b[0;34m)\u001b[0m\u001b[0;34m\u001b[0m\u001b[0;34m\u001b[0m\u001b[0m\n\u001b[0m\u001b[1;32m     21\u001b[0m     \u001b[0mloss_on_test\u001b[0m \u001b[0;34m=\u001b[0m \u001b[0mcriterion\u001b[0m\u001b[0;34m(\u001b[0m\u001b[0moutput_test\u001b[0m\u001b[0;34m.\u001b[0m\u001b[0mview\u001b[0m\u001b[0;34m(\u001b[0m\u001b[0;34m-\u001b[0m\u001b[0;36m1\u001b[0m\u001b[0;34m,\u001b[0m \u001b[0mvocab_size\u001b[0m\u001b[0;34m)\u001b[0m\u001b[0;34m,\u001b[0m \u001b[0mtest_y\u001b[0m\u001b[0;34m[\u001b[0m\u001b[0midxs\u001b[0m\u001b[0;34m]\u001b[0m\u001b[0;34m.\u001b[0m\u001b[0mview\u001b[0m\u001b[0;34m(\u001b[0m\u001b[0;34m-\u001b[0m\u001b[0;36m1\u001b[0m\u001b[0;34m)\u001b[0m\u001b[0;34m)\u001b[0m\u001b[0;34m\u001b[0m\u001b[0;34m\u001b[0m\u001b[0m\n\u001b[1;32m     22\u001b[0m     \u001b[0mperplexity\u001b[0m \u001b[0;34m=\u001b[0m \u001b[0mtorch\u001b[0m\u001b[0;34m.\u001b[0m\u001b[0mexp\u001b[0m\u001b[0;34m(\u001b[0m\u001b[0mloss_on_test\u001b[0m\u001b[0;34m)\u001b[0m\u001b[0;34m.\u001b[0m\u001b[0mitem\u001b[0m\u001b[0;34m(\u001b[0m\u001b[0;34m)\u001b[0m\u001b[0;34m\u001b[0m\u001b[0;34m\u001b[0m\u001b[0m\n",
            "\u001b[0;32m/usr/local/lib/python3.6/dist-packages/torch/nn/modules/module.py\u001b[0m in \u001b[0;36m_call_impl\u001b[0;34m(self, *input, **kwargs)\u001b[0m\n\u001b[1;32m    725\u001b[0m             \u001b[0mresult\u001b[0m \u001b[0;34m=\u001b[0m \u001b[0mself\u001b[0m\u001b[0;34m.\u001b[0m\u001b[0m_slow_forward\u001b[0m\u001b[0;34m(\u001b[0m\u001b[0;34m*\u001b[0m\u001b[0minput\u001b[0m\u001b[0;34m,\u001b[0m \u001b[0;34m**\u001b[0m\u001b[0mkwargs\u001b[0m\u001b[0;34m)\u001b[0m\u001b[0;34m\u001b[0m\u001b[0;34m\u001b[0m\u001b[0m\n\u001b[1;32m    726\u001b[0m         \u001b[0;32melse\u001b[0m\u001b[0;34m:\u001b[0m\u001b[0;34m\u001b[0m\u001b[0;34m\u001b[0m\u001b[0m\n\u001b[0;32m--> 727\u001b[0;31m             \u001b[0mresult\u001b[0m \u001b[0;34m=\u001b[0m \u001b[0mself\u001b[0m\u001b[0;34m.\u001b[0m\u001b[0mforward\u001b[0m\u001b[0;34m(\u001b[0m\u001b[0;34m*\u001b[0m\u001b[0minput\u001b[0m\u001b[0;34m,\u001b[0m \u001b[0;34m**\u001b[0m\u001b[0mkwargs\u001b[0m\u001b[0;34m)\u001b[0m\u001b[0;34m\u001b[0m\u001b[0;34m\u001b[0m\u001b[0m\n\u001b[0m\u001b[1;32m    728\u001b[0m         for hook in itertools.chain(\n\u001b[1;32m    729\u001b[0m                 \u001b[0m_global_forward_hooks\u001b[0m\u001b[0;34m.\u001b[0m\u001b[0mvalues\u001b[0m\u001b[0;34m(\u001b[0m\u001b[0;34m)\u001b[0m\u001b[0;34m,\u001b[0m\u001b[0;34m\u001b[0m\u001b[0;34m\u001b[0m\u001b[0m\n",
            "\u001b[0;32m<ipython-input-8-7e48af7686d7>\u001b[0m in \u001b[0;36mforward\u001b[0;34m(self, x, batch_size)\u001b[0m\n\u001b[1;32m     40\u001b[0m         \u001b[0;31m#x = x.permute(1, 0, 2)\u001b[0m\u001b[0;34m\u001b[0m\u001b[0;34m\u001b[0m\u001b[0;34m\u001b[0m\u001b[0m\n\u001b[1;32m     41\u001b[0m         \u001b[0mx\u001b[0m \u001b[0;34m=\u001b[0m \u001b[0mx\u001b[0m\u001b[0;34m.\u001b[0m\u001b[0mview\u001b[0m\u001b[0;34m(\u001b[0m\u001b[0mself\u001b[0m\u001b[0;34m.\u001b[0m\u001b[0mfull_sequence_length\u001b[0m\u001b[0;34m,\u001b[0m \u001b[0mbatch_size\u001b[0m\u001b[0;34m,\u001b[0m \u001b[0mself\u001b[0m\u001b[0;34m.\u001b[0m\u001b[0membedding_dimension_size\u001b[0m\u001b[0;34m)\u001b[0m\u001b[0;34m\u001b[0m\u001b[0;34m\u001b[0m\u001b[0m\n\u001b[0;32m---> 42\u001b[0;31m         \u001b[0mx\u001b[0m \u001b[0;34m=\u001b[0m \u001b[0mself\u001b[0m\u001b[0;34m.\u001b[0m\u001b[0mtransformer_stack\u001b[0m\u001b[0;34m(\u001b[0m\u001b[0mx\u001b[0m\u001b[0;34m,\u001b[0m \u001b[0mmemory\u001b[0m\u001b[0;34m,\u001b[0m \u001b[0mtgt_mask\u001b[0m\u001b[0;34m=\u001b[0m\u001b[0mtgt_mask\u001b[0m\u001b[0;34m)\u001b[0m \u001b[0;31m# Dimension for input x must be: full_sequence_length x batch_size x embedding_dimension_size, output has the same dimensions\u001b[0m\u001b[0;34m\u001b[0m\u001b[0;34m\u001b[0m\u001b[0m\n\u001b[0m\u001b[1;32m     43\u001b[0m         \u001b[0;31m# Determine token probabilities\u001b[0m\u001b[0;34m\u001b[0m\u001b[0;34m\u001b[0m\u001b[0;34m\u001b[0m\u001b[0m\n\u001b[1;32m     44\u001b[0m         \u001b[0mx\u001b[0m \u001b[0;34m=\u001b[0m \u001b[0mx\u001b[0m\u001b[0;34m.\u001b[0m\u001b[0mpermute\u001b[0m\u001b[0;34m(\u001b[0m\u001b[0;36m1\u001b[0m\u001b[0;34m,\u001b[0m \u001b[0;36m0\u001b[0m\u001b[0;34m,\u001b[0m \u001b[0;36m2\u001b[0m\u001b[0;34m)\u001b[0m \u001b[0;31m# Dimension is now batch_size x full_sequence_length x embedding_dimension_size\u001b[0m\u001b[0;34m\u001b[0m\u001b[0;34m\u001b[0m\u001b[0m\n",
            "\u001b[0;32m/usr/local/lib/python3.6/dist-packages/torch/nn/modules/module.py\u001b[0m in \u001b[0;36m_call_impl\u001b[0;34m(self, *input, **kwargs)\u001b[0m\n\u001b[1;32m    725\u001b[0m             \u001b[0mresult\u001b[0m \u001b[0;34m=\u001b[0m \u001b[0mself\u001b[0m\u001b[0;34m.\u001b[0m\u001b[0m_slow_forward\u001b[0m\u001b[0;34m(\u001b[0m\u001b[0;34m*\u001b[0m\u001b[0minput\u001b[0m\u001b[0;34m,\u001b[0m \u001b[0;34m**\u001b[0m\u001b[0mkwargs\u001b[0m\u001b[0;34m)\u001b[0m\u001b[0;34m\u001b[0m\u001b[0;34m\u001b[0m\u001b[0m\n\u001b[1;32m    726\u001b[0m         \u001b[0;32melse\u001b[0m\u001b[0;34m:\u001b[0m\u001b[0;34m\u001b[0m\u001b[0;34m\u001b[0m\u001b[0m\n\u001b[0;32m--> 727\u001b[0;31m             \u001b[0mresult\u001b[0m \u001b[0;34m=\u001b[0m \u001b[0mself\u001b[0m\u001b[0;34m.\u001b[0m\u001b[0mforward\u001b[0m\u001b[0;34m(\u001b[0m\u001b[0;34m*\u001b[0m\u001b[0minput\u001b[0m\u001b[0;34m,\u001b[0m \u001b[0;34m**\u001b[0m\u001b[0mkwargs\u001b[0m\u001b[0;34m)\u001b[0m\u001b[0;34m\u001b[0m\u001b[0;34m\u001b[0m\u001b[0m\n\u001b[0m\u001b[1;32m    728\u001b[0m         for hook in itertools.chain(\n\u001b[1;32m    729\u001b[0m                 \u001b[0m_global_forward_hooks\u001b[0m\u001b[0;34m.\u001b[0m\u001b[0mvalues\u001b[0m\u001b[0;34m(\u001b[0m\u001b[0;34m)\u001b[0m\u001b[0;34m,\u001b[0m\u001b[0;34m\u001b[0m\u001b[0;34m\u001b[0m\u001b[0m\n",
            "\u001b[0;32m/usr/local/lib/python3.6/dist-packages/torch/nn/modules/transformer.py\u001b[0m in \u001b[0;36mforward\u001b[0;34m(self, tgt, memory, tgt_mask, memory_mask, tgt_key_padding_mask, memory_key_padding_mask)\u001b[0m\n\u001b[1;32m    232\u001b[0m                          \u001b[0mmemory_mask\u001b[0m\u001b[0;34m=\u001b[0m\u001b[0mmemory_mask\u001b[0m\u001b[0;34m,\u001b[0m\u001b[0;34m\u001b[0m\u001b[0;34m\u001b[0m\u001b[0m\n\u001b[1;32m    233\u001b[0m                          \u001b[0mtgt_key_padding_mask\u001b[0m\u001b[0;34m=\u001b[0m\u001b[0mtgt_key_padding_mask\u001b[0m\u001b[0;34m,\u001b[0m\u001b[0;34m\u001b[0m\u001b[0;34m\u001b[0m\u001b[0m\n\u001b[0;32m--> 234\u001b[0;31m                          memory_key_padding_mask=memory_key_padding_mask)\n\u001b[0m\u001b[1;32m    235\u001b[0m \u001b[0;34m\u001b[0m\u001b[0m\n\u001b[1;32m    236\u001b[0m         \u001b[0;32mif\u001b[0m \u001b[0mself\u001b[0m\u001b[0;34m.\u001b[0m\u001b[0mnorm\u001b[0m \u001b[0;32mis\u001b[0m \u001b[0;32mnot\u001b[0m \u001b[0;32mNone\u001b[0m\u001b[0;34m:\u001b[0m\u001b[0;34m\u001b[0m\u001b[0;34m\u001b[0m\u001b[0m\n",
            "\u001b[0;32m/usr/local/lib/python3.6/dist-packages/torch/nn/modules/module.py\u001b[0m in \u001b[0;36m_call_impl\u001b[0;34m(self, *input, **kwargs)\u001b[0m\n\u001b[1;32m    725\u001b[0m             \u001b[0mresult\u001b[0m \u001b[0;34m=\u001b[0m \u001b[0mself\u001b[0m\u001b[0;34m.\u001b[0m\u001b[0m_slow_forward\u001b[0m\u001b[0;34m(\u001b[0m\u001b[0;34m*\u001b[0m\u001b[0minput\u001b[0m\u001b[0;34m,\u001b[0m \u001b[0;34m**\u001b[0m\u001b[0mkwargs\u001b[0m\u001b[0;34m)\u001b[0m\u001b[0;34m\u001b[0m\u001b[0;34m\u001b[0m\u001b[0m\n\u001b[1;32m    726\u001b[0m         \u001b[0;32melse\u001b[0m\u001b[0;34m:\u001b[0m\u001b[0;34m\u001b[0m\u001b[0;34m\u001b[0m\u001b[0m\n\u001b[0;32m--> 727\u001b[0;31m             \u001b[0mresult\u001b[0m \u001b[0;34m=\u001b[0m \u001b[0mself\u001b[0m\u001b[0;34m.\u001b[0m\u001b[0mforward\u001b[0m\u001b[0;34m(\u001b[0m\u001b[0;34m*\u001b[0m\u001b[0minput\u001b[0m\u001b[0;34m,\u001b[0m \u001b[0;34m**\u001b[0m\u001b[0mkwargs\u001b[0m\u001b[0;34m)\u001b[0m\u001b[0;34m\u001b[0m\u001b[0;34m\u001b[0m\u001b[0m\n\u001b[0m\u001b[1;32m    728\u001b[0m         for hook in itertools.chain(\n\u001b[1;32m    729\u001b[0m                 \u001b[0m_global_forward_hooks\u001b[0m\u001b[0;34m.\u001b[0m\u001b[0mvalues\u001b[0m\u001b[0;34m(\u001b[0m\u001b[0;34m)\u001b[0m\u001b[0;34m,\u001b[0m\u001b[0;34m\u001b[0m\u001b[0;34m\u001b[0m\u001b[0m\n",
            "\u001b[0;32m/usr/local/lib/python3.6/dist-packages/torch/nn/modules/transformer.py\u001b[0m in \u001b[0;36mforward\u001b[0;34m(self, tgt, memory, tgt_mask, memory_mask, tgt_key_padding_mask, memory_key_padding_mask)\u001b[0m\n\u001b[1;32m    366\u001b[0m         \u001b[0mtgt\u001b[0m \u001b[0;34m=\u001b[0m \u001b[0mself\u001b[0m\u001b[0;34m.\u001b[0m\u001b[0mnorm1\u001b[0m\u001b[0;34m(\u001b[0m\u001b[0mtgt\u001b[0m\u001b[0;34m)\u001b[0m\u001b[0;34m\u001b[0m\u001b[0;34m\u001b[0m\u001b[0m\n\u001b[1;32m    367\u001b[0m         tgt2 = self.multihead_attn(tgt, memory, memory, attn_mask=memory_mask,\n\u001b[0;32m--> 368\u001b[0;31m                                    key_padding_mask=memory_key_padding_mask)[0]\n\u001b[0m\u001b[1;32m    369\u001b[0m         \u001b[0mtgt\u001b[0m \u001b[0;34m=\u001b[0m \u001b[0mtgt\u001b[0m \u001b[0;34m+\u001b[0m \u001b[0mself\u001b[0m\u001b[0;34m.\u001b[0m\u001b[0mdropout2\u001b[0m\u001b[0;34m(\u001b[0m\u001b[0mtgt2\u001b[0m\u001b[0;34m)\u001b[0m\u001b[0;34m\u001b[0m\u001b[0;34m\u001b[0m\u001b[0m\n\u001b[1;32m    370\u001b[0m         \u001b[0mtgt\u001b[0m \u001b[0;34m=\u001b[0m \u001b[0mself\u001b[0m\u001b[0;34m.\u001b[0m\u001b[0mnorm2\u001b[0m\u001b[0;34m(\u001b[0m\u001b[0mtgt\u001b[0m\u001b[0;34m)\u001b[0m\u001b[0;34m\u001b[0m\u001b[0;34m\u001b[0m\u001b[0m\n",
            "\u001b[0;32m/usr/local/lib/python3.6/dist-packages/torch/nn/modules/module.py\u001b[0m in \u001b[0;36m_call_impl\u001b[0;34m(self, *input, **kwargs)\u001b[0m\n\u001b[1;32m    725\u001b[0m             \u001b[0mresult\u001b[0m \u001b[0;34m=\u001b[0m \u001b[0mself\u001b[0m\u001b[0;34m.\u001b[0m\u001b[0m_slow_forward\u001b[0m\u001b[0;34m(\u001b[0m\u001b[0;34m*\u001b[0m\u001b[0minput\u001b[0m\u001b[0;34m,\u001b[0m \u001b[0;34m**\u001b[0m\u001b[0mkwargs\u001b[0m\u001b[0;34m)\u001b[0m\u001b[0;34m\u001b[0m\u001b[0;34m\u001b[0m\u001b[0m\n\u001b[1;32m    726\u001b[0m         \u001b[0;32melse\u001b[0m\u001b[0;34m:\u001b[0m\u001b[0;34m\u001b[0m\u001b[0;34m\u001b[0m\u001b[0m\n\u001b[0;32m--> 727\u001b[0;31m             \u001b[0mresult\u001b[0m \u001b[0;34m=\u001b[0m \u001b[0mself\u001b[0m\u001b[0;34m.\u001b[0m\u001b[0mforward\u001b[0m\u001b[0;34m(\u001b[0m\u001b[0;34m*\u001b[0m\u001b[0minput\u001b[0m\u001b[0;34m,\u001b[0m \u001b[0;34m**\u001b[0m\u001b[0mkwargs\u001b[0m\u001b[0;34m)\u001b[0m\u001b[0;34m\u001b[0m\u001b[0;34m\u001b[0m\u001b[0m\n\u001b[0m\u001b[1;32m    728\u001b[0m         for hook in itertools.chain(\n\u001b[1;32m    729\u001b[0m                 \u001b[0m_global_forward_hooks\u001b[0m\u001b[0;34m.\u001b[0m\u001b[0mvalues\u001b[0m\u001b[0;34m(\u001b[0m\u001b[0;34m)\u001b[0m\u001b[0;34m,\u001b[0m\u001b[0;34m\u001b[0m\u001b[0;34m\u001b[0m\u001b[0m\n",
            "\u001b[0;32m/usr/local/lib/python3.6/dist-packages/torch/nn/modules/activation.py\u001b[0m in \u001b[0;36mforward\u001b[0;34m(self, query, key, value, key_padding_mask, need_weights, attn_mask)\u001b[0m\n\u001b[1;32m    983\u001b[0m                 \u001b[0mtraining\u001b[0m\u001b[0;34m=\u001b[0m\u001b[0mself\u001b[0m\u001b[0;34m.\u001b[0m\u001b[0mtraining\u001b[0m\u001b[0;34m,\u001b[0m\u001b[0;34m\u001b[0m\u001b[0;34m\u001b[0m\u001b[0m\n\u001b[1;32m    984\u001b[0m                 \u001b[0mkey_padding_mask\u001b[0m\u001b[0;34m=\u001b[0m\u001b[0mkey_padding_mask\u001b[0m\u001b[0;34m,\u001b[0m \u001b[0mneed_weights\u001b[0m\u001b[0;34m=\u001b[0m\u001b[0mneed_weights\u001b[0m\u001b[0;34m,\u001b[0m\u001b[0;34m\u001b[0m\u001b[0;34m\u001b[0m\u001b[0m\n\u001b[0;32m--> 985\u001b[0;31m                 attn_mask=attn_mask)\n\u001b[0m\u001b[1;32m    986\u001b[0m \u001b[0;34m\u001b[0m\u001b[0m\n\u001b[1;32m    987\u001b[0m \u001b[0;34m\u001b[0m\u001b[0m\n",
            "\u001b[0;32m/usr/local/lib/python3.6/dist-packages/torch/nn/functional.py\u001b[0m in \u001b[0;36mmulti_head_attention_forward\u001b[0;34m(query, key, value, embed_dim_to_check, num_heads, in_proj_weight, in_proj_bias, bias_k, bias_v, add_zero_attn, dropout_p, out_proj_weight, out_proj_bias, training, key_padding_mask, need_weights, attn_mask, use_separate_proj_weight, q_proj_weight, k_proj_weight, v_proj_weight, static_k, static_v)\u001b[0m\n\u001b[1;32m   4311\u001b[0m \u001b[0;34m\u001b[0m\u001b[0m\n\u001b[1;32m   4312\u001b[0m     attn_output_weights = softmax(\n\u001b[0;32m-> 4313\u001b[0;31m         attn_output_weights, dim=-1)\n\u001b[0m\u001b[1;32m   4314\u001b[0m     \u001b[0mattn_output_weights\u001b[0m \u001b[0;34m=\u001b[0m \u001b[0mdropout\u001b[0m\u001b[0;34m(\u001b[0m\u001b[0mattn_output_weights\u001b[0m\u001b[0;34m,\u001b[0m \u001b[0mp\u001b[0m\u001b[0;34m=\u001b[0m\u001b[0mdropout_p\u001b[0m\u001b[0;34m,\u001b[0m \u001b[0mtraining\u001b[0m\u001b[0;34m=\u001b[0m\u001b[0mtraining\u001b[0m\u001b[0;34m)\u001b[0m\u001b[0;34m\u001b[0m\u001b[0;34m\u001b[0m\u001b[0m\n\u001b[1;32m   4315\u001b[0m \u001b[0;34m\u001b[0m\u001b[0m\n",
            "\u001b[0;32m/usr/local/lib/python3.6/dist-packages/torch/nn/functional.py\u001b[0m in \u001b[0;36msoftmax\u001b[0;34m(input, dim, _stacklevel, dtype)\u001b[0m\n\u001b[1;32m   1510\u001b[0m         \u001b[0mdim\u001b[0m \u001b[0;34m=\u001b[0m \u001b[0m_get_softmax_dim\u001b[0m\u001b[0;34m(\u001b[0m\u001b[0;34m'softmax'\u001b[0m\u001b[0;34m,\u001b[0m \u001b[0minput\u001b[0m\u001b[0;34m.\u001b[0m\u001b[0mdim\u001b[0m\u001b[0;34m(\u001b[0m\u001b[0;34m)\u001b[0m\u001b[0;34m,\u001b[0m \u001b[0m_stacklevel\u001b[0m\u001b[0;34m)\u001b[0m\u001b[0;34m\u001b[0m\u001b[0;34m\u001b[0m\u001b[0m\n\u001b[1;32m   1511\u001b[0m     \u001b[0;32mif\u001b[0m \u001b[0mdtype\u001b[0m \u001b[0;32mis\u001b[0m \u001b[0;32mNone\u001b[0m\u001b[0;34m:\u001b[0m\u001b[0;34m\u001b[0m\u001b[0;34m\u001b[0m\u001b[0m\n\u001b[0;32m-> 1512\u001b[0;31m         \u001b[0mret\u001b[0m \u001b[0;34m=\u001b[0m \u001b[0minput\u001b[0m\u001b[0;34m.\u001b[0m\u001b[0msoftmax\u001b[0m\u001b[0;34m(\u001b[0m\u001b[0mdim\u001b[0m\u001b[0;34m)\u001b[0m\u001b[0;34m\u001b[0m\u001b[0;34m\u001b[0m\u001b[0m\n\u001b[0m\u001b[1;32m   1513\u001b[0m     \u001b[0;32melse\u001b[0m\u001b[0;34m:\u001b[0m\u001b[0;34m\u001b[0m\u001b[0;34m\u001b[0m\u001b[0m\n\u001b[1;32m   1514\u001b[0m         \u001b[0mret\u001b[0m \u001b[0;34m=\u001b[0m \u001b[0minput\u001b[0m\u001b[0;34m.\u001b[0m\u001b[0msoftmax\u001b[0m\u001b[0;34m(\u001b[0m\u001b[0mdim\u001b[0m\u001b[0;34m,\u001b[0m \u001b[0mdtype\u001b[0m\u001b[0;34m=\u001b[0m\u001b[0mdtype\u001b[0m\u001b[0;34m)\u001b[0m\u001b[0;34m\u001b[0m\u001b[0;34m\u001b[0m\u001b[0m\n",
            "\u001b[0;31mKeyboardInterrupt\u001b[0m: "
          ]
        }
      ]
    },
    {
      "cell_type": "code",
      "metadata": {
        "colab": {
          "base_uri": "https://localhost:8080/"
        },
        "id": "Y1OID8NWxlRy",
        "outputId": "b041c80c-8486-4214-9c73-e13229b66370"
      },
      "source": [
        "output[4].argmax()"
      ],
      "execution_count": null,
      "outputs": [
        {
          "output_type": "execute_result",
          "data": {
            "text/plain": [
              "tensor(72391)"
            ]
          },
          "metadata": {
            "tags": []
          },
          "execution_count": 18
        }
      ]
    },
    {
      "cell_type": "code",
      "metadata": {
        "colab": {
          "base_uri": "https://localhost:8080/"
        },
        "id": "2mI8SrPlE-kK",
        "outputId": "140042f2-7140-4f67-9084-f9047ab697ba"
      },
      "source": [
        "train_y[idxs].shape"
      ],
      "execution_count": null,
      "outputs": [
        {
          "output_type": "execute_result",
          "data": {
            "text/plain": [
              "torch.Size([8, 179])"
            ]
          },
          "metadata": {
            "tags": []
          },
          "execution_count": 81
        }
      ]
    },
    {
      "cell_type": "code",
      "metadata": {
        "colab": {
          "base_uri": "https://localhost:8080/",
          "height": 265
        },
        "id": "z7i_3eLVvMZ9",
        "outputId": "398d9e8e-7321-4890-f34c-ef0f0e15720f"
      },
      "source": [
        "plt.plot(stats['epoch'], stats['train_loss'])\n",
        "plt.plot(stats['epoch'], stats['test_loss'])\n",
        "plt.show()"
      ],
      "execution_count": null,
      "outputs": [
        {
          "output_type": "display_data",
          "data": {
            "image/png": "[encoded data removed]",
            "text/plain": [
              "<Figure size 432x288 with 1 Axes>"
            ]
          },
          "metadata": {
            "tags": [],
            "needs_background": "light"
          }
        }
      ]
    },
    {
      "cell_type": "code",
      "metadata": {
        "colab": {
          "base_uri": "https://localhost:8080/",
          "height": 265
        },
        "id": "XRl1VCzwwWe0",
        "outputId": "e2e1882f-bb74-4780-fa02-2d3a5a0a4966"
      },
      "source": [
        "plt.plot(stats['epoch'], stats['test_perplexity'])\n",
        "plt.show()"
      ],
      "execution_count": null,
      "outputs": [
        {
          "output_type": "display_data",
          "data": {
            "image/png": "[encoded data removed]",
            "text/plain": [
              "<Figure size 432x288 with 1 Axes>"
            ]
          },
          "metadata": {
            "tags": [],
            "needs_background": "light"
          }
        }
      ]
    },
    {
      "cell_type": "code",
      "metadata": {
        "colab": {
          "base_uri": "https://localhost:8080/"
        },
        "id": "2J9B12vBISnH",
        "outputId": "96f3faad-66b6-4529-ca41-434dfe622503"
      },
      "source": [
        "token_to_id['<PAD>']"
      ],
      "execution_count": null,
      "outputs": [
        {
          "output_type": "execute_result",
          "data": {
            "text/plain": [
              "0"
            ]
          },
          "metadata": {
            "tags": []
          },
          "execution_count": 20
        }
      ]
    },
    {
      "cell_type": "code",
      "metadata": {
        "colab": {
          "base_uri": "https://localhost:8080/"
        },
        "id": "6I0gzg-SNHK8",
        "outputId": "9e6a09bc-2855-48d0-c71c-0517e00673c9"
      },
      "source": [
        "model"
      ],
      "execution_count": null,
      "outputs": [
        {
          "output_type": "execute_result",
          "data": {
            "text/plain": [
              "ProGen(\n",
              "  (token_index_to_embedding): Embedding(1361, 128, padding_idx=0)\n",
              "  (layer_normalization): LayerNorm((128,), eps=1e-05, elementwise_affine=True)\n",
              "  (transformer_stack): TransformerDecoder(\n",
              "    (layers): ModuleList(\n",
              "      (0): TransformerDecoderLayer(\n",
              "        (self_attn): MultiheadAttention(\n",
              "          (out_proj): _LinearWithBias(in_features=128, out_features=128, bias=True)\n",
              "        )\n",
              "        (multihead_attn): MultiheadAttention(\n",
              "          (out_proj): _LinearWithBias(in_features=128, out_features=128, bias=True)\n",
              "        )\n",
              "        (linear1): Linear(in_features=128, out_features=100, bias=True)\n",
              "        (dropout): Dropout(p=0.1, inplace=False)\n",
              "        (linear2): Linear(in_features=100, out_features=128, bias=True)\n",
              "        (norm1): LayerNorm((128,), eps=1e-05, elementwise_affine=True)\n",
              "        (norm2): LayerNorm((128,), eps=1e-05, elementwise_affine=True)\n",
              "        (norm3): LayerNorm((128,), eps=1e-05, elementwise_affine=True)\n",
              "        (dropout1): Dropout(p=0.1, inplace=False)\n",
              "        (dropout2): Dropout(p=0.1, inplace=False)\n",
              "        (dropout3): Dropout(p=0.1, inplace=False)\n",
              "      )\n",
              "      (1): TransformerDecoderLayer(\n",
              "        (self_attn): MultiheadAttention(\n",
              "          (out_proj): _LinearWithBias(in_features=128, out_features=128, bias=True)\n",
              "        )\n",
              "        (multihead_attn): MultiheadAttention(\n",
              "          (out_proj): _LinearWithBias(in_features=128, out_features=128, bias=True)\n",
              "        )\n",
              "        (linear1): Linear(in_features=128, out_features=100, bias=True)\n",
              "        (dropout): Dropout(p=0.1, inplace=False)\n",
              "        (linear2): Linear(in_features=100, out_features=128, bias=True)\n",
              "        (norm1): LayerNorm((128,), eps=1e-05, elementwise_affine=True)\n",
              "        (norm2): LayerNorm((128,), eps=1e-05, elementwise_affine=True)\n",
              "        (norm3): LayerNorm((128,), eps=1e-05, elementwise_affine=True)\n",
              "        (dropout1): Dropout(p=0.1, inplace=False)\n",
              "        (dropout2): Dropout(p=0.1, inplace=False)\n",
              "        (dropout3): Dropout(p=0.1, inplace=False)\n",
              "      )\n",
              "      (2): TransformerDecoderLayer(\n",
              "        (self_attn): MultiheadAttention(\n",
              "          (out_proj): _LinearWithBias(in_features=128, out_features=128, bias=True)\n",
              "        )\n",
              "        (multihead_attn): MultiheadAttention(\n",
              "          (out_proj): _LinearWithBias(in_features=128, out_features=128, bias=True)\n",
              "        )\n",
              "        (linear1): Linear(in_features=128, out_features=100, bias=True)\n",
              "        (dropout): Dropout(p=0.1, inplace=False)\n",
              "        (linear2): Linear(in_features=100, out_features=128, bias=True)\n",
              "        (norm1): LayerNorm((128,), eps=1e-05, elementwise_affine=True)\n",
              "        (norm2): LayerNorm((128,), eps=1e-05, elementwise_affine=True)\n",
              "        (norm3): LayerNorm((128,), eps=1e-05, elementwise_affine=True)\n",
              "        (dropout1): Dropout(p=0.1, inplace=False)\n",
              "        (dropout2): Dropout(p=0.1, inplace=False)\n",
              "        (dropout3): Dropout(p=0.1, inplace=False)\n",
              "      )\n",
              "      (3): TransformerDecoderLayer(\n",
              "        (self_attn): MultiheadAttention(\n",
              "          (out_proj): _LinearWithBias(in_features=128, out_features=128, bias=True)\n",
              "        )\n",
              "        (multihead_attn): MultiheadAttention(\n",
              "          (out_proj): _LinearWithBias(in_features=128, out_features=128, bias=True)\n",
              "        )\n",
              "        (linear1): Linear(in_features=128, out_features=100, bias=True)\n",
              "        (dropout): Dropout(p=0.1, inplace=False)\n",
              "        (linear2): Linear(in_features=100, out_features=128, bias=True)\n",
              "        (norm1): LayerNorm((128,), eps=1e-05, elementwise_affine=True)\n",
              "        (norm2): LayerNorm((128,), eps=1e-05, elementwise_affine=True)\n",
              "        (norm3): LayerNorm((128,), eps=1e-05, elementwise_affine=True)\n",
              "        (dropout1): Dropout(p=0.1, inplace=False)\n",
              "        (dropout2): Dropout(p=0.1, inplace=False)\n",
              "        (dropout3): Dropout(p=0.1, inplace=False)\n",
              "      )\n",
              "      (4): TransformerDecoderLayer(\n",
              "        (self_attn): MultiheadAttention(\n",
              "          (out_proj): _LinearWithBias(in_features=128, out_features=128, bias=True)\n",
              "        )\n",
              "        (multihead_attn): MultiheadAttention(\n",
              "          (out_proj): _LinearWithBias(in_features=128, out_features=128, bias=True)\n",
              "        )\n",
              "        (linear1): Linear(in_features=128, out_features=100, bias=True)\n",
              "        (dropout): Dropout(p=0.1, inplace=False)\n",
              "        (linear2): Linear(in_features=100, out_features=128, bias=True)\n",
              "        (norm1): LayerNorm((128,), eps=1e-05, elementwise_affine=True)\n",
              "        (norm2): LayerNorm((128,), eps=1e-05, elementwise_affine=True)\n",
              "        (norm3): LayerNorm((128,), eps=1e-05, elementwise_affine=True)\n",
              "        (dropout1): Dropout(p=0.1, inplace=False)\n",
              "        (dropout2): Dropout(p=0.1, inplace=False)\n",
              "        (dropout3): Dropout(p=0.1, inplace=False)\n",
              "      )\n",
              "      (5): TransformerDecoderLayer(\n",
              "        (self_attn): MultiheadAttention(\n",
              "          (out_proj): _LinearWithBias(in_features=128, out_features=128, bias=True)\n",
              "        )\n",
              "        (multihead_attn): MultiheadAttention(\n",
              "          (out_proj): _LinearWithBias(in_features=128, out_features=128, bias=True)\n",
              "        )\n",
              "        (linear1): Linear(in_features=128, out_features=100, bias=True)\n",
              "        (dropout): Dropout(p=0.1, inplace=False)\n",
              "        (linear2): Linear(in_features=100, out_features=128, bias=True)\n",
              "        (norm1): LayerNorm((128,), eps=1e-05, elementwise_affine=True)\n",
              "        (norm2): LayerNorm((128,), eps=1e-05, elementwise_affine=True)\n",
              "        (norm3): LayerNorm((128,), eps=1e-05, elementwise_affine=True)\n",
              "        (dropout1): Dropout(p=0.1, inplace=False)\n",
              "        (dropout2): Dropout(p=0.1, inplace=False)\n",
              "        (dropout3): Dropout(p=0.1, inplace=False)\n",
              "      )\n",
              "      (6): TransformerDecoderLayer(\n",
              "        (self_attn): MultiheadAttention(\n",
              "          (out_proj): _LinearWithBias(in_features=128, out_features=128, bias=True)\n",
              "        )\n",
              "        (multihead_attn): MultiheadAttention(\n",
              "          (out_proj): _LinearWithBias(in_features=128, out_features=128, bias=True)\n",
              "        )\n",
              "        (linear1): Linear(in_features=128, out_features=100, bias=True)\n",
              "        (dropout): Dropout(p=0.1, inplace=False)\n",
              "        (linear2): Linear(in_features=100, out_features=128, bias=True)\n",
              "        (norm1): LayerNorm((128,), eps=1e-05, elementwise_affine=True)\n",
              "        (norm2): LayerNorm((128,), eps=1e-05, elementwise_affine=True)\n",
              "        (norm3): LayerNorm((128,), eps=1e-05, elementwise_affine=True)\n",
              "        (dropout1): Dropout(p=0.1, inplace=False)\n",
              "        (dropout2): Dropout(p=0.1, inplace=False)\n",
              "        (dropout3): Dropout(p=0.1, inplace=False)\n",
              "      )\n",
              "      (7): TransformerDecoderLayer(\n",
              "        (self_attn): MultiheadAttention(\n",
              "          (out_proj): _LinearWithBias(in_features=128, out_features=128, bias=True)\n",
              "        )\n",
              "        (multihead_attn): MultiheadAttention(\n",
              "          (out_proj): _LinearWithBias(in_features=128, out_features=128, bias=True)\n",
              "        )\n",
              "        (linear1): Linear(in_features=128, out_features=100, bias=True)\n",
              "        (dropout): Dropout(p=0.1, inplace=False)\n",
              "        (linear2): Linear(in_features=100, out_features=128, bias=True)\n",
              "        (norm1): LayerNorm((128,), eps=1e-05, elementwise_affine=True)\n",
              "        (norm2): LayerNorm((128,), eps=1e-05, elementwise_affine=True)\n",
              "        (norm3): LayerNorm((128,), eps=1e-05, elementwise_affine=True)\n",
              "        (dropout1): Dropout(p=0.1, inplace=False)\n",
              "        (dropout2): Dropout(p=0.1, inplace=False)\n",
              "        (dropout3): Dropout(p=0.1, inplace=False)\n",
              "      )\n",
              "    )\n",
              "    (norm): LayerNorm((128,), eps=1e-05, elementwise_affine=True)\n",
              "  )\n",
              "  (fully_connected_layer): Linear(in_features=128, out_features=1361, bias=True)\n",
              ")"
            ]
          },
          "metadata": {
            "tags": []
          },
          "execution_count": 19
        }
      ]
    },
    {
      "cell_type": "code",
      "metadata": {
        "colab": {
          "base_uri": "https://localhost:8080/"
        },
        "id": "uRm8FlmpjkPp",
        "outputId": "8b8b9c70-c2fb-4e2e-af53-4597485abde3"
      },
      "source": [
        "output.shape"
      ],
      "execution_count": null,
      "outputs": [
        {
          "output_type": "execute_result",
          "data": {
            "text/plain": [
              "torch.Size([2864, 1361])"
            ]
          },
          "metadata": {
            "tags": []
          },
          "execution_count": 274
        }
      ]
    },
    {
      "cell_type": "code",
      "metadata": {
        "colab": {
          "base_uri": "https://localhost:8080/"
        },
        "id": "3F6RIoCKp-i1",
        "outputId": "6c157138-981a-46b6-f3e3-d2705436fbc2"
      },
      "source": [
        "output[0:1,0:,].argmax()"
      ],
      "execution_count": null,
      "outputs": [
        {
          "output_type": "execute_result",
          "data": {
            "text/plain": [
              "tensor(141)"
            ]
          },
          "metadata": {
            "tags": []
          },
          "execution_count": 40
        }
      ]
    },
    {
      "cell_type": "code",
      "metadata": {
        "colab": {
          "base_uri": "https://localhost:8080/"
        },
        "id": "6hLmmgFUqCK7",
        "outputId": "75254029-724f-4413-e2c4-71cf841721ea"
      },
      "source": [
        "len(vocab)"
      ],
      "execution_count": null,
      "outputs": [
        {
          "output_type": "execute_result",
          "data": {
            "text/plain": [
              "1361"
            ]
          },
          "metadata": {
            "tags": []
          },
          "execution_count": 27
        }
      ]
    },
    {
      "cell_type": "code",
      "metadata": {
        "colab": {
          "base_uri": "https://localhost:8080/",
          "height": 35
        },
        "id": "PQFwOI_WqfTr",
        "outputId": "c03726ec-7349-4d68-af24-b193a582dbf3"
      },
      "source": [
        "id_to_token[141]"
      ],
      "execution_count": null,
      "outputs": [
        {
          "output_type": "execute_result",
          "data": {
            "application/vnd.google.colaboratory.intrinsic+json": {
              "type": "string"
            },
            "text/plain": [
              "'GO:0005576'"
            ]
          },
          "metadata": {
            "tags": []
          },
          "execution_count": 41
        }
      ]
    },
    {
      "cell_type": "code",
      "metadata": {
        "colab": {
          "base_uri": "https://localhost:8080/"
        },
        "id": "sJ3qQJ-krfB3",
        "outputId": "82e4b473-90f9-4826-e8d1-47d675c83fd9"
      },
      "source": [
        "output_test.view(-1, vocab_size).shape"
      ],
      "execution_count": null,
      "outputs": [
        {
          "output_type": "execute_result",
          "data": {
            "text/plain": [
              "torch.Size([2864, 1361])"
            ]
          },
          "metadata": {
            "tags": []
          },
          "execution_count": 261
        }
      ]
    },
    {
      "cell_type": "code",
      "metadata": {
        "colab": {
          "base_uri": "https://localhost:8080/"
        },
        "id": "jRxVpsr8CWOe",
        "outputId": "c94fd1cc-7440-4046-85b8-7732f4bd6be8"
      },
      "source": [
        "len(output.view(-1, vocab_size))"
      ],
      "execution_count": null,
      "outputs": [
        {
          "output_type": "execute_result",
          "data": {
            "text/plain": [
              "2864"
            ]
          },
          "metadata": {
            "tags": []
          },
          "execution_count": 277
        }
      ]
    },
    {
      "cell_type": "code",
      "metadata": {
        "colab": {
          "base_uri": "https://localhost:8080/"
        },
        "id": "Aqo62SE6HsFb",
        "outputId": "4bdc7752-dd4e-4de5-e5b3-ada6a13ac7d7"
      },
      "source": [
        "output[1]"
      ],
      "execution_count": null,
      "outputs": [
        {
          "output_type": "execute_result",
          "data": {
            "text/plain": [
              "tensor([[0.0625, 0.0625, 0.0625,  ..., 0.0625, 0.0625, 0.0625],\n",
              "        [0.0625, 0.0625, 0.0625,  ..., 0.0625, 0.0625, 0.0625],\n",
              "        [0.0625, 0.0625, 0.0625,  ..., 0.0625, 0.0625, 0.0625],\n",
              "        ...,\n",
              "        [0.0625, 0.0625, 0.0625,  ..., 0.0625, 0.0625, 0.0625],\n",
              "        [0.0625, 0.0625, 0.0625,  ..., 0.0625, 0.0625, 0.0625],\n",
              "        [0.0625, 0.0625, 0.0625,  ..., 0.0625, 0.0625, 0.0625]],\n",
              "       grad_fn=<SelectBackward>)"
            ]
          },
          "metadata": {
            "tags": []
          },
          "execution_count": 167
        }
      ]
    },
    {
      "cell_type": "code",
      "metadata": {
        "id": "aRu22wUeimnU",
        "colab": {
          "base_uri": "https://localhost:8080/",
          "height": 163
        },
        "outputId": "e6a37374-73cb-43e2-d306-11193bc152c5"
      },
      "source": [
        "token_to_id['PF00159;']"
      ],
      "execution_count": null,
      "outputs": [
        {
          "output_type": "error",
          "ename": "KeyError",
          "evalue": "ignored",
          "traceback": [
            "\u001b[0;31m---------------------------------------------------------------------------\u001b[0m",
            "\u001b[0;31mKeyError\u001b[0m                                  Traceback (most recent call last)",
            "\u001b[0;32m<ipython-input-25-9ebe65792ef5>\u001b[0m in \u001b[0;36m<module>\u001b[0;34m()\u001b[0m\n\u001b[0;32m----> 1\u001b[0;31m \u001b[0mtoken_to_id\u001b[0m\u001b[0;34m[\u001b[0m\u001b[0;34m'PF00159;'\u001b[0m\u001b[0;34m]\u001b[0m\u001b[0;34m\u001b[0m\u001b[0;34m\u001b[0m\u001b[0m\n\u001b[0m",
            "\u001b[0;31mKeyError\u001b[0m: 'PF00159;'"
          ]
        }
      ]
    },
    {
      "cell_type": "code",
      "metadata": {
        "colab": {
          "base_uri": "https://localhost:8080/"
        },
        "id": "URqT42rhwoj9",
        "outputId": "f1e31d93-844b-44c8-a93f-46efedf8cbb2"
      },
      "source": [
        "token_to_id['A']"
      ],
      "execution_count": null,
      "outputs": [
        {
          "output_type": "execute_result",
          "data": {
            "text/plain": [
              "383"
            ]
          },
          "metadata": {
            "tags": []
          },
          "execution_count": 26
        }
      ]
    },
    {
      "cell_type": "code",
      "metadata": {
        "colab": {
          "base_uri": "https://localhost:8080/"
        },
        "id": "vRVcfiH1wrsV",
        "outputId": "c61b7f05-5e20-4b80-a8e2-d716512ae17c"
      },
      "source": [
        "inputs[1]"
      ],
      "execution_count": null,
      "outputs": [
        {
          "output_type": "execute_result",
          "data": {
            "text/plain": [
              "tensor([ 307,    0,    0,    0,    0,    0,    0,    0,    0,    0,    0,    0,\n",
              "           0,    0,    0,    0,    0,    0,    0,    0,    0,    0,    0,    0,\n",
              "           0,    0,    0,    0,    0,    0,    0,    0,    0,    0,    0,    0,\n",
              "           0,    0,    0,  816, 1223,   50,    0,    0,    0,    0,    0,    0,\n",
              "         160,  860, 1089,  965, 1304,  966,  335, 1127, 1261, 1096,    0, 1285,\n",
              "         197, 1194,  928,  492,  639,  977,  959, 1060, 1092,  928,  977,  928,\n",
              "         977,  492,  763, 1060, 1002,  619,  763,  763, 1060,  619,  492,  639,\n",
              "         977,  959,  492, 1238, 1060, 1173, 1021, 1060,  277, 1021, 1060,  977,\n",
              "        1021,  592,  883,  959, 1060, 1021, 1021,  226,  226,  763, 1060,  277,\n",
              "        1173, 1173,  977, 1060,  763,  592,  639, 1173,  492, 1238,  763,  492,\n",
              "         599,  592,  283,  592, 1173,  959,  277,  592,  883,  599, 1021,  883,\n",
              "         599, 1092, 1002,  977,  883, 1092,  763,  928,  592,  226,  977,  599,\n",
              "         226,  977,  492, 1021,  959,  977, 1238, 1173, 1092,  592, 1173,  883,\n",
              "         959,  763, 1021,  763,  876,    0,    0,    0,    0,    0,    0,    0,\n",
              "           0,    0,    0,    0,    0,    0,    0,    0,    0,    0,    0,    0,\n",
              "           0,    0])"
            ]
          },
          "metadata": {
            "tags": []
          },
          "execution_count": 160
        }
      ]
    },
    {
      "cell_type": "code",
      "metadata": {
        "colab": {
          "base_uri": "https://localhost:8080/"
        },
        "id": "ZMwmpuBV9iSR",
        "outputId": "31577a33-864e-4ddd-bf6e-57d7f5f3c831"
      },
      "source": [
        "targets[1]"
      ],
      "execution_count": null,
      "outputs": [
        {
          "output_type": "execute_result",
          "data": {
            "text/plain": [
              "tensor([   0,    0,    0,    0,    0,    0,    0,    0,    0,    0,    0,    0,\n",
              "           0,    0,    0,    0,    0,    0,    0,    0,    0,    0,    0,    0,\n",
              "           0,    0,    0,    0,    0,    0,    0,    0,    0,    0,    0,    0,\n",
              "           0,    0,  816, 1223,   50,    0,    0,    0,    0,    0,    0,  160,\n",
              "         860, 1089,  965, 1304,  966,  335, 1127, 1261, 1096,    0, 1285,  197,\n",
              "        1194,  928,  492,  639,  977,  959, 1060, 1092,  928,  977,  928,  977,\n",
              "         492,  763, 1060, 1002,  619,  763,  763, 1060,  619,  492,  639,  977,\n",
              "         959,  492, 1238, 1060, 1173, 1021, 1060,  277, 1021, 1060,  977, 1021,\n",
              "         592,  883,  959, 1060, 1021, 1021,  226,  226,  763, 1060,  277, 1173,\n",
              "        1173,  977, 1060,  763,  592,  639, 1173,  492, 1238,  763,  492,  599,\n",
              "         592,  283,  592, 1173,  959,  277,  592,  883,  599, 1021,  883,  599,\n",
              "        1092, 1002,  977,  883, 1092,  763,  928,  592,  226,  977,  599,  226,\n",
              "         977,  492, 1021,  959,  977, 1238, 1173, 1092,  592, 1173,  883,  959,\n",
              "         763, 1021,  763,  876,    0,    0,    0,    0,    0,    0,    0,    0,\n",
              "           0,    0,    0,    0,    0,    0,    0,    0,    0,    0,    0,    0,\n",
              "           0,    1])"
            ]
          },
          "metadata": {
            "tags": []
          },
          "execution_count": 161
        }
      ]
    },
    {
      "cell_type": "code",
      "metadata": {
        "colab": {
          "base_uri": "https://localhost:8080/",
          "height": 282
        },
        "id": "ERX7hRJW9kBo",
        "outputId": "db99094f-73f7-460f-aeb5-47f28327e8d0"
      },
      "source": [
        "model()"
      ],
      "execution_count": null,
      "outputs": [
        {
          "output_type": "error",
          "ename": "TypeError",
          "evalue": "ignored",
          "traceback": [
            "\u001b[0;31m---------------------------------------------------------------------------\u001b[0m",
            "\u001b[0;31mTypeError\u001b[0m                                 Traceback (most recent call last)",
            "\u001b[0;32m<ipython-input-179-3876033efa86>\u001b[0m in \u001b[0;36m<module>\u001b[0;34m()\u001b[0m\n\u001b[0;32m----> 1\u001b[0;31m \u001b[0mmodel\u001b[0m\u001b[0;34m(\u001b[0m\u001b[0;34m)\u001b[0m\u001b[0;34m\u001b[0m\u001b[0;34m\u001b[0m\u001b[0m\n\u001b[0m",
            "\u001b[0;32m/usr/local/lib/python3.6/dist-packages/torch/nn/modules/module.py\u001b[0m in \u001b[0;36m_call_impl\u001b[0;34m(self, *input, **kwargs)\u001b[0m\n\u001b[1;32m    725\u001b[0m             \u001b[0mresult\u001b[0m \u001b[0;34m=\u001b[0m \u001b[0mself\u001b[0m\u001b[0;34m.\u001b[0m\u001b[0m_slow_forward\u001b[0m\u001b[0;34m(\u001b[0m\u001b[0;34m*\u001b[0m\u001b[0minput\u001b[0m\u001b[0;34m,\u001b[0m \u001b[0;34m**\u001b[0m\u001b[0mkwargs\u001b[0m\u001b[0;34m)\u001b[0m\u001b[0;34m\u001b[0m\u001b[0;34m\u001b[0m\u001b[0m\n\u001b[1;32m    726\u001b[0m         \u001b[0;32melse\u001b[0m\u001b[0;34m:\u001b[0m\u001b[0;34m\u001b[0m\u001b[0;34m\u001b[0m\u001b[0m\n\u001b[0;32m--> 727\u001b[0;31m             \u001b[0mresult\u001b[0m \u001b[0;34m=\u001b[0m \u001b[0mself\u001b[0m\u001b[0;34m.\u001b[0m\u001b[0mforward\u001b[0m\u001b[0;34m(\u001b[0m\u001b[0;34m*\u001b[0m\u001b[0minput\u001b[0m\u001b[0;34m,\u001b[0m \u001b[0;34m**\u001b[0m\u001b[0mkwargs\u001b[0m\u001b[0;34m)\u001b[0m\u001b[0;34m\u001b[0m\u001b[0;34m\u001b[0m\u001b[0m\n\u001b[0m\u001b[1;32m    728\u001b[0m         for hook in itertools.chain(\n\u001b[1;32m    729\u001b[0m                 \u001b[0m_global_forward_hooks\u001b[0m\u001b[0;34m.\u001b[0m\u001b[0mvalues\u001b[0m\u001b[0;34m(\u001b[0m\u001b[0;34m)\u001b[0m\u001b[0;34m,\u001b[0m\u001b[0;34m\u001b[0m\u001b[0;34m\u001b[0m\u001b[0m\n",
            "\u001b[0;31mTypeError\u001b[0m: forward() missing 2 required positional arguments: 'x' and 'batch_size'"
          ]
        }
      ]
    },
    {
      "cell_type": "code",
      "metadata": {
        "id": "p7cRyz0nD8s8"
      },
      "source": [
        ""
      ],
      "execution_count": null,
      "outputs": []
    }
  ]
}