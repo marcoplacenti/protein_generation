{
  "nbformat": 4,
  "nbformat_minor": 0,
  "metadata": {
    "colab": {
      "name": "redo.ipynb",
      "provenance": [],
      "collapsed_sections": []
    },
    "kernelspec": {
      "name": "python3",
      "display_name": "Python 3"
    }
  },
  "cells": [
    {
      "cell_type": "code",
      "metadata": {
        "id": "Hrh7uny1abve"
      },
      "source": [
        "from google.colab import drive\n",
        "import torch, sys\n",
        "import pandas as pd\n",
        "import numpy as np  \n",
        "from torch import nn\n",
        "import torch.nn.functional as F\n",
        "from torchtext import data\n",
        "import torch.distributions as dist\n",
        "import random\n",
        "import matplotlib.pyplot as plt\n",
        "torch.cuda.empty_cache()\n",
        "allocation_device = torch.device('cuda' if torch.cuda.is_available() else 'cpu') # Device where a torch.Tensor will be allocated"
      ],
      "execution_count": 1,
      "outputs": []
    },
    {
      "cell_type": "code",
      "metadata": {
        "id": "sxw17ufMgNPt",
        "colab": {
          "base_uri": "https://localhost:8080/"
        },
        "outputId": "f5bc08eb-4a94-44a1-cfef-280b63a1c0f4"
      },
      "source": [
        "from google.colab import drive\n",
        "drive.mount('/content/drive')"
      ],
      "execution_count": 2,
      "outputs": [
        {
          "output_type": "stream",
          "text": [
            "Drive already mounted at /content/drive; to attempt to forcibly remount, call drive.mount(\"/content/drive\", force_remount=True).\n"
          ],
          "name": "stdout"
        }
      ]
    },
    {
      "cell_type": "code",
      "metadata": {
        "colab": {
          "base_uri": "https://localhost:8080/"
        },
        "id": "qS6Bs38vydfG",
        "outputId": "35ed5614-2391-4936-8b39-d3c5381d823d"
      },
      "source": [
        "cd /content/drive/MyDrive/'Colab Notebooks'/project/"
      ],
      "execution_count": 3,
      "outputs": [
        {
          "output_type": "stream",
          "text": [
            "/content/drive/MyDrive/Colab Notebooks/project\n"
          ],
          "name": "stdout"
        }
      ]
    },
    {
      "cell_type": "code",
      "metadata": {
        "id": "XYRyx0LfKrkT"
      },
      "source": [
        "def encode_data(data_file_name):\n",
        "    infile = open(data_file_name, 'r')\n",
        "\n",
        "    header_list = infile.readline().strip().split(',')\n",
        "    conditioning_tag_list = header_list[4:]\n",
        "\n",
        "    id_to_token = ['<pad>', 'A', 'C', 'D', 'E', 'F', 'G', 'H', 'I', 'K', 'L', 'M', 'N', 'P', 'Q', 'R', 'S', 'T', 'V', 'W', 'X', 'Y'] + conditioning_tag_list\n",
        "    token_to_id = {'<pad>': 0, 'A': 1, 'C': 2, 'D': 3, 'E': 4, 'F': 5, 'G': 6, 'H': 7, 'I': 8, 'K': 9, 'L': 10, 'M': 11, 'N': 12, 'P': 13, 'Q': 14, 'R': 15, 'S': 16, 'T': 17, 'V': 18, 'W': 19, 'X': 20, 'Y': 21}\n",
        "\n",
        "    amino_acid_count_unique = 21\n",
        "    special_tokens_count_unique = 1\n",
        "    non_conditioning_tag_count_unique = amino_acid_count_unique + special_tokens_count_unique\n",
        "    token_index = non_conditioning_tag_count_unique\n",
        "    for conditioning_tag in conditioning_tag_list:\n",
        "        token_to_id[conditioning_tag] = token_index\n",
        "        token_index += 1\n",
        "\n",
        "    data_encoded = list()\n",
        "    data_info = list()\n",
        "    for line in infile:\n",
        "        line_list = line.strip().split(',')\n",
        "        conditioning_tag_boolean_list = line_list[4:]\n",
        "\n",
        "        encoded_conditioning_tag_list = list()\n",
        "        conditioning_tag_count = 0\n",
        "        for index in range(len(conditioning_tag_boolean_list)):\n",
        "            if conditioning_tag_boolean_list[index] == '1':\n",
        "                encoded_conditioning_tag = non_conditioning_tag_count_unique + index\n",
        "                encoded_conditioning_tag_list.append( encoded_conditioning_tag )\n",
        "                conditioning_tag_count += 1\n",
        "        \n",
        "        encoded_amino_acid_list = [token_to_id[amino_acid] for amino_acid in line_list[2]]\n",
        "        amino_acid_sequence_length = len(encoded_amino_acid_list)\n",
        "        data_encoded.append(encoded_conditioning_tag_list + encoded_amino_acid_list)\n",
        "        data_info.append(line_list[0:1] + [ int(line_list[3]) ] + [conditioning_tag_count, amino_acid_sequence_length])\n",
        "\n",
        "    infile.close()\n",
        "\n",
        "    return data_encoded, data_info, id_to_token, token_to_id\n",
        "\n",
        "data_encoded, data_info, id_to_token, token_to_id = encode_data('part-00000-e13cc3cf-4132-42f0-b33e-0c2a191c59ba-c000.csv')"
      ],
      "execution_count": 4,
      "outputs": []
    },
    {
      "cell_type": "code",
      "metadata": {
        "id": "quzuw8D9g0RM"
      },
      "source": [
        "def get_data(dataset):\n",
        "    '''Load dataset, make vocabulary and determine length of longest sequence'''\n",
        "    data = pd.read_csv(dataset)\n",
        "\n",
        "    data = data.iloc[:,2:].replace(np.nan, '<PAD>')\n",
        "\n",
        "    longest_sequence_length = int(data['Sequence'].str.len().max()) # Find length of longest sequence\n",
        "\n",
        "    # Create vocabulary - set containing all \"conditioning tags\"\n",
        "    vocab = set()\n",
        "    for col in data.columns[:-1]:\n",
        "        vocab.update(data[col])\n",
        "\n",
        "    # Add amino acid one letter code tokens to vocabulary\n",
        "    for seq in data['Sequence']:\n",
        "        seq = list(seq) # Make sequnce a list of amino acids\n",
        "        vocab.update(seq)\n",
        "\n",
        "    # Add \"<PAD>\" and \"<EOS>\" tokens to vocabulary\n",
        "    vocab.update(['<PAD>'])\n",
        "    vocab.update(['<EOS>'])\n",
        "\n",
        "    # Determine the length of the sequence pre the amino acid sequence (conditional tags and null values)\n",
        "    sequence_pre_amino_acids_length = data.shape[1] - 1\n",
        "\n",
        "    return data, vocab, longest_sequence_length, sequence_pre_amino_acids_length"
      ],
      "execution_count": 4,
      "outputs": []
    },
    {
      "cell_type": "code",
      "metadata": {
        "id": "8S9cKtg9JsMK"
      },
      "source": [
        "def process_data(data, vocab, longest_sequence_length):\n",
        "    '''Create encoder and decoder (between tokens and their IDs) and encode tokens to their IDs'''\n",
        "    # Initialise encoding/decoding dictionaries (mapping between token and its ID)\n",
        "    token_to_id, id_to_token = {}, {}\n",
        "    \n",
        "    # Store special tokens in encoding/decoding dictionaries\n",
        "    token_to_id[\"<PAD>\"] = 0\n",
        "    id_to_token[0] = \"<PAD>\"\n",
        "\n",
        "    token_to_id[\"<EOS>\"] = 1\n",
        "    id_to_token[1] = \"<EOS>\"\n",
        "\n",
        "    # Store remaining tokens from vocabulary in mapping dictionaries\n",
        "    for i, token in enumerate(vocab):\n",
        "        cum_i = len(token_to_id.keys()) # Determine index of current token\n",
        "        if token != \"<PAD>\" and token != \"<EOS>\":\n",
        "            token_to_id[token] = cum_i\n",
        "            id_to_token[cum_i] = token\n",
        "\n",
        "    # Encode tokens with their IDs\n",
        "    data_encoded = [] # Initialise list of encoded records\n",
        "    for record in data.to_numpy():\n",
        "        tags = record[:-1]\n",
        "        sequence = record[-1]\n",
        "        \n",
        "        # Add \"conditioning tag\" IDs to encoding\n",
        "        encoded_record = [token_to_id[tag] for tag in tags]\n",
        "\n",
        "        # Add amino acid sequence IDs to encoding\n",
        "        for char in sequence:\n",
        "            encoded_record.append(token_to_id[char])\n",
        "        \n",
        "        # Add padding (ID = 0) to all records with a sequnce shorter than the longest\n",
        "        # such that all records end up having the same length\n",
        "        if len(sequence) < longest_sequence_length:\n",
        "            for i in range(longest_sequence_length - len(sequence)):\n",
        "                encoded_record.append(0)\n",
        "\n",
        "        data_encoded.append(encoded_record)\n",
        "\n",
        "    data_encoded = np.array(data_encoded) # Convert list of lists to numpy array\n",
        "\n",
        "    return data_encoded, token_to_id, id_to_token"
      ],
      "execution_count": 5,
      "outputs": []
    },
    {
      "cell_type": "code",
      "metadata": {
        "colab": {
          "base_uri": "https://localhost:8080/"
        },
        "id": "nXCn6ETxfbvd",
        "outputId": "57f0711d-e099-465e-c71e-a6b13b49890b"
      },
      "source": [
        "pd.read_csv(\"dataset.csv\").columns[:-1]"
      ],
      "execution_count": 89,
      "outputs": [
        {
          "output_type": "execute_result",
          "data": {
            "text/plain": [
              "Index(['Unnamed: 0', 'Entry', 'Taxonomic lineage (SUPERKINGDOM)',\n",
              "       'Taxonomic lineage (KINGDOM)', 'Taxonomic lineage (PHYLUM)',\n",
              "       'Taxonomic lineage (CLASS)', 'Taxonomic lineage (ORDER)',\n",
              "       'Taxonomic lineage (GENUS)', 'Taxonomic lineage (SPECIES)',\n",
              "       'Keyword ID_0', 'Keyword ID_1', 'Keyword ID_2', 'Keyword ID_3',\n",
              "       'Keyword ID_4', 'Keyword ID_5', 'Keyword ID_6', 'Keyword ID_7',\n",
              "       'Keyword ID_8', 'Keyword ID_9', 'Keyword ID_10', 'Keyword ID_11',\n",
              "       'Keyword ID_12', 'Keyword ID_13',\n",
              "       'Gene ontology (molecular function)_0',\n",
              "       'Gene ontology (molecular function)_1',\n",
              "       'Gene ontology (molecular function)_2',\n",
              "       'Gene ontology (molecular function)_3',\n",
              "       'Gene ontology (molecular function)_4',\n",
              "       'Gene ontology (molecular function)_5',\n",
              "       'Gene ontology (cellular component)_0',\n",
              "       'Gene ontology (cellular component)_1',\n",
              "       'Gene ontology (cellular component)_2',\n",
              "       'Gene ontology (cellular component)_3',\n",
              "       'Gene ontology (cellular component)_4',\n",
              "       'Gene ontology (cellular component)_5',\n",
              "       'Gene ontology (cellular component)_6',\n",
              "       'Gene ontology (cellular component)_7',\n",
              "       'Gene ontology (cellular component)_8',\n",
              "       'Gene ontology (cellular component)_9',\n",
              "       'Gene ontology (biological process)_0',\n",
              "       'Gene ontology (biological process)_1',\n",
              "       'Gene ontology (biological process)_2',\n",
              "       'Gene ontology (biological process)_3',\n",
              "       'Gene ontology (biological process)_4',\n",
              "       'Gene ontology (biological process)_5',\n",
              "       'Gene ontology (biological process)_6',\n",
              "       'Gene ontology (biological process)_7',\n",
              "       'Gene ontology (biological process)_8',\n",
              "       'Gene ontology (biological process)_9',\n",
              "       'Gene ontology (biological process)_10',\n",
              "       'Gene ontology (biological process)_11',\n",
              "       'Gene ontology (biological process)_12',\n",
              "       'Gene ontology (biological process)_13',\n",
              "       'Gene ontology (biological process)_14',\n",
              "       'Gene ontology (biological process)_15',\n",
              "       'Gene ontology (biological process)_16',\n",
              "       'Gene ontology (biological process)_17',\n",
              "       'Gene ontology (biological process)_18',\n",
              "       'Gene ontology (biological process)_19',\n",
              "       'Gene ontology (biological process)_20',\n",
              "       'Gene ontology (biological process)_21',\n",
              "       'Gene ontology (biological process)_22',\n",
              "       'Gene ontology (biological process)_23',\n",
              "       'Gene ontology (biological process)_24',\n",
              "       'Gene ontology (biological process)_25',\n",
              "       'Gene ontology (biological process)_26',\n",
              "       'Gene ontology (biological process)_27',\n",
              "       'Gene ontology (biological process)_28',\n",
              "       'Gene ontology (biological process)_29',\n",
              "       'Gene ontology (biological process)_30',\n",
              "       'Gene ontology (biological process)_31',\n",
              "       'Gene ontology (biological process)_32',\n",
              "       'Gene ontology (biological process)_33',\n",
              "       'Gene ontology (biological process)_34',\n",
              "       'Gene ontology (biological process)_35',\n",
              "       'Gene ontology (biological process)_36',\n",
              "       'Gene ontology (biological process)_37',\n",
              "       'Gene ontology (biological process)_38',\n",
              "       'Gene ontology (biological process)_39',\n",
              "       'Gene ontology (biological process)_40',\n",
              "       'Gene ontology (biological process)_41',\n",
              "       'Gene ontology (biological process)_42',\n",
              "       'Gene ontology (biological process)_43', 'Keywords_0', 'Keywords_1',\n",
              "       'Keywords_2', 'Keywords_3', 'Keywords_4', 'Keywords_5', 'Keywords_6',\n",
              "       'Keywords_7', 'Keywords_8', 'Keywords_9', 'Keywords_10', 'Keywords_11',\n",
              "       'Keywords_12', 'Keywords_13'],\n",
              "      dtype='object')"
            ]
          },
          "metadata": {
            "tags": []
          },
          "execution_count": 89
        }
      ]
    },
    {
      "cell_type": "code",
      "metadata": {
        "colab": {
          "base_uri": "https://localhost:8080/",
          "height": 1000
        },
        "id": "SugBarSZgn9S",
        "outputId": "3d41e3b7-eed8-43da-edf6-18a11ca57eec"
      },
      "source": [
        "pd.read_csv(\"dataset.csv\").iloc[:,2:]"
      ],
      "execution_count": 87,
      "outputs": [
        {
          "output_type": "execute_result",
          "data": {
            "text/html": [
              "<div>\n",
              "<style scoped>\n",
              "    .dataframe tbody tr th:only-of-type {\n",
              "        vertical-align: middle;\n",
              "    }\n",
              "\n",
              "    .dataframe tbody tr th {\n",
              "        vertical-align: top;\n",
              "    }\n",
              "\n",
              "    .dataframe thead th {\n",
              "        text-align: right;\n",
              "    }\n",
              "</style>\n",
              "<table border=\"1\" class=\"dataframe\">\n",
              "  <thead>\n",
              "    <tr style=\"text-align: right;\">\n",
              "      <th></th>\n",
              "      <th>Taxonomic lineage (SUPERKINGDOM)</th>\n",
              "      <th>Taxonomic lineage (KINGDOM)</th>\n",
              "      <th>Taxonomic lineage (PHYLUM)</th>\n",
              "      <th>Taxonomic lineage (CLASS)</th>\n",
              "      <th>Taxonomic lineage (ORDER)</th>\n",
              "      <th>Taxonomic lineage (GENUS)</th>\n",
              "      <th>Taxonomic lineage (SPECIES)</th>\n",
              "      <th>Keyword ID_0</th>\n",
              "      <th>Keyword ID_1</th>\n",
              "      <th>Keyword ID_2</th>\n",
              "      <th>Keyword ID_3</th>\n",
              "      <th>Keyword ID_4</th>\n",
              "      <th>Keyword ID_5</th>\n",
              "      <th>Keyword ID_6</th>\n",
              "      <th>Keyword ID_7</th>\n",
              "      <th>Keyword ID_8</th>\n",
              "      <th>Keyword ID_9</th>\n",
              "      <th>Keyword ID_10</th>\n",
              "      <th>Keyword ID_11</th>\n",
              "      <th>Keyword ID_12</th>\n",
              "      <th>Keyword ID_13</th>\n",
              "      <th>Gene ontology (molecular function)_0</th>\n",
              "      <th>Gene ontology (molecular function)_1</th>\n",
              "      <th>Gene ontology (molecular function)_2</th>\n",
              "      <th>Gene ontology (molecular function)_3</th>\n",
              "      <th>Gene ontology (molecular function)_4</th>\n",
              "      <th>Gene ontology (molecular function)_5</th>\n",
              "      <th>Gene ontology (cellular component)_0</th>\n",
              "      <th>Gene ontology (cellular component)_1</th>\n",
              "      <th>Gene ontology (cellular component)_2</th>\n",
              "      <th>Gene ontology (cellular component)_3</th>\n",
              "      <th>Gene ontology (cellular component)_4</th>\n",
              "      <th>Gene ontology (cellular component)_5</th>\n",
              "      <th>Gene ontology (cellular component)_6</th>\n",
              "      <th>Gene ontology (cellular component)_7</th>\n",
              "      <th>Gene ontology (cellular component)_8</th>\n",
              "      <th>Gene ontology (cellular component)_9</th>\n",
              "      <th>Gene ontology (biological process)_0</th>\n",
              "      <th>Gene ontology (biological process)_1</th>\n",
              "      <th>Gene ontology (biological process)_2</th>\n",
              "      <th>...</th>\n",
              "      <th>Gene ontology (biological process)_19</th>\n",
              "      <th>Gene ontology (biological process)_20</th>\n",
              "      <th>Gene ontology (biological process)_21</th>\n",
              "      <th>Gene ontology (biological process)_22</th>\n",
              "      <th>Gene ontology (biological process)_23</th>\n",
              "      <th>Gene ontology (biological process)_24</th>\n",
              "      <th>Gene ontology (biological process)_25</th>\n",
              "      <th>Gene ontology (biological process)_26</th>\n",
              "      <th>Gene ontology (biological process)_27</th>\n",
              "      <th>Gene ontology (biological process)_28</th>\n",
              "      <th>Gene ontology (biological process)_29</th>\n",
              "      <th>Gene ontology (biological process)_30</th>\n",
              "      <th>Gene ontology (biological process)_31</th>\n",
              "      <th>Gene ontology (biological process)_32</th>\n",
              "      <th>Gene ontology (biological process)_33</th>\n",
              "      <th>Gene ontology (biological process)_34</th>\n",
              "      <th>Gene ontology (biological process)_35</th>\n",
              "      <th>Gene ontology (biological process)_36</th>\n",
              "      <th>Gene ontology (biological process)_37</th>\n",
              "      <th>Gene ontology (biological process)_38</th>\n",
              "      <th>Gene ontology (biological process)_39</th>\n",
              "      <th>Gene ontology (biological process)_40</th>\n",
              "      <th>Gene ontology (biological process)_41</th>\n",
              "      <th>Gene ontology (biological process)_42</th>\n",
              "      <th>Gene ontology (biological process)_43</th>\n",
              "      <th>Keywords_0</th>\n",
              "      <th>Keywords_1</th>\n",
              "      <th>Keywords_2</th>\n",
              "      <th>Keywords_3</th>\n",
              "      <th>Keywords_4</th>\n",
              "      <th>Keywords_5</th>\n",
              "      <th>Keywords_6</th>\n",
              "      <th>Keywords_7</th>\n",
              "      <th>Keywords_8</th>\n",
              "      <th>Keywords_9</th>\n",
              "      <th>Keywords_10</th>\n",
              "      <th>Keywords_11</th>\n",
              "      <th>Keywords_12</th>\n",
              "      <th>Keywords_13</th>\n",
              "      <th>Sequence</th>\n",
              "    </tr>\n",
              "  </thead>\n",
              "  <tbody>\n",
              "    <tr>\n",
              "      <th>0</th>\n",
              "      <td>Eukaryota</td>\n",
              "      <td>Metazoa</td>\n",
              "      <td>Chordata</td>\n",
              "      <td>Actinopteri</td>\n",
              "      <td>Gadiformes (cods and others)</td>\n",
              "      <td>Gadus</td>\n",
              "      <td>Gadus morhua (Atlantic cod)</td>\n",
              "      <td>KW-0372</td>\n",
              "      <td>KW-0903</td>\n",
              "      <td>KW-0964</td>\n",
              "      <td>NaN</td>\n",
              "      <td>NaN</td>\n",
              "      <td>NaN</td>\n",
              "      <td>NaN</td>\n",
              "      <td>NaN</td>\n",
              "      <td>NaN</td>\n",
              "      <td>NaN</td>\n",
              "      <td>NaN</td>\n",
              "      <td>NaN</td>\n",
              "      <td>NaN</td>\n",
              "      <td>NaN</td>\n",
              "      <td>hormone activity [GO:0005179]</td>\n",
              "      <td>NaN</td>\n",
              "      <td>NaN</td>\n",
              "      <td>NaN</td>\n",
              "      <td>NaN</td>\n",
              "      <td>NaN</td>\n",
              "      <td>extracellular region [GO:0005576]</td>\n",
              "      <td>NaN</td>\n",
              "      <td>NaN</td>\n",
              "      <td>NaN</td>\n",
              "      <td>NaN</td>\n",
              "      <td>NaN</td>\n",
              "      <td>NaN</td>\n",
              "      <td>NaN</td>\n",
              "      <td>NaN</td>\n",
              "      <td>NaN</td>\n",
              "      <td>mRNA stabilization [GO:0048255]</td>\n",
              "      <td>prolactin secretion [GO:0070459]</td>\n",
              "      <td>NaN</td>\n",
              "      <td>...</td>\n",
              "      <td>NaN</td>\n",
              "      <td>NaN</td>\n",
              "      <td>NaN</td>\n",
              "      <td>NaN</td>\n",
              "      <td>NaN</td>\n",
              "      <td>NaN</td>\n",
              "      <td>NaN</td>\n",
              "      <td>NaN</td>\n",
              "      <td>NaN</td>\n",
              "      <td>NaN</td>\n",
              "      <td>NaN</td>\n",
              "      <td>NaN</td>\n",
              "      <td>NaN</td>\n",
              "      <td>NaN</td>\n",
              "      <td>NaN</td>\n",
              "      <td>NaN</td>\n",
              "      <td>NaN</td>\n",
              "      <td>NaN</td>\n",
              "      <td>NaN</td>\n",
              "      <td>NaN</td>\n",
              "      <td>NaN</td>\n",
              "      <td>NaN</td>\n",
              "      <td>NaN</td>\n",
              "      <td>NaN</td>\n",
              "      <td>NaN</td>\n",
              "      <td>Direct protein sequencing</td>\n",
              "      <td>Hormone</td>\n",
              "      <td>Secreted</td>\n",
              "      <td>NaN</td>\n",
              "      <td>NaN</td>\n",
              "      <td>NaN</td>\n",
              "      <td>NaN</td>\n",
              "      <td>NaN</td>\n",
              "      <td>NaN</td>\n",
              "      <td>NaN</td>\n",
              "      <td>NaN</td>\n",
              "      <td>NaN</td>\n",
              "      <td>NaN</td>\n",
              "      <td>NaN</td>\n",
              "      <td>HSDAVFTDNYSRFRKQMAAKKYLNS</td>\n",
              "    </tr>\n",
              "    <tr>\n",
              "      <th>1</th>\n",
              "      <td>Eukaryota</td>\n",
              "      <td>Metazoa</td>\n",
              "      <td>Chordata</td>\n",
              "      <td>Mammalia</td>\n",
              "      <td>Artiodactyla</td>\n",
              "      <td>Bos (oxen, cattle)</td>\n",
              "      <td>Bos taurus (Bovine)</td>\n",
              "      <td>KW-0027</td>\n",
              "      <td>KW-0165</td>\n",
              "      <td>KW-0372</td>\n",
              "      <td>KW-0524</td>\n",
              "      <td>KW-0732</td>\n",
              "      <td>KW-0964</td>\n",
              "      <td>KW-1185</td>\n",
              "      <td>NaN</td>\n",
              "      <td>NaN</td>\n",
              "      <td>NaN</td>\n",
              "      <td>NaN</td>\n",
              "      <td>NaN</td>\n",
              "      <td>NaN</td>\n",
              "      <td>NaN</td>\n",
              "      <td>neuropeptide hormone activity [GO:0005184]</td>\n",
              "      <td>peptide hormone receptor binding [GO:0051428]</td>\n",
              "      <td>pituitary adenylate cyclase activating polypep...</td>\n",
              "      <td>pituitary adenylate cyclase-activating polypep...</td>\n",
              "      <td>NaN</td>\n",
              "      <td>NaN</td>\n",
              "      <td>extracellular region [GO:0005576]</td>\n",
              "      <td>NaN</td>\n",
              "      <td>NaN</td>\n",
              "      <td>NaN</td>\n",
              "      <td>NaN</td>\n",
              "      <td>NaN</td>\n",
              "      <td>NaN</td>\n",
              "      <td>NaN</td>\n",
              "      <td>NaN</td>\n",
              "      <td>NaN</td>\n",
              "      <td>adenylate cyclase-activating G protein-coupled...</td>\n",
              "      <td>cAMP-mediated signaling [GO:0019933]</td>\n",
              "      <td>insulin secretion [GO:0030073]</td>\n",
              "      <td>...</td>\n",
              "      <td>NaN</td>\n",
              "      <td>NaN</td>\n",
              "      <td>NaN</td>\n",
              "      <td>NaN</td>\n",
              "      <td>NaN</td>\n",
              "      <td>NaN</td>\n",
              "      <td>NaN</td>\n",
              "      <td>NaN</td>\n",
              "      <td>NaN</td>\n",
              "      <td>NaN</td>\n",
              "      <td>NaN</td>\n",
              "      <td>NaN</td>\n",
              "      <td>NaN</td>\n",
              "      <td>NaN</td>\n",
              "      <td>NaN</td>\n",
              "      <td>NaN</td>\n",
              "      <td>NaN</td>\n",
              "      <td>NaN</td>\n",
              "      <td>NaN</td>\n",
              "      <td>NaN</td>\n",
              "      <td>NaN</td>\n",
              "      <td>NaN</td>\n",
              "      <td>NaN</td>\n",
              "      <td>NaN</td>\n",
              "      <td>NaN</td>\n",
              "      <td>Amidation</td>\n",
              "      <td>Cleavage on pair of basic residues</td>\n",
              "      <td>Hormone</td>\n",
              "      <td>Neurogenesis</td>\n",
              "      <td>Reference proteome</td>\n",
              "      <td>Secreted</td>\n",
              "      <td>Signal</td>\n",
              "      <td>NaN</td>\n",
              "      <td>NaN</td>\n",
              "      <td>NaN</td>\n",
              "      <td>NaN</td>\n",
              "      <td>NaN</td>\n",
              "      <td>NaN</td>\n",
              "      <td>NaN</td>\n",
              "      <td>MTMCSGARLALLVYGILMHSSVYGSPAASGLRFPGIRPENEVYDED...</td>\n",
              "    </tr>\n",
              "    <tr>\n",
              "      <th>2</th>\n",
              "      <td>Eukaryota</td>\n",
              "      <td>Metazoa</td>\n",
              "      <td>Chordata</td>\n",
              "      <td>Aves</td>\n",
              "      <td>Galliformes</td>\n",
              "      <td>Gallus</td>\n",
              "      <td>Gallus gallus (Chicken)</td>\n",
              "      <td>KW-0027</td>\n",
              "      <td>KW-0372</td>\n",
              "      <td>KW-0903</td>\n",
              "      <td>KW-0964</td>\n",
              "      <td>KW-1185</td>\n",
              "      <td>NaN</td>\n",
              "      <td>NaN</td>\n",
              "      <td>NaN</td>\n",
              "      <td>NaN</td>\n",
              "      <td>NaN</td>\n",
              "      <td>NaN</td>\n",
              "      <td>NaN</td>\n",
              "      <td>NaN</td>\n",
              "      <td>NaN</td>\n",
              "      <td>digestive hormone activity [GO:0046659]</td>\n",
              "      <td>hormone activity [GO:0005179]</td>\n",
              "      <td>NaN</td>\n",
              "      <td>NaN</td>\n",
              "      <td>NaN</td>\n",
              "      <td>NaN</td>\n",
              "      <td>extracellular space [GO:0005615]</td>\n",
              "      <td>NaN</td>\n",
              "      <td>NaN</td>\n",
              "      <td>NaN</td>\n",
              "      <td>NaN</td>\n",
              "      <td>NaN</td>\n",
              "      <td>NaN</td>\n",
              "      <td>NaN</td>\n",
              "      <td>NaN</td>\n",
              "      <td>NaN</td>\n",
              "      <td>cellular water homeostasis [GO:0009992]</td>\n",
              "      <td>diet induced thermogenesis [GO:0002024]</td>\n",
              "      <td>hippocampus development [GO:0021766]</td>\n",
              "      <td>...</td>\n",
              "      <td>NaN</td>\n",
              "      <td>NaN</td>\n",
              "      <td>NaN</td>\n",
              "      <td>NaN</td>\n",
              "      <td>NaN</td>\n",
              "      <td>NaN</td>\n",
              "      <td>NaN</td>\n",
              "      <td>NaN</td>\n",
              "      <td>NaN</td>\n",
              "      <td>NaN</td>\n",
              "      <td>NaN</td>\n",
              "      <td>NaN</td>\n",
              "      <td>NaN</td>\n",
              "      <td>NaN</td>\n",
              "      <td>NaN</td>\n",
              "      <td>NaN</td>\n",
              "      <td>NaN</td>\n",
              "      <td>NaN</td>\n",
              "      <td>NaN</td>\n",
              "      <td>NaN</td>\n",
              "      <td>NaN</td>\n",
              "      <td>NaN</td>\n",
              "      <td>NaN</td>\n",
              "      <td>NaN</td>\n",
              "      <td>NaN</td>\n",
              "      <td>Amidation</td>\n",
              "      <td>Direct protein sequencing</td>\n",
              "      <td>Hormone</td>\n",
              "      <td>Reference proteome</td>\n",
              "      <td>Secreted</td>\n",
              "      <td>NaN</td>\n",
              "      <td>NaN</td>\n",
              "      <td>NaN</td>\n",
              "      <td>NaN</td>\n",
              "      <td>NaN</td>\n",
              "      <td>NaN</td>\n",
              "      <td>NaN</td>\n",
              "      <td>NaN</td>\n",
              "      <td>NaN</td>\n",
              "      <td>HSDGLFTSEYSKMRGNAQVQKFIQNLM</td>\n",
              "    </tr>\n",
              "    <tr>\n",
              "      <th>3</th>\n",
              "      <td>Eukaryota</td>\n",
              "      <td>Metazoa</td>\n",
              "      <td>Chordata</td>\n",
              "      <td>Mammalia</td>\n",
              "      <td>Artiodactyla</td>\n",
              "      <td>Ovis</td>\n",
              "      <td>Ovis aries (Sheep)</td>\n",
              "      <td>KW-0027</td>\n",
              "      <td>KW-0903</td>\n",
              "      <td>KW-0964</td>\n",
              "      <td>KW-1185</td>\n",
              "      <td>NaN</td>\n",
              "      <td>NaN</td>\n",
              "      <td>NaN</td>\n",
              "      <td>NaN</td>\n",
              "      <td>NaN</td>\n",
              "      <td>NaN</td>\n",
              "      <td>NaN</td>\n",
              "      <td>NaN</td>\n",
              "      <td>NaN</td>\n",
              "      <td>NaN</td>\n",
              "      <td>hormone activity [GO:0005179]</td>\n",
              "      <td>NaN</td>\n",
              "      <td>NaN</td>\n",
              "      <td>NaN</td>\n",
              "      <td>NaN</td>\n",
              "      <td>NaN</td>\n",
              "      <td>extracellular region [GO:0005576]</td>\n",
              "      <td>NaN</td>\n",
              "      <td>NaN</td>\n",
              "      <td>NaN</td>\n",
              "      <td>NaN</td>\n",
              "      <td>NaN</td>\n",
              "      <td>NaN</td>\n",
              "      <td>NaN</td>\n",
              "      <td>NaN</td>\n",
              "      <td>NaN</td>\n",
              "      <td>NaN</td>\n",
              "      <td>NaN</td>\n",
              "      <td>NaN</td>\n",
              "      <td>...</td>\n",
              "      <td>NaN</td>\n",
              "      <td>NaN</td>\n",
              "      <td>NaN</td>\n",
              "      <td>NaN</td>\n",
              "      <td>NaN</td>\n",
              "      <td>NaN</td>\n",
              "      <td>NaN</td>\n",
              "      <td>NaN</td>\n",
              "      <td>NaN</td>\n",
              "      <td>NaN</td>\n",
              "      <td>NaN</td>\n",
              "      <td>NaN</td>\n",
              "      <td>NaN</td>\n",
              "      <td>NaN</td>\n",
              "      <td>NaN</td>\n",
              "      <td>NaN</td>\n",
              "      <td>NaN</td>\n",
              "      <td>NaN</td>\n",
              "      <td>NaN</td>\n",
              "      <td>NaN</td>\n",
              "      <td>NaN</td>\n",
              "      <td>NaN</td>\n",
              "      <td>NaN</td>\n",
              "      <td>NaN</td>\n",
              "      <td>NaN</td>\n",
              "      <td>Amidation</td>\n",
              "      <td>Direct protein sequencing</td>\n",
              "      <td>Reference proteome</td>\n",
              "      <td>Secreted</td>\n",
              "      <td>NaN</td>\n",
              "      <td>NaN</td>\n",
              "      <td>NaN</td>\n",
              "      <td>NaN</td>\n",
              "      <td>NaN</td>\n",
              "      <td>NaN</td>\n",
              "      <td>NaN</td>\n",
              "      <td>NaN</td>\n",
              "      <td>NaN</td>\n",
              "      <td>NaN</td>\n",
              "      <td>YADAIFTNSYRKILGQLSARKLLQDIMNRQQGERNQEQGAKVRL</td>\n",
              "    </tr>\n",
              "    <tr>\n",
              "      <th>4</th>\n",
              "      <td>Eukaryota</td>\n",
              "      <td>Metazoa</td>\n",
              "      <td>Chordata</td>\n",
              "      <td>Mammalia</td>\n",
              "      <td>Rodentia</td>\n",
              "      <td>Mesocricetus</td>\n",
              "      <td>Mesocricetus auratus (Golden hamster)</td>\n",
              "      <td>KW-0027</td>\n",
              "      <td>KW-0165</td>\n",
              "      <td>KW-0732</td>\n",
              "      <td>KW-0964</td>\n",
              "      <td>KW-1185</td>\n",
              "      <td>NaN</td>\n",
              "      <td>NaN</td>\n",
              "      <td>NaN</td>\n",
              "      <td>NaN</td>\n",
              "      <td>NaN</td>\n",
              "      <td>NaN</td>\n",
              "      <td>NaN</td>\n",
              "      <td>NaN</td>\n",
              "      <td>NaN</td>\n",
              "      <td>hormone activity [GO:0005179]</td>\n",
              "      <td>NaN</td>\n",
              "      <td>NaN</td>\n",
              "      <td>NaN</td>\n",
              "      <td>NaN</td>\n",
              "      <td>NaN</td>\n",
              "      <td>extracellular region [GO:0005576]</td>\n",
              "      <td>NaN</td>\n",
              "      <td>NaN</td>\n",
              "      <td>NaN</td>\n",
              "      <td>NaN</td>\n",
              "      <td>NaN</td>\n",
              "      <td>NaN</td>\n",
              "      <td>NaN</td>\n",
              "      <td>NaN</td>\n",
              "      <td>NaN</td>\n",
              "      <td>NaN</td>\n",
              "      <td>NaN</td>\n",
              "      <td>NaN</td>\n",
              "      <td>...</td>\n",
              "      <td>NaN</td>\n",
              "      <td>NaN</td>\n",
              "      <td>NaN</td>\n",
              "      <td>NaN</td>\n",
              "      <td>NaN</td>\n",
              "      <td>NaN</td>\n",
              "      <td>NaN</td>\n",
              "      <td>NaN</td>\n",
              "      <td>NaN</td>\n",
              "      <td>NaN</td>\n",
              "      <td>NaN</td>\n",
              "      <td>NaN</td>\n",
              "      <td>NaN</td>\n",
              "      <td>NaN</td>\n",
              "      <td>NaN</td>\n",
              "      <td>NaN</td>\n",
              "      <td>NaN</td>\n",
              "      <td>NaN</td>\n",
              "      <td>NaN</td>\n",
              "      <td>NaN</td>\n",
              "      <td>NaN</td>\n",
              "      <td>NaN</td>\n",
              "      <td>NaN</td>\n",
              "      <td>NaN</td>\n",
              "      <td>NaN</td>\n",
              "      <td>Amidation</td>\n",
              "      <td>Cleavage on pair of basic residues</td>\n",
              "      <td>Reference proteome</td>\n",
              "      <td>Secreted</td>\n",
              "      <td>Signal</td>\n",
              "      <td>NaN</td>\n",
              "      <td>NaN</td>\n",
              "      <td>NaN</td>\n",
              "      <td>NaN</td>\n",
              "      <td>NaN</td>\n",
              "      <td>NaN</td>\n",
              "      <td>NaN</td>\n",
              "      <td>NaN</td>\n",
              "      <td>NaN</td>\n",
              "      <td>MPLWVFFVILTLTNGSHCSPSPSLPFRIRRYADAIFTSSYRKVLGQ...</td>\n",
              "    </tr>\n",
              "    <tr>\n",
              "      <th>...</th>\n",
              "      <td>...</td>\n",
              "      <td>...</td>\n",
              "      <td>...</td>\n",
              "      <td>...</td>\n",
              "      <td>...</td>\n",
              "      <td>...</td>\n",
              "      <td>...</td>\n",
              "      <td>...</td>\n",
              "      <td>...</td>\n",
              "      <td>...</td>\n",
              "      <td>...</td>\n",
              "      <td>...</td>\n",
              "      <td>...</td>\n",
              "      <td>...</td>\n",
              "      <td>...</td>\n",
              "      <td>...</td>\n",
              "      <td>...</td>\n",
              "      <td>...</td>\n",
              "      <td>...</td>\n",
              "      <td>...</td>\n",
              "      <td>...</td>\n",
              "      <td>...</td>\n",
              "      <td>...</td>\n",
              "      <td>...</td>\n",
              "      <td>...</td>\n",
              "      <td>...</td>\n",
              "      <td>...</td>\n",
              "      <td>...</td>\n",
              "      <td>...</td>\n",
              "      <td>...</td>\n",
              "      <td>...</td>\n",
              "      <td>...</td>\n",
              "      <td>...</td>\n",
              "      <td>...</td>\n",
              "      <td>...</td>\n",
              "      <td>...</td>\n",
              "      <td>...</td>\n",
              "      <td>...</td>\n",
              "      <td>...</td>\n",
              "      <td>...</td>\n",
              "      <td>...</td>\n",
              "      <td>...</td>\n",
              "      <td>...</td>\n",
              "      <td>...</td>\n",
              "      <td>...</td>\n",
              "      <td>...</td>\n",
              "      <td>...</td>\n",
              "      <td>...</td>\n",
              "      <td>...</td>\n",
              "      <td>...</td>\n",
              "      <td>...</td>\n",
              "      <td>...</td>\n",
              "      <td>...</td>\n",
              "      <td>...</td>\n",
              "      <td>...</td>\n",
              "      <td>...</td>\n",
              "      <td>...</td>\n",
              "      <td>...</td>\n",
              "      <td>...</td>\n",
              "      <td>...</td>\n",
              "      <td>...</td>\n",
              "      <td>...</td>\n",
              "      <td>...</td>\n",
              "      <td>...</td>\n",
              "      <td>...</td>\n",
              "      <td>...</td>\n",
              "      <td>...</td>\n",
              "      <td>...</td>\n",
              "      <td>...</td>\n",
              "      <td>...</td>\n",
              "      <td>...</td>\n",
              "      <td>...</td>\n",
              "      <td>...</td>\n",
              "      <td>...</td>\n",
              "      <td>...</td>\n",
              "      <td>...</td>\n",
              "      <td>...</td>\n",
              "      <td>...</td>\n",
              "      <td>...</td>\n",
              "      <td>...</td>\n",
              "      <td>...</td>\n",
              "    </tr>\n",
              "    <tr>\n",
              "      <th>2272</th>\n",
              "      <td>Eukaryota</td>\n",
              "      <td>Metazoa</td>\n",
              "      <td>Chordata</td>\n",
              "      <td>Mammalia</td>\n",
              "      <td>Primates</td>\n",
              "      <td>Pan (chimpanzees)</td>\n",
              "      <td>Pan paniscus (Pygmy chimpanzee) (Bonobo)</td>\n",
              "      <td>KW-0732</td>\n",
              "      <td>KW-1185</td>\n",
              "      <td>NaN</td>\n",
              "      <td>NaN</td>\n",
              "      <td>NaN</td>\n",
              "      <td>NaN</td>\n",
              "      <td>NaN</td>\n",
              "      <td>NaN</td>\n",
              "      <td>NaN</td>\n",
              "      <td>NaN</td>\n",
              "      <td>NaN</td>\n",
              "      <td>NaN</td>\n",
              "      <td>NaN</td>\n",
              "      <td>NaN</td>\n",
              "      <td>hormone activity [GO:0005179]</td>\n",
              "      <td>peptide hormone receptor binding [GO:0051428]</td>\n",
              "      <td>NaN</td>\n",
              "      <td>NaN</td>\n",
              "      <td>NaN</td>\n",
              "      <td>NaN</td>\n",
              "      <td>extracellular region [GO:0005576]</td>\n",
              "      <td>NaN</td>\n",
              "      <td>NaN</td>\n",
              "      <td>NaN</td>\n",
              "      <td>NaN</td>\n",
              "      <td>NaN</td>\n",
              "      <td>NaN</td>\n",
              "      <td>NaN</td>\n",
              "      <td>NaN</td>\n",
              "      <td>NaN</td>\n",
              "      <td>adenylate cyclase-activating G protein-coupled...</td>\n",
              "      <td>positive regulation of protein catabolic proce...</td>\n",
              "      <td>regulation of protein localization [GO:0032880]</td>\n",
              "      <td>...</td>\n",
              "      <td>NaN</td>\n",
              "      <td>NaN</td>\n",
              "      <td>NaN</td>\n",
              "      <td>NaN</td>\n",
              "      <td>NaN</td>\n",
              "      <td>NaN</td>\n",
              "      <td>NaN</td>\n",
              "      <td>NaN</td>\n",
              "      <td>NaN</td>\n",
              "      <td>NaN</td>\n",
              "      <td>NaN</td>\n",
              "      <td>NaN</td>\n",
              "      <td>NaN</td>\n",
              "      <td>NaN</td>\n",
              "      <td>NaN</td>\n",
              "      <td>NaN</td>\n",
              "      <td>NaN</td>\n",
              "      <td>NaN</td>\n",
              "      <td>NaN</td>\n",
              "      <td>NaN</td>\n",
              "      <td>NaN</td>\n",
              "      <td>NaN</td>\n",
              "      <td>NaN</td>\n",
              "      <td>NaN</td>\n",
              "      <td>NaN</td>\n",
              "      <td>Reference proteome</td>\n",
              "      <td>Signal</td>\n",
              "      <td>NaN</td>\n",
              "      <td>NaN</td>\n",
              "      <td>NaN</td>\n",
              "      <td>NaN</td>\n",
              "      <td>NaN</td>\n",
              "      <td>NaN</td>\n",
              "      <td>NaN</td>\n",
              "      <td>NaN</td>\n",
              "      <td>NaN</td>\n",
              "      <td>NaN</td>\n",
              "      <td>NaN</td>\n",
              "      <td>NaN</td>\n",
              "      <td>MDTRNKAQLLVLLTLLSVLFSQTSAWPLYRAPSALRLGDRIPFEGA...</td>\n",
              "    </tr>\n",
              "    <tr>\n",
              "      <th>2273</th>\n",
              "      <td>Eukaryota</td>\n",
              "      <td>Metazoa</td>\n",
              "      <td>Chordata</td>\n",
              "      <td>Mammalia</td>\n",
              "      <td>Artiodactyla</td>\n",
              "      <td>Tursiops</td>\n",
              "      <td>Tursiops truncatus (Atlantic bottle-nosed dolp...</td>\n",
              "      <td>KW-0732</td>\n",
              "      <td>KW-1185</td>\n",
              "      <td>NaN</td>\n",
              "      <td>NaN</td>\n",
              "      <td>NaN</td>\n",
              "      <td>NaN</td>\n",
              "      <td>NaN</td>\n",
              "      <td>NaN</td>\n",
              "      <td>NaN</td>\n",
              "      <td>NaN</td>\n",
              "      <td>NaN</td>\n",
              "      <td>NaN</td>\n",
              "      <td>NaN</td>\n",
              "      <td>NaN</td>\n",
              "      <td>hormone activity [GO:0005179]</td>\n",
              "      <td>NaN</td>\n",
              "      <td>NaN</td>\n",
              "      <td>NaN</td>\n",
              "      <td>NaN</td>\n",
              "      <td>NaN</td>\n",
              "      <td>extracellular region [GO:0005576]</td>\n",
              "      <td>NaN</td>\n",
              "      <td>NaN</td>\n",
              "      <td>NaN</td>\n",
              "      <td>NaN</td>\n",
              "      <td>NaN</td>\n",
              "      <td>NaN</td>\n",
              "      <td>NaN</td>\n",
              "      <td>NaN</td>\n",
              "      <td>NaN</td>\n",
              "      <td>NaN</td>\n",
              "      <td>NaN</td>\n",
              "      <td>NaN</td>\n",
              "      <td>...</td>\n",
              "      <td>NaN</td>\n",
              "      <td>NaN</td>\n",
              "      <td>NaN</td>\n",
              "      <td>NaN</td>\n",
              "      <td>NaN</td>\n",
              "      <td>NaN</td>\n",
              "      <td>NaN</td>\n",
              "      <td>NaN</td>\n",
              "      <td>NaN</td>\n",
              "      <td>NaN</td>\n",
              "      <td>NaN</td>\n",
              "      <td>NaN</td>\n",
              "      <td>NaN</td>\n",
              "      <td>NaN</td>\n",
              "      <td>NaN</td>\n",
              "      <td>NaN</td>\n",
              "      <td>NaN</td>\n",
              "      <td>NaN</td>\n",
              "      <td>NaN</td>\n",
              "      <td>NaN</td>\n",
              "      <td>NaN</td>\n",
              "      <td>NaN</td>\n",
              "      <td>NaN</td>\n",
              "      <td>NaN</td>\n",
              "      <td>NaN</td>\n",
              "      <td>Reference proteome</td>\n",
              "      <td>Signal</td>\n",
              "      <td>NaN</td>\n",
              "      <td>NaN</td>\n",
              "      <td>NaN</td>\n",
              "      <td>NaN</td>\n",
              "      <td>NaN</td>\n",
              "      <td>NaN</td>\n",
              "      <td>NaN</td>\n",
              "      <td>NaN</td>\n",
              "      <td>NaN</td>\n",
              "      <td>NaN</td>\n",
              "      <td>NaN</td>\n",
              "      <td>NaN</td>\n",
              "      <td>MLLWVFFLVTLTLSSGSHGSPPSQPLRMPRYADAIFTNSYRKVLAQ...</td>\n",
              "    </tr>\n",
              "    <tr>\n",
              "      <th>2274</th>\n",
              "      <td>Eukaryota</td>\n",
              "      <td>Metazoa</td>\n",
              "      <td>Chordata</td>\n",
              "      <td>Mammalia</td>\n",
              "      <td>Carnivora</td>\n",
              "      <td>Suricata</td>\n",
              "      <td>Suricata suricatta (Meerkat)</td>\n",
              "      <td>KW-0732</td>\n",
              "      <td>KW-1185</td>\n",
              "      <td>NaN</td>\n",
              "      <td>NaN</td>\n",
              "      <td>NaN</td>\n",
              "      <td>NaN</td>\n",
              "      <td>NaN</td>\n",
              "      <td>NaN</td>\n",
              "      <td>NaN</td>\n",
              "      <td>NaN</td>\n",
              "      <td>NaN</td>\n",
              "      <td>NaN</td>\n",
              "      <td>NaN</td>\n",
              "      <td>NaN</td>\n",
              "      <td>pituitary adenylate cyclase activating polypep...</td>\n",
              "      <td>pituitary adenylate cyclase-activating polypep...</td>\n",
              "      <td>NaN</td>\n",
              "      <td>NaN</td>\n",
              "      <td>NaN</td>\n",
              "      <td>NaN</td>\n",
              "      <td>extracellular region [GO:0005576]</td>\n",
              "      <td>NaN</td>\n",
              "      <td>NaN</td>\n",
              "      <td>NaN</td>\n",
              "      <td>NaN</td>\n",
              "      <td>NaN</td>\n",
              "      <td>NaN</td>\n",
              "      <td>NaN</td>\n",
              "      <td>NaN</td>\n",
              "      <td>NaN</td>\n",
              "      <td>G protein-coupled receptor signaling pathway [...</td>\n",
              "      <td>insulin secretion [GO:0030073]</td>\n",
              "      <td>NaN</td>\n",
              "      <td>...</td>\n",
              "      <td>NaN</td>\n",
              "      <td>NaN</td>\n",
              "      <td>NaN</td>\n",
              "      <td>NaN</td>\n",
              "      <td>NaN</td>\n",
              "      <td>NaN</td>\n",
              "      <td>NaN</td>\n",
              "      <td>NaN</td>\n",
              "      <td>NaN</td>\n",
              "      <td>NaN</td>\n",
              "      <td>NaN</td>\n",
              "      <td>NaN</td>\n",
              "      <td>NaN</td>\n",
              "      <td>NaN</td>\n",
              "      <td>NaN</td>\n",
              "      <td>NaN</td>\n",
              "      <td>NaN</td>\n",
              "      <td>NaN</td>\n",
              "      <td>NaN</td>\n",
              "      <td>NaN</td>\n",
              "      <td>NaN</td>\n",
              "      <td>NaN</td>\n",
              "      <td>NaN</td>\n",
              "      <td>NaN</td>\n",
              "      <td>NaN</td>\n",
              "      <td>Reference proteome</td>\n",
              "      <td>Signal</td>\n",
              "      <td>NaN</td>\n",
              "      <td>NaN</td>\n",
              "      <td>NaN</td>\n",
              "      <td>NaN</td>\n",
              "      <td>NaN</td>\n",
              "      <td>NaN</td>\n",
              "      <td>NaN</td>\n",
              "      <td>NaN</td>\n",
              "      <td>NaN</td>\n",
              "      <td>NaN</td>\n",
              "      <td>NaN</td>\n",
              "      <td>NaN</td>\n",
              "      <td>MTMCSGVRLALLVYGIIMHSSVYCSPAAAGLRFPGIRPDDEAYDED...</td>\n",
              "    </tr>\n",
              "    <tr>\n",
              "      <th>2275</th>\n",
              "      <td>Eukaryota</td>\n",
              "      <td>Metazoa</td>\n",
              "      <td>Chordata</td>\n",
              "      <td>Mammalia</td>\n",
              "      <td>Primates</td>\n",
              "      <td>Chlorocebus</td>\n",
              "      <td>Chlorocebus sabaeus (Green monkey) (Cercopithe...</td>\n",
              "      <td>KW-0732</td>\n",
              "      <td>KW-1185</td>\n",
              "      <td>NaN</td>\n",
              "      <td>NaN</td>\n",
              "      <td>NaN</td>\n",
              "      <td>NaN</td>\n",
              "      <td>NaN</td>\n",
              "      <td>NaN</td>\n",
              "      <td>NaN</td>\n",
              "      <td>NaN</td>\n",
              "      <td>NaN</td>\n",
              "      <td>NaN</td>\n",
              "      <td>NaN</td>\n",
              "      <td>NaN</td>\n",
              "      <td>hormone activity [GO:0005179]</td>\n",
              "      <td>identical protein binding [GO:0042802]</td>\n",
              "      <td>NaN</td>\n",
              "      <td>NaN</td>\n",
              "      <td>NaN</td>\n",
              "      <td>NaN</td>\n",
              "      <td>cytoplasm [GO:0005737]</td>\n",
              "      <td>extracellular space [GO:0005615]</td>\n",
              "      <td>NaN</td>\n",
              "      <td>NaN</td>\n",
              "      <td>NaN</td>\n",
              "      <td>NaN</td>\n",
              "      <td>NaN</td>\n",
              "      <td>NaN</td>\n",
              "      <td>NaN</td>\n",
              "      <td>NaN</td>\n",
              "      <td>adenylate cyclase-activating G protein-coupled...</td>\n",
              "      <td>glucose homeostasis [GO:0042593]</td>\n",
              "      <td>negative regulation of execution phase of apop...</td>\n",
              "      <td>...</td>\n",
              "      <td>NaN</td>\n",
              "      <td>NaN</td>\n",
              "      <td>NaN</td>\n",
              "      <td>NaN</td>\n",
              "      <td>NaN</td>\n",
              "      <td>NaN</td>\n",
              "      <td>NaN</td>\n",
              "      <td>NaN</td>\n",
              "      <td>NaN</td>\n",
              "      <td>NaN</td>\n",
              "      <td>NaN</td>\n",
              "      <td>NaN</td>\n",
              "      <td>NaN</td>\n",
              "      <td>NaN</td>\n",
              "      <td>NaN</td>\n",
              "      <td>NaN</td>\n",
              "      <td>NaN</td>\n",
              "      <td>NaN</td>\n",
              "      <td>NaN</td>\n",
              "      <td>NaN</td>\n",
              "      <td>NaN</td>\n",
              "      <td>NaN</td>\n",
              "      <td>NaN</td>\n",
              "      <td>NaN</td>\n",
              "      <td>NaN</td>\n",
              "      <td>Reference proteome</td>\n",
              "      <td>Signal</td>\n",
              "      <td>NaN</td>\n",
              "      <td>NaN</td>\n",
              "      <td>NaN</td>\n",
              "      <td>NaN</td>\n",
              "      <td>NaN</td>\n",
              "      <td>NaN</td>\n",
              "      <td>NaN</td>\n",
              "      <td>NaN</td>\n",
              "      <td>NaN</td>\n",
              "      <td>NaN</td>\n",
              "      <td>NaN</td>\n",
              "      <td>NaN</td>\n",
              "      <td>MKSIYFVAVLFVMLVQGSWQRSLQDTEEKPRSVSASQTDPLGDPDQ...</td>\n",
              "    </tr>\n",
              "    <tr>\n",
              "      <th>2276</th>\n",
              "      <td>Eukaryota</td>\n",
              "      <td>Metazoa</td>\n",
              "      <td>Arthropoda</td>\n",
              "      <td>Malacostraca</td>\n",
              "      <td>Decapoda</td>\n",
              "      <td>Eriocheir</td>\n",
              "      <td>Eriocheir japonica (Japanese mitten crab)</td>\n",
              "      <td>NaN</td>\n",
              "      <td>NaN</td>\n",
              "      <td>NaN</td>\n",
              "      <td>NaN</td>\n",
              "      <td>NaN</td>\n",
              "      <td>NaN</td>\n",
              "      <td>NaN</td>\n",
              "      <td>NaN</td>\n",
              "      <td>NaN</td>\n",
              "      <td>NaN</td>\n",
              "      <td>NaN</td>\n",
              "      <td>NaN</td>\n",
              "      <td>NaN</td>\n",
              "      <td>NaN</td>\n",
              "      <td>pituitary adenylate cyclase activating polypep...</td>\n",
              "      <td>pituitary adenylate cyclase-activating polypep...</td>\n",
              "      <td>NaN</td>\n",
              "      <td>NaN</td>\n",
              "      <td>NaN</td>\n",
              "      <td>NaN</td>\n",
              "      <td>extracellular region [GO:0005576]</td>\n",
              "      <td>NaN</td>\n",
              "      <td>NaN</td>\n",
              "      <td>NaN</td>\n",
              "      <td>NaN</td>\n",
              "      <td>NaN</td>\n",
              "      <td>NaN</td>\n",
              "      <td>NaN</td>\n",
              "      <td>NaN</td>\n",
              "      <td>NaN</td>\n",
              "      <td>G protein-coupled receptor signaling pathway [...</td>\n",
              "      <td>insulin secretion [GO:0030073]</td>\n",
              "      <td>NaN</td>\n",
              "      <td>...</td>\n",
              "      <td>NaN</td>\n",
              "      <td>NaN</td>\n",
              "      <td>NaN</td>\n",
              "      <td>NaN</td>\n",
              "      <td>NaN</td>\n",
              "      <td>NaN</td>\n",
              "      <td>NaN</td>\n",
              "      <td>NaN</td>\n",
              "      <td>NaN</td>\n",
              "      <td>NaN</td>\n",
              "      <td>NaN</td>\n",
              "      <td>NaN</td>\n",
              "      <td>NaN</td>\n",
              "      <td>NaN</td>\n",
              "      <td>NaN</td>\n",
              "      <td>NaN</td>\n",
              "      <td>NaN</td>\n",
              "      <td>NaN</td>\n",
              "      <td>NaN</td>\n",
              "      <td>NaN</td>\n",
              "      <td>NaN</td>\n",
              "      <td>NaN</td>\n",
              "      <td>NaN</td>\n",
              "      <td>NaN</td>\n",
              "      <td>NaN</td>\n",
              "      <td>NaN</td>\n",
              "      <td>NaN</td>\n",
              "      <td>NaN</td>\n",
              "      <td>NaN</td>\n",
              "      <td>NaN</td>\n",
              "      <td>NaN</td>\n",
              "      <td>NaN</td>\n",
              "      <td>NaN</td>\n",
              "      <td>NaN</td>\n",
              "      <td>NaN</td>\n",
              "      <td>NaN</td>\n",
              "      <td>NaN</td>\n",
              "      <td>NaN</td>\n",
              "      <td>NaN</td>\n",
              "      <td>HSDGIFTDSYSRYREQMAVKKYLAAVLGKRYRQRYRNK</td>\n",
              "    </tr>\n",
              "  </tbody>\n",
              "</table>\n",
              "<p>2277 rows × 96 columns</p>\n",
              "</div>"
            ],
            "text/plain": [
              "     Taxonomic lineage (SUPERKINGDOM)  ...                                           Sequence\n",
              "0                           Eukaryota  ...                          HSDAVFTDNYSRFRKQMAAKKYLNS\n",
              "1                           Eukaryota  ...  MTMCSGARLALLVYGILMHSSVYGSPAASGLRFPGIRPENEVYDED...\n",
              "2                           Eukaryota  ...                        HSDGLFTSEYSKMRGNAQVQKFIQNLM\n",
              "3                           Eukaryota  ...       YADAIFTNSYRKILGQLSARKLLQDIMNRQQGERNQEQGAKVRL\n",
              "4                           Eukaryota  ...  MPLWVFFVILTLTNGSHCSPSPSLPFRIRRYADAIFTSSYRKVLGQ...\n",
              "...                               ...  ...                                                ...\n",
              "2272                        Eukaryota  ...  MDTRNKAQLLVLLTLLSVLFSQTSAWPLYRAPSALRLGDRIPFEGA...\n",
              "2273                        Eukaryota  ...  MLLWVFFLVTLTLSSGSHGSPPSQPLRMPRYADAIFTNSYRKVLAQ...\n",
              "2274                        Eukaryota  ...  MTMCSGVRLALLVYGIIMHSSVYCSPAAAGLRFPGIRPDDEAYDED...\n",
              "2275                        Eukaryota  ...  MKSIYFVAVLFVMLVQGSWQRSLQDTEEKPRSVSASQTDPLGDPDQ...\n",
              "2276                        Eukaryota  ...             HSDGIFTDSYSRYREQMAVKKYLAAVLGKRYRQRYRNK\n",
              "\n",
              "[2277 rows x 96 columns]"
            ]
          },
          "metadata": {
            "tags": []
          },
          "execution_count": 87
        }
      ]
    },
    {
      "cell_type": "code",
      "metadata": {
        "colab": {
          "base_uri": "https://localhost:8080/"
        },
        "id": "ZefwSZi1-_rf",
        "outputId": "06c918c4-0fb2-44e4-de30-d89c4d587b71"
      },
      "source": [
        "data1 = pd.read_csv(\"dataset.csv\")\n",
        "data1['Sequence'].str.len().idxmax()"
      ],
      "execution_count": 68,
      "outputs": [
        {
          "output_type": "execute_result",
          "data": {
            "text/plain": [
              "743"
            ]
          },
          "metadata": {
            "tags": []
          },
          "execution_count": 68
        }
      ]
    },
    {
      "cell_type": "code",
      "metadata": {
        "colab": {
          "base_uri": "https://localhost:8080/",
          "height": 163
        },
        "id": "TDDvfPS5x1eE",
        "outputId": "ee441c66-a12c-4846-c495-429744cd491e"
      },
      "source": [
        "data.encoded.shape"
      ],
      "execution_count": 16,
      "outputs": [
        {
          "output_type": "error",
          "ename": "AttributeError",
          "evalue": "ignored",
          "traceback": [
            "\u001b[0;31m---------------------------------------------------------------------------\u001b[0m",
            "\u001b[0;31mAttributeError\u001b[0m                            Traceback (most recent call last)",
            "\u001b[0;32m<ipython-input-16-3d1e6f211d02>\u001b[0m in \u001b[0;36m<module>\u001b[0;34m()\u001b[0m\n\u001b[0;32m----> 1\u001b[0;31m \u001b[0mdata\u001b[0m\u001b[0;34m.\u001b[0m\u001b[0mencoded\u001b[0m\u001b[0;34m.\u001b[0m\u001b[0mshape\u001b[0m\u001b[0;34m\u001b[0m\u001b[0;34m\u001b[0m\u001b[0m\n\u001b[0m",
            "\u001b[0;31mAttributeError\u001b[0m: module 'torchtext.data' has no attribute 'encoded'"
          ]
        }
      ]
    },
    {
      "cell_type": "code",
      "metadata": {
        "colab": {
          "base_uri": "https://localhost:8080/"
        },
        "id": "LkhYRhIj-tHG",
        "outputId": "dad5152d-9928-4c61-d1d6-ad64dadb629e"
      },
      "source": [
        "with np.printoptions(threshold=np.inf):\n",
        "    print(data_encoded[0][95:])"
      ],
      "execution_count": 174,
      "outputs": [
        {
          "output_type": "stream",
          "text": [
            "[ 380  255  895  575   92  391  366  895 1079 1060  255  969  391  969\n",
            "  430  277  175  575  575  430  430 1060 1137 1079  255    0    0    0\n",
            "    0    0    0    0    0    0    0    0    0    0    0    0    0    0\n",
            "    0    0    0    0    0    0    0    0    0    0    0    0    0    0\n",
            "    0    0    0    0    0    0    0    0    0    0    0    0    0    0\n",
            "    0    0    0    0    0    0    0    0    0    0    0    0    0    0\n",
            "    0    0    0    0    0    0    0    0    0    0    0    0    0    0\n",
            "    0    0    0    0    0    0    0    0    0    0    0    0    0    0\n",
            "    0    0    0    0    0    0    0    0    0    0    0    0    0    0\n",
            "    0    0    0    0    0    0    0    0    0    0    0    0    0    0\n",
            "    0    0    0    0    0    0    0    0    0    0    0    0    0    0\n",
            "    0    0    0    0    0    0    0    0    0    0    0    0    0    0\n",
            "    0    0    0    0    0    0    0    0    0    0    0    0    0    0\n",
            "    0    0    0    0    0    0    0    0    0    0    0    0    0    0\n",
            "    0    0    0    0    0    0    0    0    0    0    0    0    0    0\n",
            "    0    0    0    0    0    0    0    0    0    0    0    0    0    0\n",
            "    0    0    0    0    0    0    0    0    0    0    0    0    0    0\n",
            "    0    0    0    0    0    0    0    0    0    0    0    0    0    0\n",
            "    0    0    0    0    0    0    0    0    0    0    0    0    0    0\n",
            "    0    0    0    0    0    0    0    0    0    0    0    0    0    0\n",
            "    0    0    0    0    0    0    0    0    0    0    0    0    0    0\n",
            "    0    0    0    0    0    0    0    0    0    0    0    0    0    0\n",
            "    0    0    0    0    0    0    0    0    0    0    0    0    0    0\n",
            "    0    0    0    0    0    0    0    0    0    0    0    0    0    0\n",
            "    0    0    0    0    0    0    0    0    0    0    0    0    0    0\n",
            "    0    0    0    0    0    0    0    0    0    0    0    0    0    0\n",
            "    0    0    0    0    0    0    0    0    0    0    0    0    0    0\n",
            "    0    0    0    0    0    0    0    0    0    0    0    0    0    0\n",
            "    0    0    0    0    0    0    0    0    0    0    0    0    0    0\n",
            "    0    0    0    0    0    0    0    0    0    0    0    0    0    0\n",
            "    0    0    0    0    0    0    0    0    0    0    0    0    0    0\n",
            "    0    0    0    0    0    0    0    0    0    0    0    0    0    0\n",
            "    0    0    0    0    0    0    0    0    0    0    0    0    0    0\n",
            "    0    0    0    0    0    0    0    0    0    0    0    0    0    0\n",
            "    0    0    0    0    0    0    0    0    0    0    0    0    0    0\n",
            "    0    0    0    0    0    0    0    0    0    0    0    0    0    0\n",
            "    0    0    0    0    0    0    0    0    0    0    0    0    0    0\n",
            "    0    0    0    0    0    0    0    0    0    0    0    0    0    0\n",
            "    0    0    0    0    0    0    0    0    0    0    0    0    0    0\n",
            "    0    0    0    0    0    0    0    0    0    0    0    0    0    0\n",
            "    0    0    0    0    0    0    0    0    0    0    0    0    0    0\n",
            "    0    0    0    0    0    0    0    0    0    0    0    0    0    0\n",
            "    0    0    0    0    0    0    0    0    0    0    0    0    0    0\n",
            "    0    0    0    0    0    0    0    0    0    0    0    0    0    0\n",
            "    0    0    0    0    0    0    0    0    0    0    0    0    0    0\n",
            "    0    0    0    0    0    0    0    0    0    0    0    0    0    0\n",
            "    0    0    0    0    0    0    0    0    0    0    0    0    0    0\n",
            "    0    0    0    0    0    0    0    0    0    0    0    0    0    0\n",
            "    0    0    0    0    0    0    0    0    0    0    0    0    0    0\n",
            "    0    0    0    0    0    0    0    0    0    0    0    0    0    0\n",
            "    0    0    0    0    0    0    0    0    0    0    0    0    0    0\n",
            "    0    0    0    0    0    0    0    0    0    0    0    0    0    0\n",
            "    0    0    0    0    0    0    0    0    0    0    0    0    0    0\n",
            "    0    0    0    0    0    0    0    0    0    0    0    0    0    0\n",
            "    0    0    0    0    0    0    0    0    0    0    0    0    0    0\n",
            "    0    0    0    0    0    0    0    0    0    0    0    0    0    0\n",
            "    0    0    0    0    0    0    0    0    0    0    0    0    0    0\n",
            "    0    0    0    0    0    0    0    0    0    0    0    0    0    0\n",
            "    0    0    0    0    0    0    0    0    0    0    0    0    0    0\n",
            "    0    0    0    0    0    0    0    0    0    0    0    0    0    0\n",
            "    0    0    0    0    0    0    0    0    0    0    0    0    0    0\n",
            "    0    0    0    0    0    0    0    0    0    0    0    0    0    0\n",
            "    0    0    0    0    0    0    0    0    0    0    0    0    0    0\n",
            "    0    0    0    0    0    0    0    0    0    0    0    0    0    0\n",
            "    0    0    0    0    0    0    0    0    0    0    0    0    0    0\n",
            "    0    0    0    0    0    0    0    0    0    0    0    0    0    0\n",
            "    0    0    0    0    0    0    0    0    0    0    0    0    0    0\n",
            "    0    0    0    0    0    0    0    0    0    0    0    0    0    0\n",
            "    0    0    0    0    0    0    0    0    0    0    0    0    0    0\n",
            "    0    0    0    0    0    0    0    0    0    0    0    0    0    0\n",
            "    0    0    0    0    0    0    0    0    0    0    0    0    0    0\n",
            "    0    0    0    0    0    0    0    0    0    0    0    0    0    0\n",
            "    0    0    0    0    0    0    0    0    0    0    0    0    0    0\n",
            "    0    0    0    0    0    0    0    0    0    0    0    0    0    0\n",
            "    0    0    0    0    0    0    0    0    0    0    0    0    0    0\n",
            "    0    0    0    0    0    0    0    0    0    0    0    0    0    0\n",
            "    0    0    0    0    0    0    0    0    0    0    0    0    0    0\n",
            "    0    0    0    0    0    0    0    0    0    0    0    0    0    0\n",
            "    0    0    0    0    0    0    0    0    0    0    0    0    0    0\n",
            "    0    0    0    0    0    0    0    0    0    0    0    0    0    0\n",
            "    0    0    0    0    0    0    0    0    0    0    0    0    0    0\n",
            "    0    0    0    0    0    0    0    0    0    0    0    0    0    0\n",
            "    0    0    0    0    0    0    0    0    0    0    0    0    0    0\n",
            "    0    0    0    0    0    0    0    0    0    0    0    0    0    0\n",
            "    0    0    0    0    0    0    0    0    0    0    0    0    0    0\n",
            "    0    0    0    0    0    0    0    0    0    0    0    0    0    0\n",
            "    0    0    0    0    0    0    0    0    0    0    0    0    0    0\n",
            "    0    0    0    0    0    0    0    0    0    0    0    0    0    0\n",
            "    0    0    0    0    0    0    0    0    0    0    0    0    0    0\n",
            "    0    0    0    0    0    0    0    0    0    0    0    0    0    0\n",
            "    0    0    0    0    0    0    0    0    0    0    0    0    0    0\n",
            "    0    0    0    0    0    0    0    0    0    0    0    0    0    0\n",
            "    0    0    0    0    0    0    0    0    0    0    0    0    0    0\n",
            "    0    0    0    0    0    0    0    0    0    0    0    0    0    0\n",
            "    0    0    0    0    0    0    0    0    0    0    0    0    0    0\n",
            "    0    0    0    0    0    0    0    0    0    0    0    0    0    0\n",
            "    0    0    0    0    0    0    0    0    0    0    0    0    0    0\n",
            "    0    0    0    0    0    0    0    0    0    0    0    0    0    0\n",
            "    0    0    0    0    0    0    0    0    0    0    0    0    0    0\n",
            "    0    0    0    0    0    0    0    0    0    0    0    0    0    0\n",
            "    0    0    0    0    0    0    0    0    0    0    0    0    0    0\n",
            "    0    0    0    0    0    0    0    0    0    0    0    0    0    0\n",
            "    0    0    0    0    0    0    0    0    0    0    0    0    0    0\n",
            "    0    0    0    0    0    0    0    0    0    0    0    0    0    0\n",
            "    0    0    0    0    0    0    0    0    0    0    0    0    0    0\n",
            "    0    0    0    0    0    0    0    0    0    0    0    0    0    0\n",
            "    0    0    0    0    0    0    0    0    0    0    0    0    0    0\n",
            "    0    0    0    0    0    0    0    0    0    0    0    0    0    0\n",
            "    0    0    0    0    0    0    0    0    0    0    0    0    0    0\n",
            "    0    0    0    0    0    0    0    0    0    0    0    0    0    0\n",
            "    0    0    0    0    0    0    0    0    0    0    0    0    0    0\n",
            "    0    0    0    0    0    0    0    0    0    0    0    0    0    0\n",
            "    0    0    0    0    0    0    0    0    0    0    0    0    0    0\n",
            "    0    0    0    0    0    0    0    0    0    0    0    0    0    0\n",
            "    0    0    0    0    0    0    0    0    0    0    0    0    0    0\n",
            "    0    0    0    0    0    0    0    0    0    0    0    0    0    0\n",
            "    0    0    0    0    0    0    0    0    0    0    0    0    0    0\n",
            "    0    0    0    0    0    0    0    0    0    0    0    0    0    0\n",
            "    0    0    0    0    0    0    0    0    0    0    0    0    0    0\n",
            "    0    0    0    0    0    0    0    0    0    0    0    0    0    0\n",
            "    0    0    0    0    0    0    0    0    0    0    0    0    0    0\n",
            "    0    0    0    0    0    0    0    0    0    0    0    0    0    0\n",
            "    0    0    0    0    0    0    0    0    0    0    0    0    0    0\n",
            "    0    0    0    0    0    0    0    0    0    0    0    0    0    0\n",
            "    0    0    0    0    0    0    0    0    0    0    0    0    0    0\n",
            "    0    0    0    0    0    0    0    0    0    0    0    0    0    0\n",
            "    0    0    0    0    0    0    0    0    0    0    0    0    0    0\n",
            "    0    0    0    0    0    0    0    0    0    0    0    0    0    0\n",
            "    0    0    0    0    0    0    0    0    0    0    0    0    0    0\n",
            "    0    0    0    0    0    0    0    0    0    0    0    0    0    0\n",
            "    0    0    0    0    0    0    0    0    0    0    0    0    0    0\n",
            "    0    0    0    0    0    0    0    0    0    0    0    0    0    0\n",
            "    0    0    0    0    0    0    0    0    0    0    0    0    0    0\n",
            "    0    0    0    0    0    0    0    0    0    0    0    0    0    0\n",
            "    0    0    0    0    0    0    0    0    0    0    0    0    0    0\n",
            "    0    0    0    0    0    0    0    0    0    0    0    0    0    0\n",
            "    0    0    0    0    0    0    0    0    0    0    0    0    0    0\n",
            "    0    0    0    0    0    0    0    0    0    0    0    0    0    0\n",
            "    0    0    0    0    0    0    0    0    0    0    0    0    0    0\n",
            "    0    0    0    0    0    0    0    0    0    0    0    0    0    0\n",
            "    0    0    0    0    0    0    0    0    0    0    0    0    0    0\n",
            "    0    0    0    0    0    0    0    0    0    0    0    0    0    0\n",
            "    0    0    0    0    0    0    0    0    0    0    0    0    0    0\n",
            "    0    0    0    0]\n"
          ],
          "name": "stdout"
        }
      ]
    },
    {
      "cell_type": "code",
      "metadata": {
        "colab": {
          "base_uri": "https://localhost:8080/"
        },
        "id": "CD_wy26GsKbi",
        "outputId": "d67562cc-908b-480a-ed6b-e3f3da3bf831"
      },
      "source": [
        "# Check that encoded data looks correct\n",
        "file = \"dataset.csv\"\n",
        "\n",
        "data, vocab, longest_sequence_length, sequence_pre_amino_acids_length = get_data(file)\n",
        "data_encoded, token_to_id, id_to_token = process_data(data, vocab, longest_sequence_length)\n",
        "\n",
        "with np.printoptions(threshold=np.inf):\n",
        "    print(data_encoded[0])"
      ],
      "execution_count": 9,
      "outputs": [
        {
          "output_type": "stream",
          "text": [
            "[ 956  469  598 1066  979  719  488  302 1031  232    0    0    0    0\n",
            "    0    0    0    0    0    0    0 1060    0    0    0    0    0  674\n",
            "    0    0    0    0    0    0    0    0    0  852  729    0    0    0\n",
            "    0    0    0    0    0    0    0    0    0    0    0    0    0    0\n",
            "    0    0    0    0    0    0    0    0    0    0    0    0    0    0\n",
            "    0    0    0    0    0    0    0    0    0    0    0  795   32  438\n",
            "    0    0    0    0    0    0    0    0    0    0    0  191   23  485\n",
            "  195   16  579  691  485  348  668   23  672  579  672  203  355  480\n",
            "  195  195  203  203  668   46  348   23    0    0    0    0    0    0\n",
            "    0    0    0    0    0    0    0    0    0    0    0    0    0    0\n",
            "    0    0    0    0    0    0    0    0    0    0    0    0    0    0\n",
            "    0    0    0    0    0    0    0    0    0    0    0    0    0    0\n",
            "    0    0    0    0    0    0    0    0    0    0    0    0    0    0\n",
            "    0    0    0    0    0    0    0    0    0    0    0    0    0    0\n",
            "    0    0    0    0    0    0    0    0    0    0    0    0    0    0\n",
            "    0    0    0    0    0    0    0    0    0    0    0    0    0    0\n",
            "    0    0    0    0    0    0    0    0    0    0    0    0    0    0\n",
            "    0    0    0    0    0    0    0    0    0    0    0    0    0    0\n",
            "    0    0    0    0    0    0    0    0    0    0    0    0    0    0\n",
            "    0    0    0    0    0    0    0    0    0    0    0    0    0    0\n",
            "    0    0    0    0    0    0    0    0    0    0    0    0    0    0\n",
            "    0    0    0    0    0    0    0    0    0    0    0    0    0    0\n",
            "    0    0    0    0    0    0    0    0    0    0    0    0    0    0\n",
            "    0    0    0    0    0    0    0    0    0    0    0    0    0    0\n",
            "    0    0    0    0    0    0    0    0    0    0    0    0    0    0\n",
            "    0    0    0    0    0    0    0    0    0    0    0    0    0    0\n",
            "    0    0    0    0    0    0    0    0    0    0    0    0    0    0\n",
            "    0    0    0    0    0    0    0    0    0    0    0    0    0    0\n",
            "    0    0    0    0    0    0    0    0    0    0    0    0    0    0\n",
            "    0    0    0    0    0    0    0    0    0    0    0    0    0    0\n",
            "    0    0    0    0    0    0    0    0    0    0    0    0    0    0\n",
            "    0    0    0    0    0    0    0    0    0    0    0    0    0    0\n",
            "    0    0    0    0    0    0    0    0    0    0    0    0    0    0\n",
            "    0    0    0    0    0    0    0    0    0    0    0    0    0    0\n",
            "    0    0    0    0    0    0    0    0    0    0    0    0    0    0\n",
            "    0    0    0    0    0    0    0    0    0    0    0    0    0    0\n",
            "    0    0    0    0    0    0    0    0    0    0    0    0    0    0\n",
            "    0    0    0    0    0    0    0    0    0    0    0    0    0    0\n",
            "    0    0    0    0    0    0    0    0    0    0    0    0    0    0\n",
            "    0    0    0    0    0    0    0    0    0    0    0    0    0    0\n",
            "    0    0    0    0    0    0    0    0    0    0    0    0    0    0\n",
            "    0    0    0    0    0    0    0    0    0    0    0    0    0    0\n",
            "    0    0    0    0    0    0    0    0    0    0    0    0    0    0\n",
            "    0    0    0    0    0    0    0    0    0    0    0    0    0    0\n",
            "    0    0    0    0    0    0    0    0    0    0    0    0    0    0\n",
            "    0    0    0    0    0    0    0    0    0    0    0    0    0    0\n",
            "    0    0    0    0    0    0    0    0    0    0    0    0    0    0\n",
            "    0    0    0    0    0    0    0    0    0    0    0    0    0    0\n",
            "    0    0    0    0    0    0    0    0    0    0    0    0    0    0\n",
            "    0    0    0    0    0    0    0    0    0    0    0    0    0    0\n",
            "    0    0    0    0    0    0    0    0    0    0    0    0    0    0\n",
            "    0    0    0    0    0    0    0    0    0    0    0    0    0    0\n",
            "    0    0    0    0    0    0    0    0    0    0    0    0    0    0\n",
            "    0    0    0    0    0    0    0    0    0    0    0    0    0    0\n",
            "    0    0    0    0    0    0    0    0    0    0    0    0    0    0\n",
            "    0    0    0    0    0    0    0    0    0    0    0    0    0    0\n",
            "    0    0    0    0    0    0    0    0    0    0    0    0    0    0\n",
            "    0    0    0    0    0    0    0    0    0    0    0    0    0    0\n",
            "    0    0    0    0    0    0    0    0    0    0    0    0    0    0\n",
            "    0    0    0    0    0    0    0    0    0    0    0    0    0    0\n",
            "    0    0    0    0    0    0    0    0    0    0    0    0    0    0\n",
            "    0    0    0    0    0    0    0    0    0    0    0    0    0    0\n",
            "    0    0    0    0    0    0    0    0    0    0    0    0    0    0\n",
            "    0    0    0    0    0    0    0    0    0    0    0    0    0    0\n",
            "    0    0    0    0    0    0    0    0    0    0    0    0    0    0\n",
            "    0    0    0    0    0    0    0    0    0    0    0    0    0    0\n",
            "    0    0    0    0    0    0    0    0    0    0    0    0    0    0\n",
            "    0    0    0    0    0    0    0    0    0    0    0    0    0    0\n",
            "    0    0    0    0    0    0    0    0    0    0    0    0    0    0\n",
            "    0    0    0    0    0    0    0    0    0    0    0    0    0    0\n",
            "    0    0    0    0    0    0    0    0    0    0    0    0    0    0\n",
            "    0    0    0    0    0    0    0    0    0    0    0    0    0    0\n",
            "    0    0    0    0    0    0    0    0    0    0    0    0    0    0\n",
            "    0    0    0    0    0    0    0    0    0    0    0    0    0    0\n",
            "    0    0    0    0    0    0    0    0    0    0    0    0    0    0\n",
            "    0    0    0    0    0    0    0    0    0    0    0    0    0    0\n",
            "    0    0    0    0    0    0    0    0    0    0    0    0    0    0\n",
            "    0    0    0    0    0    0    0    0    0    0    0    0    0    0\n",
            "    0    0    0    0    0    0    0    0    0    0    0    0    0    0\n",
            "    0    0    0    0    0    0    0    0    0    0    0    0    0    0\n",
            "    0    0    0    0    0    0    0    0    0    0    0    0    0    0\n",
            "    0    0    0    0    0    0    0    0    0    0    0    0    0    0\n",
            "    0    0    0    0    0    0    0    0    0    0    0    0    0    0\n",
            "    0    0    0    0    0    0    0    0    0    0    0    0    0    0\n",
            "    0    0    0    0    0    0    0    0    0    0    0    0    0    0\n",
            "    0    0    0    0    0    0    0    0    0    0    0    0    0    0\n",
            "    0    0    0    0    0    0    0    0    0    0    0    0    0    0\n",
            "    0    0    0    0    0    0    0    0    0    0    0    0    0    0\n",
            "    0    0    0    0    0    0    0    0    0    0    0    0    0    0\n",
            "    0    0    0    0    0    0    0    0    0    0    0    0    0    0\n",
            "    0    0    0    0    0    0    0    0    0    0    0    0    0    0\n",
            "    0    0    0    0    0    0    0    0    0    0    0    0    0    0\n",
            "    0    0    0    0    0    0    0    0    0    0    0    0    0    0\n",
            "    0    0    0    0    0    0    0    0    0    0    0    0    0    0\n",
            "    0    0    0    0    0    0    0    0    0    0    0    0    0    0\n",
            "    0    0    0    0    0    0    0    0    0    0    0    0    0    0\n",
            "    0    0    0    0    0    0    0    0    0    0    0    0    0    0\n",
            "    0    0    0    0    0    0    0    0    0    0    0    0    0    0\n",
            "    0    0    0    0    0    0    0    0    0    0    0    0    0    0\n",
            "    0    0    0    0    0    0    0    0    0    0    0    0    0    0\n",
            "    0    0    0    0    0    0    0    0    0    0    0    0    0    0\n",
            "    0    0    0    0    0    0    0    0    0    0    0    0    0    0\n",
            "    0    0    0    0    0    0    0    0    0    0    0    0    0    0\n",
            "    0    0    0    0    0    0    0    0    0    0    0    0    0    0\n",
            "    0    0    0    0    0    0    0    0    0    0    0    0    0    0\n",
            "    0    0    0    0    0    0    0    0    0    0    0    0    0    0\n",
            "    0    0    0    0    0    0    0    0    0    0    0    0    0    0\n",
            "    0    0    0    0    0    0    0    0    0    0    0    0    0    0\n",
            "    0    0    0    0    0    0    0    0    0    0    0    0    0    0\n",
            "    0    0    0    0    0    0    0    0    0    0    0    0    0    0\n",
            "    0    0    0    0    0    0    0    0    0    0    0    0    0    0\n",
            "    0    0    0    0    0    0    0    0    0    0    0    0    0    0\n",
            "    0    0    0    0    0    0    0    0    0    0    0    0    0    0\n",
            "    0    0    0    0    0    0    0    0    0    0    0    0    0    0\n",
            "    0    0    0    0    0    0    0    0    0    0    0    0    0    0\n",
            "    0    0    0    0    0    0    0    0    0    0    0    0    0    0\n",
            "    0    0    0    0    0    0    0    0    0    0    0    0    0    0\n",
            "    0    0    0    0    0    0    0    0    0    0    0    0    0    0\n",
            "    0    0    0    0    0    0    0    0    0    0    0    0    0    0\n",
            "    0    0    0    0    0    0    0    0    0    0    0    0    0    0\n",
            "    0    0    0    0    0    0    0    0    0    0    0    0    0    0\n",
            "    0    0    0    0    0    0    0    0    0    0    0    0    0    0\n",
            "    0    0    0    0    0    0    0    0    0    0    0    0    0    0\n",
            "    0    0    0    0    0    0    0    0    0    0    0    0    0    0\n",
            "    0    0    0    0    0    0    0    0    0    0    0    0    0    0\n",
            "    0    0    0    0    0    0    0    0    0    0    0    0    0    0\n",
            "    0    0    0    0    0    0    0    0    0    0    0    0    0    0\n",
            "    0    0    0    0    0    0    0    0    0    0    0    0    0    0\n",
            "    0    0    0    0    0    0    0    0    0    0    0    0    0    0\n",
            "    0    0    0    0    0    0    0    0    0    0    0    0    0    0\n",
            "    0    0    0    0    0    0    0    0    0    0    0    0    0    0\n",
            "    0    0    0    0    0    0    0    0    0    0    0    0    0    0\n",
            "    0    0    0    0    0    0    0    0    0    0    0    0    0    0\n",
            "    0    0    0    0    0    0    0    0    0    0    0    0    0    0\n",
            "    0    0    0    0    0    0    0    0    0    0    0    0    0    0\n",
            "    0    0    0    0    0    0    0    0    0    0    0    0    0    0\n",
            "    0    0    0    0    0    0    0    0    0    0    0    0    0    0\n",
            "    0    0    0    0    0    0    0    0    0    0    0    0    0    0\n",
            "    0    0    0    0    0    0    0    0    0    0    0    0    0    0\n",
            "    0    0    0    0    0    0    0    0    0    0    0    0    0    0\n",
            "    0    0    0    0    0    0    0    0    0    0    0    0    0    0\n",
            "    0    0    0    0    0    0    0    0    0    0    0    0    0    0\n",
            "    0    0    0    0    0    0    0    0    0    0    0    0    0    0\n",
            "    0    0    0    0    0    0    0    0    0    0    0    0    0    0\n",
            "    0    0    0    0    0    0    0    0    0    0    0    0    0    0\n",
            "    0    0    0    0    0    0    0    0    0    0    0    0    0    0\n",
            "    0    0    0    0    0    0    0    0    0    0    0    0    0    0\n",
            "    0    0    0    0    0    0    0    0    0    0    0    0    0    0\n",
            "    0    0    0    0    0    0    0    0    0    0    0    0    0    0\n",
            "    0    0    0    0    0    0    0    0    0    0    0    0    0    0\n",
            "    0]\n"
          ],
          "name": "stdout"
        }
      ]
    },
    {
      "cell_type": "code",
      "metadata": {
        "id": "pWooCQBjgyw5"
      },
      "source": [
        "class ProGen(nn.Module):\n",
        "  \n",
        "    def __init__(self, embedding_dimension_size, vocab_size, attention_heads_count, n_layers, feedforward_dimension_size, longest_sequence_length, sequence_pre_amino_acids_length, full_sequence_length):\n",
        "        super().__init__()\n",
        "\n",
        "        self.embedding_dimension_size = embedding_dimension_size # The expected number of features in the input - the size of the embedding dimension\n",
        "        self.feedforward_dimension_size = feedforward_dimension_size # Dimension size of feedforward layer\n",
        "        self.longest_sequence_length = longest_sequence_length\n",
        "        self.sequence_pre_amino_acids_length = sequence_pre_amino_acids_length\n",
        "        self.full_sequence_length = full_sequence_length\n",
        "\n",
        "        # Initialise \"token index to embedding look up table\" with size equal to the number of different tokens\n",
        "        self.token_index_to_embedding = nn.Embedding(vocab_size, embedding_dimension_size)\n",
        "        # Initialise \"sequence position to embedding look up table\" with size equal to the length of the longest sequence\n",
        "        self.position_to_positional_encoding = self.generate_position_to_positional_encoding_mapping()\n",
        "\n",
        "        # Determine scalar that prevents dot product from becoming too large\n",
        "        self.dot_product_scalar = embedding_dimension_size ** 0.5\n",
        "\n",
        "        self.layer_normalization = nn.LayerNorm(normalized_shape = embedding_dimension_size)\n",
        "        transformer_block = nn.TransformerDecoderLayer(d_model=embedding_dimension_size, nhead=attention_heads_count, dim_feedforward=feedforward_dimension_size)\n",
        "        self.transformer_stack = nn.TransformerDecoder(transformer_block, num_layers=n_layers, norm=self.layer_normalization)\n",
        "        self.fully_connected_layer = nn.Linear(embedding_dimension_size, vocab_size)\n",
        "    \n",
        "    def forward(self, x, batch_size):\n",
        "        tgt_mask = self.generate_triangular_mask(self.full_sequence_length)\n",
        "        memory = torch.zeros(self.full_sequence_length, batch_size, self.embedding_dimension_size) # The dimensions might be wrong\n",
        "        position_matrix = self.generate_position_matrix(batch_size)\n",
        "\n",
        "        positional_encodings = self.position_to_positional_encoding[position_matrix.view(-1)].view(batch_size, self.full_sequence_length, self.embedding_dimension_size) # Dimension: batch_size x full_sequence_length x embedding_dimension_size\n",
        "\n",
        "        x = self.token_index_to_embedding(x) # Dimension: batch_size x full_sequence_length x embedding_dimension_size\n",
        "\n",
        "        x = x * self.dot_product_scalar + positional_encodings\n",
        "        x = x.permute(1, 0, 2)\n",
        "        x = self.transformer_stack(x, memory, tgt_mask=tgt_mask) # Dimension for input x must be: full_sequence_length x batch_size x embedding_dimension_size\n",
        "        print(x.shape) # For testing\n",
        "        x = self.fully_connected_layer(x)\n",
        "        return x\n",
        "\n",
        "    def generate_triangular_mask(self, size):\n",
        "        r\"\"\"Generate a square mask for the sequence. The masked positions are filled with float('-inf').\n",
        "            Unmasked positions are filled with float(0.0).\n",
        "        \"\"\"\n",
        "        mask = (torch.triu(torch.ones(size, size)) == 1).transpose(0, 1)\n",
        "        mask = mask.float().masked_fill(mask == 0, float('-inf')).masked_fill(mask == 1, float(0.0))\n",
        "        return\n",
        "            \n",
        "    def generate_complete_mask(self, size):\n",
        "        r\"\"\"Generate a square mask for the sequence. The masked positions are filled with float('-inf').\n",
        "            Unmasked positions are filled with float(0.0).\n",
        "        \"\"\"\n",
        "        mask = torch.empty(size, size)\n",
        "        mask.fill_(float('-inf'))\n",
        "        return mask\n",
        "\n",
        "    def generate_sequence(self, src):\n",
        "        #src = [sent_len]\n",
        "        src = src.unsqueeze(1)\n",
        "        #src = [sent_len, 1]\n",
        "        generate_step = 0\n",
        "        while generate_step < 120:\n",
        "            out = self.forward(src)\n",
        "            #out = [sent_len + 1, 1, vocab_size]\n",
        "            out = torch.argmax(out[-1, :], dim=1) # [1]\n",
        "            out = out.unsqueeze(0) #[1,1]\n",
        "            src = torch.cat((src, out), dim=0)\n",
        "            generate_step += 1\n",
        "            src = src.squeeze(1)\n",
        "            return src\n",
        "    \n",
        "    def generate_position_to_positional_encoding_mapping(self):\n",
        "        '''Generate mapping from positions to sinusoid positional encodings'''\n",
        "        # Calculate positional encodings as described in article \"Attention Is All You Need\"\n",
        "        positons = torch.arange(self.longest_sequence_length).unsqueeze(1) # Vector of positions\n",
        "        embedding_dimension_indicies = torch.arange(self.embedding_dimension_size) # Vector of embedding dimension indicies\n",
        "        angle_rates = 1 / torch.pow(10000, 2 * embedding_dimension_indicies/self.embedding_dimension_size)\n",
        "        positional_encodings = torch.mul(positons, angle_rates)\n",
        "        positional_encodings[:, 0::2] = torch.sin(positional_encodings[:, 0::2]) # Encode even dimensions using sine function\n",
        "        positional_encodings[:, 1::2] = torch.cos(positional_encodings[:, 1::2]) # Encode odd dimensions using cosine function\n",
        "        # Add special positional encoding vector with all zeroes (no postional encoding)\n",
        "        positional_encodings = torch.cat([torch.zeros(self.embedding_dimension_size).unsqueeze(0), positional_encodings], dim=0)\n",
        "\n",
        "        return positional_encodings\n",
        "\n",
        "    def generate_position_matrix(self, batch_size):\n",
        "        position_matrix = torch.zeros(batch_size, self.full_sequence_length, dtype=torch.long)\n",
        "\n",
        "        for row_index in range(batch_size):\n",
        "            row = data_encoded[row_index ,self.sequence_pre_amino_acids_length:]\n",
        "            amino_acid_sequence_boolean = row != 0\n",
        "            amino_acid_sequence_length = len(row[amino_acid_sequence_boolean])\n",
        "            positions = torch.arange(1, amino_acid_sequence_length + 1)\n",
        "            position_matrix[row_index ,self.sequence_pre_amino_acids_length:][amino_acid_sequence_boolean] = positions\n",
        "\n",
        "        return position_matrix"
      ],
      "execution_count": 6,
      "outputs": []
    },
    {
      "cell_type": "code",
      "metadata": {
        "id": "kOr5at0C-Z6l"
      },
      "source": [
        "file = \"dataset.csv\"\n",
        "\n",
        "data, vocab, longest_sequence_length, sequence_pre_amino_acids_length = get_data(file)\n",
        "data_encoded, token_to_id, id_to_token = process_data(data, vocab, longest_sequence_length)\n",
        "data_encoded = torch.from_numpy(data_encoded)"
      ],
      "execution_count": 7,
      "outputs": []
    },
    {
      "cell_type": "code",
      "metadata": {
        "id": "JAF7dIKGAICp"
      },
      "source": [
        "vocab_size = len(vocab)\n",
        "embedding_dimension_size = 4\n",
        "feedforward_dimension_size = 3\n",
        "attention_heads_count = 1\n",
        "n_layer= 5\n",
        "full_sequence_length = data_encoded.shape[1]\n",
        "model = ProGen(embedding_dimension_size, vocab_size, attention_heads_count, n_layer, feedforward_dimension_size, longest_sequence_length, sequence_pre_amino_acids_length, full_sequence_length)"
      ],
      "execution_count": 8,
      "outputs": []
    },
    {
      "cell_type": "code",
      "metadata": {
        "colab": {
          "base_uri": "https://localhost:8080/"
        },
        "id": "fsMNXACy-YK8",
        "outputId": "28c4c503-9fdb-4c50-980b-61364a9e7ac9"
      },
      "source": [
        "# Test forward part\n",
        "batch_size = 2\n",
        "model(data_encoded[:batch_size], batch_size)"
      ],
      "execution_count": 9,
      "outputs": [
        {
          "output_type": "stream",
          "text": [
            "torch.Size([2101, 2, 4])\n"
          ],
          "name": "stdout"
        }
      ]
    },
    {
      "cell_type": "code",
      "metadata": {
        "colab": {
          "base_uri": "https://localhost:8080/"
        },
        "id": "zIEx8w6SE3yH",
        "outputId": "aefd3ac0-a023-4edf-9222-0780ec19f1f5"
      },
      "source": [
        "output.shape"
      ],
      "execution_count": 13,
      "outputs": [
        {
          "output_type": "execute_result",
          "data": {
            "text/plain": [
              "torch.Size([2101, 2, 1138])"
            ]
          },
          "metadata": {
            "tags": []
          },
          "execution_count": 13
        }
      ]
    },
    {
      "cell_type": "code",
      "metadata": {
        "colab": {
          "base_uri": "https://localhost:8080/"
        },
        "id": "mlpDTltay5Aq",
        "outputId": "b922d7d3-f55e-4c86-b0f9-abd2ae2db87e"
      },
      "source": [
        "vocab_size = len(vocab)\n",
        "embedding_dimension_size = 32\n",
        "token_index_to_embedding = nn.Embedding(vocab_size, embedding_dimension_size)\n",
        "token_index_to_embedding(data_encoded) * 4 + positional_encodings"
      ],
      "execution_count": 22,
      "outputs": [
        {
          "output_type": "execute_result",
          "data": {
            "text/plain": [
              "tensor([[[ 2.5682,  1.5756, -1.4451,  ...,  3.7092,  2.6710, -1.3786],\n",
              "         [-1.2877,  6.7591,  2.3848,  ...,  2.0107,  2.7912, -1.6895],\n",
              "         [ 6.2583, -3.8008,  3.3346,  ..., -2.5537, -0.2917,  3.6586],\n",
              "         ...,\n",
              "         [ 0.1235,  4.7323, -6.3434,  ...,  6.1500,  3.0586,  5.2921],\n",
              "         [ 0.1235,  4.7323, -6.3434,  ...,  6.1500,  3.0586,  5.2921],\n",
              "         [ 0.1235,  4.7323, -6.3434,  ...,  6.1500,  3.0586,  5.2921]],\n",
              "\n",
              "        [[ 2.5682,  1.5756, -1.4451,  ...,  3.7092,  2.6710, -1.3786],\n",
              "         [-1.2877,  6.7591,  2.3848,  ...,  2.0107,  2.7912, -1.6895],\n",
              "         [ 6.2583, -3.8008,  3.3346,  ..., -2.5537, -0.2917,  3.6586],\n",
              "         ...,\n",
              "         [ 0.1235,  4.7323, -6.3434,  ...,  6.1500,  3.0586,  5.2921],\n",
              "         [ 0.1235,  4.7323, -6.3434,  ...,  6.1500,  3.0586,  5.2921],\n",
              "         [ 0.1235,  4.7323, -6.3434,  ...,  6.1500,  3.0586,  5.2921]],\n",
              "\n",
              "        [[ 2.5682,  1.5756, -1.4451,  ...,  3.7092,  2.6710, -1.3786],\n",
              "         [-1.2877,  6.7591,  2.3848,  ...,  2.0107,  2.7912, -1.6895],\n",
              "         [ 6.2583, -3.8008,  3.3346,  ..., -2.5537, -0.2917,  3.6586],\n",
              "         ...,\n",
              "         [ 0.1235,  4.7323, -6.3434,  ...,  6.1500,  3.0586,  5.2921],\n",
              "         [ 0.1235,  4.7323, -6.3434,  ...,  6.1500,  3.0586,  5.2921],\n",
              "         [ 0.1235,  4.7323, -6.3434,  ...,  6.1500,  3.0586,  5.2921]],\n",
              "\n",
              "        ...,\n",
              "\n",
              "        [[ 2.5682,  1.5756, -1.4451,  ...,  3.7092,  2.6710, -1.3786],\n",
              "         [-1.2877,  6.7591,  2.3848,  ...,  2.0107,  2.7912, -1.6895],\n",
              "         [ 6.2583, -3.8008,  3.3346,  ..., -2.5537, -0.2917,  3.6586],\n",
              "         ...,\n",
              "         [ 0.1235,  4.7323, -6.3434,  ...,  6.1500,  3.0586,  5.2921],\n",
              "         [ 0.1235,  4.7323, -6.3434,  ...,  6.1500,  3.0586,  5.2921],\n",
              "         [ 0.1235,  4.7323, -6.3434,  ...,  6.1500,  3.0586,  5.2921]],\n",
              "\n",
              "        [[ 2.5682,  1.5756, -1.4451,  ...,  3.7092,  2.6710, -1.3786],\n",
              "         [-1.2877,  6.7591,  2.3848,  ...,  2.0107,  2.7912, -1.6895],\n",
              "         [ 6.2583, -3.8008,  3.3346,  ..., -2.5537, -0.2917,  3.6586],\n",
              "         ...,\n",
              "         [ 0.1235,  4.7323, -6.3434,  ...,  6.1500,  3.0586,  5.2921],\n",
              "         [ 0.1235,  4.7323, -6.3434,  ...,  6.1500,  3.0586,  5.2921],\n",
              "         [ 0.1235,  4.7323, -6.3434,  ...,  6.1500,  3.0586,  5.2921]],\n",
              "\n",
              "        [[ 2.5682,  1.5756, -1.4451,  ...,  3.7092,  2.6710, -1.3786],\n",
              "         [-1.2877,  6.7591,  2.3848,  ...,  2.0107,  2.7912, -1.6895],\n",
              "         [-1.1311, -5.7549,  6.0561,  ..., -0.8333,  2.9162,  3.1385],\n",
              "         ...,\n",
              "         [ 0.1235,  4.7323, -6.3434,  ...,  6.1500,  3.0586,  5.2921],\n",
              "         [ 0.1235,  4.7323, -6.3434,  ...,  6.1500,  3.0586,  5.2921],\n",
              "         [ 0.1235,  4.7323, -6.3434,  ...,  6.1500,  3.0586,  5.2921]]],\n",
              "       grad_fn=<AddBackward0>)"
            ]
          },
          "metadata": {
            "tags": []
          },
          "execution_count": 22
        }
      ]
    },
    {
      "cell_type": "code",
      "metadata": {
        "colab": {
          "base_uri": "https://localhost:8080/"
        },
        "id": "wZTYZyPhm7eL",
        "outputId": "f56809e0-8c50-4090-8f7e-bad0893d97aa"
      },
      "source": [
        "positional_encodings"
      ],
      "execution_count": 20,
      "outputs": [
        {
          "output_type": "execute_result",
          "data": {
            "text/plain": [
              "tensor([[[0., 0., 0.,  ..., 0., 0., 0.],\n",
              "         [0., 0., 0.,  ..., 0., 0., 0.],\n",
              "         [0., 0., 0.,  ..., 0., 0., 0.],\n",
              "         ...,\n",
              "         [0., 0., 0.,  ..., 0., 0., 0.],\n",
              "         [0., 0., 0.,  ..., 0., 0., 0.],\n",
              "         [0., 0., 0.,  ..., 0., 0., 0.]],\n",
              "\n",
              "        [[0., 0., 0.,  ..., 0., 0., 0.],\n",
              "         [0., 0., 0.,  ..., 0., 0., 0.],\n",
              "         [0., 0., 0.,  ..., 0., 0., 0.],\n",
              "         ...,\n",
              "         [0., 0., 0.,  ..., 0., 0., 0.],\n",
              "         [0., 0., 0.,  ..., 0., 0., 0.],\n",
              "         [0., 0., 0.,  ..., 0., 0., 0.]],\n",
              "\n",
              "        [[0., 0., 0.,  ..., 0., 0., 0.],\n",
              "         [0., 0., 0.,  ..., 0., 0., 0.],\n",
              "         [0., 0., 0.,  ..., 0., 0., 0.],\n",
              "         ...,\n",
              "         [0., 0., 0.,  ..., 0., 0., 0.],\n",
              "         [0., 0., 0.,  ..., 0., 0., 0.],\n",
              "         [0., 0., 0.,  ..., 0., 0., 0.]],\n",
              "\n",
              "        ...,\n",
              "\n",
              "        [[0., 0., 0.,  ..., 0., 0., 0.],\n",
              "         [0., 0., 0.,  ..., 0., 0., 0.],\n",
              "         [0., 0., 0.,  ..., 0., 0., 0.],\n",
              "         ...,\n",
              "         [0., 0., 0.,  ..., 0., 0., 0.],\n",
              "         [0., 0., 0.,  ..., 0., 0., 0.],\n",
              "         [0., 0., 0.,  ..., 0., 0., 0.]],\n",
              "\n",
              "        [[0., 0., 0.,  ..., 0., 0., 0.],\n",
              "         [0., 0., 0.,  ..., 0., 0., 0.],\n",
              "         [0., 0., 0.,  ..., 0., 0., 0.],\n",
              "         ...,\n",
              "         [0., 0., 0.,  ..., 0., 0., 0.],\n",
              "         [0., 0., 0.,  ..., 0., 0., 0.],\n",
              "         [0., 0., 0.,  ..., 0., 0., 0.]],\n",
              "\n",
              "        [[0., 0., 0.,  ..., 0., 0., 0.],\n",
              "         [0., 0., 0.,  ..., 0., 0., 0.],\n",
              "         [0., 0., 0.,  ..., 0., 0., 0.],\n",
              "         ...,\n",
              "         [0., 0., 0.,  ..., 0., 0., 0.],\n",
              "         [0., 0., 0.,  ..., 0., 0., 0.],\n",
              "         [0., 0., 0.,  ..., 0., 0., 0.]]])"
            ]
          },
          "metadata": {
            "tags": []
          },
          "execution_count": 20
        }
      ]
    },
    {
      "cell_type": "code",
      "metadata": {
        "colab": {
          "base_uri": "https://localhost:8080/"
        },
        "id": "8utfUWqxiGAg",
        "outputId": "1eca004b-3992-4df4-c8ff-514ea4add5a3"
      },
      "source": [
        "32 ** 0.5"
      ],
      "execution_count": 11,
      "outputs": [
        {
          "output_type": "execute_result",
          "data": {
            "text/plain": [
              "5.656854249492381"
            ]
          },
          "metadata": {
            "tags": []
          },
          "execution_count": 11
        }
      ]
    },
    {
      "cell_type": "code",
      "metadata": {
        "colab": {
          "base_uri": "https://localhost:8080/"
        },
        "id": "KlVRoud156zK",
        "outputId": "c1150d38-a3e7-4477-fa8a-4576e04911f0"
      },
      "source": [
        "full_sequence_length = data_encoded.shape[0]\n",
        "full_sequence_length"
      ],
      "execution_count": 150,
      "outputs": [
        {
          "output_type": "execute_result",
          "data": {
            "text/plain": [
              "2277"
            ]
          },
          "metadata": {
            "tags": []
          },
          "execution_count": 150
        }
      ]
    },
    {
      "cell_type": "code",
      "metadata": {
        "colab": {
          "base_uri": "https://localhost:8080/"
        },
        "id": "uWd9aYm_pd-O",
        "outputId": "d00db909-4876-432a-b26a-64d6aa624e58"
      },
      "source": [
        "full_sequence_length = data_encoded.shape[0]\n",
        "batch_size = 16\n",
        "torch.zeros(batch_size,full_sequence_length).shape[1]"
      ],
      "execution_count": 180,
      "outputs": [
        {
          "output_type": "execute_result",
          "data": {
            "text/plain": [
              "2277"
            ]
          },
          "metadata": {
            "tags": []
          },
          "execution_count": 180
        }
      ]
    },
    {
      "cell_type": "code",
      "metadata": {
        "colab": {
          "base_uri": "https://localhost:8080/"
        },
        "id": "fAxLk7288dCm",
        "outputId": "3b96b4c3-6ff2-46d8-897f-5565d781173d"
      },
      "source": [
        "data_encoded.shape"
      ],
      "execution_count": 193,
      "outputs": [
        {
          "output_type": "execute_result",
          "data": {
            "text/plain": [
              "(2277, 2101)"
            ]
          },
          "metadata": {
            "tags": []
          },
          "execution_count": 193
        }
      ]
    },
    {
      "cell_type": "code",
      "metadata": {
        "colab": {
          "base_uri": "https://localhost:8080/",
          "height": 163
        },
        "id": "3zYV_pZ0EyPg",
        "outputId": "29f7008b-62f2-4217-8e1f-1c89b7e7a0a7"
      },
      "source": [
        "torch.zeros(batch_size,full_sequence_length).shape"
      ],
      "execution_count": 2,
      "outputs": [
        {
          "output_type": "error",
          "ename": "NameError",
          "evalue": "ignored",
          "traceback": [
            "\u001b[0;31m---------------------------------------------------------------------------\u001b[0m",
            "\u001b[0;31mNameError\u001b[0m                                 Traceback (most recent call last)",
            "\u001b[0;32m<ipython-input-2-10addf555c72>\u001b[0m in \u001b[0;36m<module>\u001b[0;34m()\u001b[0m\n\u001b[0;32m----> 1\u001b[0;31m \u001b[0mtorch\u001b[0m\u001b[0;34m.\u001b[0m\u001b[0mzeros\u001b[0m\u001b[0;34m(\u001b[0m\u001b[0mbatch_size\u001b[0m\u001b[0;34m,\u001b[0m\u001b[0mfull_sequence_length\u001b[0m\u001b[0;34m)\u001b[0m\u001b[0;34m.\u001b[0m\u001b[0mshape\u001b[0m\u001b[0;34m\u001b[0m\u001b[0;34m\u001b[0m\u001b[0m\n\u001b[0m",
            "\u001b[0;31mNameError\u001b[0m: name 'torch' is not defined"
          ]
        }
      ]
    },
    {
      "cell_type": "code",
      "metadata": {
        "id": "OlMRVmZl86c0"
      },
      "source": [
        "full_sequence_length = data_encoded.shape[1]\n",
        "batch_size = data_encoded.shape[0]\n",
        "position_matrix = torch.zeros(batch_size,full_sequence_length, dtype=torch.long)\n",
        "\n",
        "sequence_pre_amino_acids_length = 95\n",
        "for row_index in range(batch_size):\n",
        "    row = data_encoded[row_index ,sequence_pre_amino_acids_length:]\n",
        "    amino_acid_sequence_boolean = row != 0\n",
        "    amino_acid_sequence_length = len(row[amino_acid_sequence_boolean])\n",
        "    positions = torch.arange(1, amino_acid_sequence_length + 1)\n",
        "    position_matrix[row_index ,sequence_pre_amino_acids_length:][amino_acid_sequence_boolean] = positions"
      ],
      "execution_count": 211,
      "outputs": []
    },
    {
      "cell_type": "code",
      "metadata": {
        "colab": {
          "base_uri": "https://localhost:8080/"
        },
        "id": "AQlsw_m9F6Zl",
        "outputId": "397985bd-ef22-4785-84b4-35aec336259e"
      },
      "source": [
        "torch.set_printoptions(profile=\"full\")\n",
        "print(position_matrix[0])\n",
        "torch.set_printoptions(profile=\"default\")"
      ],
      "execution_count": 212,
      "outputs": [
        {
          "output_type": "stream",
          "text": [
            "tensor([ 0,  0,  0,  0,  0,  0,  0,  0,  0,  0,  0,  0,  0,  0,  0,  0,  0,  0,\n",
            "         0,  0,  0,  0,  0,  0,  0,  0,  0,  0,  0,  0,  0,  0,  0,  0,  0,  0,\n",
            "         0,  0,  0,  0,  0,  0,  0,  0,  0,  0,  0,  0,  0,  0,  0,  0,  0,  0,\n",
            "         0,  0,  0,  0,  0,  0,  0,  0,  0,  0,  0,  0,  0,  0,  0,  0,  0,  0,\n",
            "         0,  0,  0,  0,  0,  0,  0,  0,  0,  0,  0,  0,  0,  0,  0,  0,  0,  0,\n",
            "         0,  0,  0,  0,  0,  1,  2,  3,  4,  5,  6,  7,  8,  9, 10, 11, 12, 13,\n",
            "        14, 15, 16, 17, 18, 19, 20, 21, 22, 23, 24, 25,  0,  0,  0,  0,  0,  0,\n",
            "         0,  0,  0,  0,  0,  0,  0,  0,  0,  0,  0,  0,  0,  0,  0,  0,  0,  0,\n",
            "         0,  0,  0,  0,  0,  0,  0,  0,  0,  0,  0,  0,  0,  0,  0,  0,  0,  0,\n",
            "         0,  0,  0,  0,  0,  0,  0,  0,  0,  0,  0,  0,  0,  0,  0,  0,  0,  0,\n",
            "         0,  0,  0,  0,  0,  0,  0,  0,  0,  0,  0,  0,  0,  0,  0,  0,  0,  0,\n",
            "         0,  0,  0,  0,  0,  0,  0,  0,  0,  0,  0,  0,  0,  0,  0,  0,  0,  0,\n",
            "         0,  0,  0,  0,  0,  0,  0,  0,  0,  0,  0,  0,  0,  0,  0,  0,  0,  0,\n",
            "         0,  0,  0,  0,  0,  0,  0,  0,  0,  0,  0,  0,  0,  0,  0,  0,  0,  0,\n",
            "         0,  0,  0,  0,  0,  0,  0,  0,  0,  0,  0,  0,  0,  0,  0,  0,  0,  0,\n",
            "         0,  0,  0,  0,  0,  0,  0,  0,  0,  0,  0,  0,  0,  0,  0,  0,  0,  0,\n",
            "         0,  0,  0,  0,  0,  0,  0,  0,  0,  0,  0,  0,  0,  0,  0,  0,  0,  0,\n",
            "         0,  0,  0,  0,  0,  0,  0,  0,  0,  0,  0,  0,  0,  0,  0,  0,  0,  0,\n",
            "         0,  0,  0,  0,  0,  0,  0,  0,  0,  0,  0,  0,  0,  0,  0,  0,  0,  0,\n",
            "         0,  0,  0,  0,  0,  0,  0,  0,  0,  0,  0,  0,  0,  0,  0,  0,  0,  0,\n",
            "         0,  0,  0,  0,  0,  0,  0,  0,  0,  0,  0,  0,  0,  0,  0,  0,  0,  0,\n",
            "         0,  0,  0,  0,  0,  0,  0,  0,  0,  0,  0,  0,  0,  0,  0,  0,  0,  0,\n",
            "         0,  0,  0,  0,  0,  0,  0,  0,  0,  0,  0,  0,  0,  0,  0,  0,  0,  0,\n",
            "         0,  0,  0,  0,  0,  0,  0,  0,  0,  0,  0,  0,  0,  0,  0,  0,  0,  0,\n",
            "         0,  0,  0,  0,  0,  0,  0,  0,  0,  0,  0,  0,  0,  0,  0,  0,  0,  0,\n",
            "         0,  0,  0,  0,  0,  0,  0,  0,  0,  0,  0,  0,  0,  0,  0,  0,  0,  0,\n",
            "         0,  0,  0,  0,  0,  0,  0,  0,  0,  0,  0,  0,  0,  0,  0,  0,  0,  0,\n",
            "         0,  0,  0,  0,  0,  0,  0,  0,  0,  0,  0,  0,  0,  0,  0,  0,  0,  0,\n",
            "         0,  0,  0,  0,  0,  0,  0,  0,  0,  0,  0,  0,  0,  0,  0,  0,  0,  0,\n",
            "         0,  0,  0,  0,  0,  0,  0,  0,  0,  0,  0,  0,  0,  0,  0,  0,  0,  0,\n",
            "         0,  0,  0,  0,  0,  0,  0,  0,  0,  0,  0,  0,  0,  0,  0,  0,  0,  0,\n",
            "         0,  0,  0,  0,  0,  0,  0,  0,  0,  0,  0,  0,  0,  0,  0,  0,  0,  0,\n",
            "         0,  0,  0,  0,  0,  0,  0,  0,  0,  0,  0,  0,  0,  0,  0,  0,  0,  0,\n",
            "         0,  0,  0,  0,  0,  0,  0,  0,  0,  0,  0,  0,  0,  0,  0,  0,  0,  0,\n",
            "         0,  0,  0,  0,  0,  0,  0,  0,  0,  0,  0,  0,  0,  0,  0,  0,  0,  0,\n",
            "         0,  0,  0,  0,  0,  0,  0,  0,  0,  0,  0,  0,  0,  0,  0,  0,  0,  0,\n",
            "         0,  0,  0,  0,  0,  0,  0,  0,  0,  0,  0,  0,  0,  0,  0,  0,  0,  0,\n",
            "         0,  0,  0,  0,  0,  0,  0,  0,  0,  0,  0,  0,  0,  0,  0,  0,  0,  0,\n",
            "         0,  0,  0,  0,  0,  0,  0,  0,  0,  0,  0,  0,  0,  0,  0,  0,  0,  0,\n",
            "         0,  0,  0,  0,  0,  0,  0,  0,  0,  0,  0,  0,  0,  0,  0,  0,  0,  0,\n",
            "         0,  0,  0,  0,  0,  0,  0,  0,  0,  0,  0,  0,  0,  0,  0,  0,  0,  0,\n",
            "         0,  0,  0,  0,  0,  0,  0,  0,  0,  0,  0,  0,  0,  0,  0,  0,  0,  0,\n",
            "         0,  0,  0,  0,  0,  0,  0,  0,  0,  0,  0,  0,  0,  0,  0,  0,  0,  0,\n",
            "         0,  0,  0,  0,  0,  0,  0,  0,  0,  0,  0,  0,  0,  0,  0,  0,  0,  0,\n",
            "         0,  0,  0,  0,  0,  0,  0,  0,  0,  0,  0,  0,  0,  0,  0,  0,  0,  0,\n",
            "         0,  0,  0,  0,  0,  0,  0,  0,  0,  0,  0,  0,  0,  0,  0,  0,  0,  0,\n",
            "         0,  0,  0,  0,  0,  0,  0,  0,  0,  0,  0,  0,  0,  0,  0,  0,  0,  0,\n",
            "         0,  0,  0,  0,  0,  0,  0,  0,  0,  0,  0,  0,  0,  0,  0,  0,  0,  0,\n",
            "         0,  0,  0,  0,  0,  0,  0,  0,  0,  0,  0,  0,  0,  0,  0,  0,  0,  0,\n",
            "         0,  0,  0,  0,  0,  0,  0,  0,  0,  0,  0,  0,  0,  0,  0,  0,  0,  0,\n",
            "         0,  0,  0,  0,  0,  0,  0,  0,  0,  0,  0,  0,  0,  0,  0,  0,  0,  0,\n",
            "         0,  0,  0,  0,  0,  0,  0,  0,  0,  0,  0,  0,  0,  0,  0,  0,  0,  0,\n",
            "         0,  0,  0,  0,  0,  0,  0,  0,  0,  0,  0,  0,  0,  0,  0,  0,  0,  0,\n",
            "         0,  0,  0,  0,  0,  0,  0,  0,  0,  0,  0,  0,  0,  0,  0,  0,  0,  0,\n",
            "         0,  0,  0,  0,  0,  0,  0,  0,  0,  0,  0,  0,  0,  0,  0,  0,  0,  0,\n",
            "         0,  0,  0,  0,  0,  0,  0,  0,  0,  0,  0,  0,  0,  0,  0,  0,  0,  0,\n",
            "         0,  0,  0,  0,  0,  0,  0,  0,  0,  0,  0,  0,  0,  0,  0,  0,  0,  0,\n",
            "         0,  0,  0,  0,  0,  0,  0,  0,  0,  0,  0,  0,  0,  0,  0,  0,  0,  0,\n",
            "         0,  0,  0,  0,  0,  0,  0,  0,  0,  0,  0,  0,  0,  0,  0,  0,  0,  0,\n",
            "         0,  0,  0,  0,  0,  0,  0,  0,  0,  0,  0,  0,  0,  0,  0,  0,  0,  0,\n",
            "         0,  0,  0,  0,  0,  0,  0,  0,  0,  0,  0,  0,  0,  0,  0,  0,  0,  0,\n",
            "         0,  0,  0,  0,  0,  0,  0,  0,  0,  0,  0,  0,  0,  0,  0,  0,  0,  0,\n",
            "         0,  0,  0,  0,  0,  0,  0,  0,  0,  0,  0,  0,  0,  0,  0,  0,  0,  0,\n",
            "         0,  0,  0,  0,  0,  0,  0,  0,  0,  0,  0,  0,  0,  0,  0,  0,  0,  0,\n",
            "         0,  0,  0,  0,  0,  0,  0,  0,  0,  0,  0,  0,  0,  0,  0,  0,  0,  0,\n",
            "         0,  0,  0,  0,  0,  0,  0,  0,  0,  0,  0,  0,  0,  0,  0,  0,  0,  0,\n",
            "         0,  0,  0,  0,  0,  0,  0,  0,  0,  0,  0,  0,  0,  0,  0,  0,  0,  0,\n",
            "         0,  0,  0,  0,  0,  0,  0,  0,  0,  0,  0,  0,  0,  0,  0,  0,  0,  0,\n",
            "         0,  0,  0,  0,  0,  0,  0,  0,  0,  0,  0,  0,  0,  0,  0,  0,  0,  0,\n",
            "         0,  0,  0,  0,  0,  0,  0,  0,  0,  0,  0,  0,  0,  0,  0,  0,  0,  0,\n",
            "         0,  0,  0,  0,  0,  0,  0,  0,  0,  0,  0,  0,  0,  0,  0,  0,  0,  0,\n",
            "         0,  0,  0,  0,  0,  0,  0,  0,  0,  0,  0,  0,  0,  0,  0,  0,  0,  0,\n",
            "         0,  0,  0,  0,  0,  0,  0,  0,  0,  0,  0,  0,  0,  0,  0,  0,  0,  0,\n",
            "         0,  0,  0,  0,  0,  0,  0,  0,  0,  0,  0,  0,  0,  0,  0,  0,  0,  0,\n",
            "         0,  0,  0,  0,  0,  0,  0,  0,  0,  0,  0,  0,  0,  0,  0,  0,  0,  0,\n",
            "         0,  0,  0,  0,  0,  0,  0,  0,  0,  0,  0,  0,  0,  0,  0,  0,  0,  0,\n",
            "         0,  0,  0,  0,  0,  0,  0,  0,  0,  0,  0,  0,  0,  0,  0,  0,  0,  0,\n",
            "         0,  0,  0,  0,  0,  0,  0,  0,  0,  0,  0,  0,  0,  0,  0,  0,  0,  0,\n",
            "         0,  0,  0,  0,  0,  0,  0,  0,  0,  0,  0,  0,  0,  0,  0,  0,  0,  0,\n",
            "         0,  0,  0,  0,  0,  0,  0,  0,  0,  0,  0,  0,  0,  0,  0,  0,  0,  0,\n",
            "         0,  0,  0,  0,  0,  0,  0,  0,  0,  0,  0,  0,  0,  0,  0,  0,  0,  0,\n",
            "         0,  0,  0,  0,  0,  0,  0,  0,  0,  0,  0,  0,  0,  0,  0,  0,  0,  0,\n",
            "         0,  0,  0,  0,  0,  0,  0,  0,  0,  0,  0,  0,  0,  0,  0,  0,  0,  0,\n",
            "         0,  0,  0,  0,  0,  0,  0,  0,  0,  0,  0,  0,  0,  0,  0,  0,  0,  0,\n",
            "         0,  0,  0,  0,  0,  0,  0,  0,  0,  0,  0,  0,  0,  0,  0,  0,  0,  0,\n",
            "         0,  0,  0,  0,  0,  0,  0,  0,  0,  0,  0,  0,  0,  0,  0,  0,  0,  0,\n",
            "         0,  0,  0,  0,  0,  0,  0,  0,  0,  0,  0,  0,  0,  0,  0,  0,  0,  0,\n",
            "         0,  0,  0,  0,  0,  0,  0,  0,  0,  0,  0,  0,  0,  0,  0,  0,  0,  0,\n",
            "         0,  0,  0,  0,  0,  0,  0,  0,  0,  0,  0,  0,  0,  0,  0,  0,  0,  0,\n",
            "         0,  0,  0,  0,  0,  0,  0,  0,  0,  0,  0,  0,  0,  0,  0,  0,  0,  0,\n",
            "         0,  0,  0,  0,  0,  0,  0,  0,  0,  0,  0,  0,  0,  0,  0,  0,  0,  0,\n",
            "         0,  0,  0,  0,  0,  0,  0,  0,  0,  0,  0,  0,  0,  0,  0,  0,  0,  0,\n",
            "         0,  0,  0,  0,  0,  0,  0,  0,  0,  0,  0,  0,  0,  0,  0,  0,  0,  0,\n",
            "         0,  0,  0,  0,  0,  0,  0,  0,  0,  0,  0,  0,  0,  0,  0,  0,  0,  0,\n",
            "         0,  0,  0,  0,  0,  0,  0,  0,  0,  0,  0,  0,  0,  0,  0,  0,  0,  0,\n",
            "         0,  0,  0,  0,  0,  0,  0,  0,  0,  0,  0,  0,  0,  0,  0,  0,  0,  0,\n",
            "         0,  0,  0,  0,  0,  0,  0,  0,  0,  0,  0,  0,  0,  0,  0,  0,  0,  0,\n",
            "         0,  0,  0,  0,  0,  0,  0,  0,  0,  0,  0,  0,  0,  0,  0,  0,  0,  0,\n",
            "         0,  0,  0,  0,  0,  0,  0,  0,  0,  0,  0,  0,  0,  0,  0,  0,  0,  0,\n",
            "         0,  0,  0,  0,  0,  0,  0,  0,  0,  0,  0,  0,  0,  0,  0,  0,  0,  0,\n",
            "         0,  0,  0,  0,  0,  0,  0,  0,  0,  0,  0,  0,  0,  0,  0,  0,  0,  0,\n",
            "         0,  0,  0,  0,  0,  0,  0,  0,  0,  0,  0,  0,  0,  0,  0,  0,  0,  0,\n",
            "         0,  0,  0,  0,  0,  0,  0,  0,  0,  0,  0,  0,  0,  0,  0,  0,  0,  0,\n",
            "         0,  0,  0,  0,  0,  0,  0,  0,  0,  0,  0,  0,  0,  0,  0,  0,  0,  0,\n",
            "         0,  0,  0,  0,  0,  0,  0,  0,  0,  0,  0,  0,  0,  0,  0,  0,  0,  0,\n",
            "         0,  0,  0,  0,  0,  0,  0,  0,  0,  0,  0,  0,  0,  0,  0,  0,  0,  0,\n",
            "         0,  0,  0,  0,  0,  0,  0,  0,  0,  0,  0,  0,  0,  0,  0,  0,  0,  0,\n",
            "         0,  0,  0,  0,  0,  0,  0,  0,  0,  0,  0,  0,  0,  0,  0,  0,  0,  0,\n",
            "         0,  0,  0,  0,  0,  0,  0,  0,  0,  0,  0,  0,  0,  0,  0,  0,  0,  0,\n",
            "         0,  0,  0,  0,  0,  0,  0,  0,  0,  0,  0,  0,  0,  0,  0,  0,  0,  0,\n",
            "         0,  0,  0,  0,  0,  0,  0,  0,  0,  0,  0,  0,  0,  0,  0,  0,  0,  0,\n",
            "         0,  0,  0,  0,  0,  0,  0,  0,  0,  0,  0,  0,  0,  0,  0,  0,  0,  0,\n",
            "         0,  0,  0,  0,  0,  0,  0,  0,  0,  0,  0,  0,  0,  0,  0,  0,  0,  0,\n",
            "         0,  0,  0,  0,  0,  0,  0,  0,  0,  0,  0,  0,  0,  0,  0,  0,  0,  0,\n",
            "         0,  0,  0,  0,  0,  0,  0,  0,  0,  0,  0,  0,  0,  0,  0,  0,  0,  0,\n",
            "         0,  0,  0,  0,  0,  0,  0,  0,  0,  0,  0,  0,  0,  0,  0,  0,  0,  0,\n",
            "         0,  0,  0,  0,  0,  0,  0,  0,  0,  0,  0,  0,  0])\n"
          ],
          "name": "stdout"
        }
      ]
    },
    {
      "cell_type": "code",
      "metadata": {
        "id": "LHqSHts_mzb_"
      },
      "source": [
        "vocab_size = len(vocab)\n",
        "embedding_dimension_size = 32\n",
        "feedforward_dimension_size = 16\n",
        "attention_heads_count = 4\n",
        "n_layer= 8\n",
        "full_sequence_length = data_encoded.shape[1]\n",
        "model = ProGen(embedding_dimension_size, vocab_size, attention_heads_count, n_layer, feedforward_dimension_size, longest_sequence_length, sequence_pre_amino_acids_length, full_sequence_length)"
      ],
      "execution_count": 37,
      "outputs": []
    },
    {
      "cell_type": "code",
      "metadata": {
        "colab": {
          "base_uri": "https://localhost:8080/",
          "height": 501
        },
        "id": "qEx_woPVoDdP",
        "outputId": "7ff123f3-d3c3-45af-8c0d-e78802cbb867"
      },
      "source": [
        "position_to_positional_encoding_mapping = model.generate_position_to_positional_encoding_mapping()\n",
        "plt.figure(figsize=(12,8))\n",
        "plt.pcolormesh(position_to_positional_encoding_mapping, cmap='cividis')\n",
        "plt.xlabel('Embedding Dimensions')\n",
        "plt.xlim((0, embedding_dimension_size))\n",
        "plt.ylim((longest_sequence_length,0))\n",
        "plt.ylabel('Token Position')\n",
        "plt.colorbar()\n",
        "plt.show()"
      ],
      "execution_count": 17,
      "outputs": [
        {
          "output_type": "display_data",
          "data": {
            "image/png": "[encoded data removed]",
            "text/plain": [
              "<Figure size 864x576 with 2 Axes>"
            ]
          },
          "metadata": {
            "tags": [],
            "needs_background": "light"
          }
        }
      ]
    },
    {
      "cell_type": "code",
      "metadata": {
        "id": "XVrCr6UsI8JR"
      },
      "source": [
        "batch_size = data_encoded.shape[0]\n",
        "embedding_dimension_size = 32\n",
        "position_matrix = model.generate_position_matrix(batch_size)"
      ],
      "execution_count": 18,
      "outputs": []
    },
    {
      "cell_type": "code",
      "metadata": {
        "colab": {
          "base_uri": "https://localhost:8080/"
        },
        "id": "554JsH6iaWp-",
        "outputId": "656dea61-c28c-4354-a45c-1fc00274391a"
      },
      "source": [
        "position_matrix[0][95]"
      ],
      "execution_count": 22,
      "outputs": [
        {
          "output_type": "execute_result",
          "data": {
            "text/plain": [
              "tensor(1)"
            ]
          },
          "metadata": {
            "tags": []
          },
          "execution_count": 22
        }
      ]
    },
    {
      "cell_type": "code",
      "metadata": {
        "colab": {
          "base_uri": "https://localhost:8080/"
        },
        "id": "lNEZ92ePJx8R",
        "outputId": "b84bfe8e-30a5-4e16-fff5-7ff3c5593ed5"
      },
      "source": [
        "torch.set_printoptions(profile=\"full\")\n",
        "print(position_matrix[0])\n",
        "torch.set_printoptions(profile=\"default\")"
      ],
      "execution_count": 15,
      "outputs": [
        {
          "output_type": "stream",
          "text": [
            "tensor([ 0,  0,  0,  0,  0,  0,  0,  0,  0,  0,  0,  0,  0,  0,  0,  0,  0,  0,\n",
            "         0,  0,  0,  0,  0,  0,  0,  0,  0,  0,  0,  0,  0,  0,  0,  0,  0,  0,\n",
            "         0,  0,  0,  0,  0,  0,  0,  0,  0,  0,  0,  0,  0,  0,  0,  0,  0,  0,\n",
            "         0,  0,  0,  0,  0,  0,  0,  0,  0,  0,  0,  0,  0,  0,  0,  0,  0,  0,\n",
            "         0,  0,  0,  0,  0,  0,  0,  0,  0,  0,  0,  0,  0,  0,  0,  0,  0,  0,\n",
            "         0,  0,  0,  0,  0,  1,  2,  3,  4,  5,  6,  7,  8,  9, 10, 11, 12, 13,\n",
            "        14, 15, 16, 17, 18, 19, 20, 21, 22, 23, 24, 25,  0,  0,  0,  0,  0,  0,\n",
            "         0,  0,  0,  0,  0,  0,  0,  0,  0,  0,  0,  0,  0,  0,  0,  0,  0,  0,\n",
            "         0,  0,  0,  0,  0,  0,  0,  0,  0,  0,  0,  0,  0,  0,  0,  0,  0,  0,\n",
            "         0,  0,  0,  0,  0,  0,  0,  0,  0,  0,  0,  0,  0,  0,  0,  0,  0,  0,\n",
            "         0,  0,  0,  0,  0,  0,  0,  0,  0,  0,  0,  0,  0,  0,  0,  0,  0,  0,\n",
            "         0,  0,  0,  0,  0,  0,  0,  0,  0,  0,  0,  0,  0,  0,  0,  0,  0,  0,\n",
            "         0,  0,  0,  0,  0,  0,  0,  0,  0,  0,  0,  0,  0,  0,  0,  0,  0,  0,\n",
            "         0,  0,  0,  0,  0,  0,  0,  0,  0,  0,  0,  0,  0,  0,  0,  0,  0,  0,\n",
            "         0,  0,  0,  0,  0,  0,  0,  0,  0,  0,  0,  0,  0,  0,  0,  0,  0,  0,\n",
            "         0,  0,  0,  0,  0,  0,  0,  0,  0,  0,  0,  0,  0,  0,  0,  0,  0,  0,\n",
            "         0,  0,  0,  0,  0,  0,  0,  0,  0,  0,  0,  0,  0,  0,  0,  0,  0,  0,\n",
            "         0,  0,  0,  0,  0,  0,  0,  0,  0,  0,  0,  0,  0,  0,  0,  0,  0,  0,\n",
            "         0,  0,  0,  0,  0,  0,  0,  0,  0,  0,  0,  0,  0,  0,  0,  0,  0,  0,\n",
            "         0,  0,  0,  0,  0,  0,  0,  0,  0,  0,  0,  0,  0,  0,  0,  0,  0,  0,\n",
            "         0,  0,  0,  0,  0,  0,  0,  0,  0,  0,  0,  0,  0,  0,  0,  0,  0,  0,\n",
            "         0,  0,  0,  0,  0,  0,  0,  0,  0,  0,  0,  0,  0,  0,  0,  0,  0,  0,\n",
            "         0,  0,  0,  0,  0,  0,  0,  0,  0,  0,  0,  0,  0,  0,  0,  0,  0,  0,\n",
            "         0,  0,  0,  0,  0,  0,  0,  0,  0,  0,  0,  0,  0,  0,  0,  0,  0,  0,\n",
            "         0,  0,  0,  0,  0,  0,  0,  0,  0,  0,  0,  0,  0,  0,  0,  0,  0,  0,\n",
            "         0,  0,  0,  0,  0,  0,  0,  0,  0,  0,  0,  0,  0,  0,  0,  0,  0,  0,\n",
            "         0,  0,  0,  0,  0,  0,  0,  0,  0,  0,  0,  0,  0,  0,  0,  0,  0,  0,\n",
            "         0,  0,  0,  0,  0,  0,  0,  0,  0,  0,  0,  0,  0,  0,  0,  0,  0,  0,\n",
            "         0,  0,  0,  0,  0,  0,  0,  0,  0,  0,  0,  0,  0,  0,  0,  0,  0,  0,\n",
            "         0,  0,  0,  0,  0,  0,  0,  0,  0,  0,  0,  0,  0,  0,  0,  0,  0,  0,\n",
            "         0,  0,  0,  0,  0,  0,  0,  0,  0,  0,  0,  0,  0,  0,  0,  0,  0,  0,\n",
            "         0,  0,  0,  0,  0,  0,  0,  0,  0,  0,  0,  0,  0,  0,  0,  0,  0,  0,\n",
            "         0,  0,  0,  0,  0,  0,  0,  0,  0,  0,  0,  0,  0,  0,  0,  0,  0,  0,\n",
            "         0,  0,  0,  0,  0,  0,  0,  0,  0,  0,  0,  0,  0,  0,  0,  0,  0,  0,\n",
            "         0,  0,  0,  0,  0,  0,  0,  0,  0,  0,  0,  0,  0,  0,  0,  0,  0,  0,\n",
            "         0,  0,  0,  0,  0,  0,  0,  0,  0,  0,  0,  0,  0,  0,  0,  0,  0,  0,\n",
            "         0,  0,  0,  0,  0,  0,  0,  0,  0,  0,  0,  0,  0,  0,  0,  0,  0,  0,\n",
            "         0,  0,  0,  0,  0,  0,  0,  0,  0,  0,  0,  0,  0,  0,  0,  0,  0,  0,\n",
            "         0,  0,  0,  0,  0,  0,  0,  0,  0,  0,  0,  0,  0,  0,  0,  0,  0,  0,\n",
            "         0,  0,  0,  0,  0,  0,  0,  0,  0,  0,  0,  0,  0,  0,  0,  0,  0,  0,\n",
            "         0,  0,  0,  0,  0,  0,  0,  0,  0,  0,  0,  0,  0,  0,  0,  0,  0,  0,\n",
            "         0,  0,  0,  0,  0,  0,  0,  0,  0,  0,  0,  0,  0,  0,  0,  0,  0,  0,\n",
            "         0,  0,  0,  0,  0,  0,  0,  0,  0,  0,  0,  0,  0,  0,  0,  0,  0,  0,\n",
            "         0,  0,  0,  0,  0,  0,  0,  0,  0,  0,  0,  0,  0,  0,  0,  0,  0,  0,\n",
            "         0,  0,  0,  0,  0,  0,  0,  0,  0,  0,  0,  0,  0,  0,  0,  0,  0,  0,\n",
            "         0,  0,  0,  0,  0,  0,  0,  0,  0,  0,  0,  0,  0,  0,  0,  0,  0,  0,\n",
            "         0,  0,  0,  0,  0,  0,  0,  0,  0,  0,  0,  0,  0,  0,  0,  0,  0,  0,\n",
            "         0,  0,  0,  0,  0,  0,  0,  0,  0,  0,  0,  0,  0,  0,  0,  0,  0,  0,\n",
            "         0,  0,  0,  0,  0,  0,  0,  0,  0,  0,  0,  0,  0,  0,  0,  0,  0,  0,\n",
            "         0,  0,  0,  0,  0,  0,  0,  0,  0,  0,  0,  0,  0,  0,  0,  0,  0,  0,\n",
            "         0,  0,  0,  0,  0,  0,  0,  0,  0,  0,  0,  0,  0,  0,  0,  0,  0,  0,\n",
            "         0,  0,  0,  0,  0,  0,  0,  0,  0,  0,  0,  0,  0,  0,  0,  0,  0,  0,\n",
            "         0,  0,  0,  0,  0,  0,  0,  0,  0,  0,  0,  0,  0,  0,  0,  0,  0,  0,\n",
            "         0,  0,  0,  0,  0,  0,  0,  0,  0,  0,  0,  0,  0,  0,  0,  0,  0,  0,\n",
            "         0,  0,  0,  0,  0,  0,  0,  0,  0,  0,  0,  0,  0,  0,  0,  0,  0,  0,\n",
            "         0,  0,  0,  0,  0,  0,  0,  0,  0,  0,  0,  0,  0,  0,  0,  0,  0,  0,\n",
            "         0,  0,  0,  0,  0,  0,  0,  0,  0,  0,  0,  0,  0,  0,  0,  0,  0,  0,\n",
            "         0,  0,  0,  0,  0,  0,  0,  0,  0,  0,  0,  0,  0,  0,  0,  0,  0,  0,\n",
            "         0,  0,  0,  0,  0,  0,  0,  0,  0,  0,  0,  0,  0,  0,  0,  0,  0,  0,\n",
            "         0,  0,  0,  0,  0,  0,  0,  0,  0,  0,  0,  0,  0,  0,  0,  0,  0,  0,\n",
            "         0,  0,  0,  0,  0,  0,  0,  0,  0,  0,  0,  0,  0,  0,  0,  0,  0,  0,\n",
            "         0,  0,  0,  0,  0,  0,  0,  0,  0,  0,  0,  0,  0,  0,  0,  0,  0,  0,\n",
            "         0,  0,  0,  0,  0,  0,  0,  0,  0,  0,  0,  0,  0,  0,  0,  0,  0,  0,\n",
            "         0,  0,  0,  0,  0,  0,  0,  0,  0,  0,  0,  0,  0,  0,  0,  0,  0,  0,\n",
            "         0,  0,  0,  0,  0,  0,  0,  0,  0,  0,  0,  0,  0,  0,  0,  0,  0,  0,\n",
            "         0,  0,  0,  0,  0,  0,  0,  0,  0,  0,  0,  0,  0,  0,  0,  0,  0,  0,\n",
            "         0,  0,  0,  0,  0,  0,  0,  0,  0,  0,  0,  0,  0,  0,  0,  0,  0,  0,\n",
            "         0,  0,  0,  0,  0,  0,  0,  0,  0,  0,  0,  0,  0,  0,  0,  0,  0,  0,\n",
            "         0,  0,  0,  0,  0,  0,  0,  0,  0,  0,  0,  0,  0,  0,  0,  0,  0,  0,\n",
            "         0,  0,  0,  0,  0,  0,  0,  0,  0,  0,  0,  0,  0,  0,  0,  0,  0,  0,\n",
            "         0,  0,  0,  0,  0,  0,  0,  0,  0,  0,  0,  0,  0,  0,  0,  0,  0,  0,\n",
            "         0,  0,  0,  0,  0,  0,  0,  0,  0,  0,  0,  0,  0,  0,  0,  0,  0,  0,\n",
            "         0,  0,  0,  0,  0,  0,  0,  0,  0,  0,  0,  0,  0,  0,  0,  0,  0,  0,\n",
            "         0,  0,  0,  0,  0,  0,  0,  0,  0,  0,  0,  0,  0,  0,  0,  0,  0,  0,\n",
            "         0,  0,  0,  0,  0,  0,  0,  0,  0,  0,  0,  0,  0,  0,  0,  0,  0,  0,\n",
            "         0,  0,  0,  0,  0,  0,  0,  0,  0,  0,  0,  0,  0,  0,  0,  0,  0,  0,\n",
            "         0,  0,  0,  0,  0,  0,  0,  0,  0,  0,  0,  0,  0,  0,  0,  0,  0,  0,\n",
            "         0,  0,  0,  0,  0,  0,  0,  0,  0,  0,  0,  0,  0,  0,  0,  0,  0,  0,\n",
            "         0,  0,  0,  0,  0,  0,  0,  0,  0,  0,  0,  0,  0,  0,  0,  0,  0,  0,\n",
            "         0,  0,  0,  0,  0,  0,  0,  0,  0,  0,  0,  0,  0,  0,  0,  0,  0,  0,\n",
            "         0,  0,  0,  0,  0,  0,  0,  0,  0,  0,  0,  0,  0,  0,  0,  0,  0,  0,\n",
            "         0,  0,  0,  0,  0,  0,  0,  0,  0,  0,  0,  0,  0,  0,  0,  0,  0,  0,\n",
            "         0,  0,  0,  0,  0,  0,  0,  0,  0,  0,  0,  0,  0,  0,  0,  0,  0,  0,\n",
            "         0,  0,  0,  0,  0,  0,  0,  0,  0,  0,  0,  0,  0,  0,  0,  0,  0,  0,\n",
            "         0,  0,  0,  0,  0,  0,  0,  0,  0,  0,  0,  0,  0,  0,  0,  0,  0,  0,\n",
            "         0,  0,  0,  0,  0,  0,  0,  0,  0,  0,  0,  0,  0,  0,  0,  0,  0,  0,\n",
            "         0,  0,  0,  0,  0,  0,  0,  0,  0,  0,  0,  0,  0,  0,  0,  0,  0,  0,\n",
            "         0,  0,  0,  0,  0,  0,  0,  0,  0,  0,  0,  0,  0,  0,  0,  0,  0,  0,\n",
            "         0,  0,  0,  0,  0,  0,  0,  0,  0,  0,  0,  0,  0,  0,  0,  0,  0,  0,\n",
            "         0,  0,  0,  0,  0,  0,  0,  0,  0,  0,  0,  0,  0,  0,  0,  0,  0,  0,\n",
            "         0,  0,  0,  0,  0,  0,  0,  0,  0,  0,  0,  0,  0,  0,  0,  0,  0,  0,\n",
            "         0,  0,  0,  0,  0,  0,  0,  0,  0,  0,  0,  0,  0,  0,  0,  0,  0,  0,\n",
            "         0,  0,  0,  0,  0,  0,  0,  0,  0,  0,  0,  0,  0,  0,  0,  0,  0,  0,\n",
            "         0,  0,  0,  0,  0,  0,  0,  0,  0,  0,  0,  0,  0,  0,  0,  0,  0,  0,\n",
            "         0,  0,  0,  0,  0,  0,  0,  0,  0,  0,  0,  0,  0,  0,  0,  0,  0,  0,\n",
            "         0,  0,  0,  0,  0,  0,  0,  0,  0,  0,  0,  0,  0,  0,  0,  0,  0,  0,\n",
            "         0,  0,  0,  0,  0,  0,  0,  0,  0,  0,  0,  0,  0,  0,  0,  0,  0,  0,\n",
            "         0,  0,  0,  0,  0,  0,  0,  0,  0,  0,  0,  0,  0,  0,  0,  0,  0,  0,\n",
            "         0,  0,  0,  0,  0,  0,  0,  0,  0,  0,  0,  0,  0,  0,  0,  0,  0,  0,\n",
            "         0,  0,  0,  0,  0,  0,  0,  0,  0,  0,  0,  0,  0,  0,  0,  0,  0,  0,\n",
            "         0,  0,  0,  0,  0,  0,  0,  0,  0,  0,  0,  0,  0,  0,  0,  0,  0,  0,\n",
            "         0,  0,  0,  0,  0,  0,  0,  0,  0,  0,  0,  0,  0,  0,  0,  0,  0,  0,\n",
            "         0,  0,  0,  0,  0,  0,  0,  0,  0,  0,  0,  0,  0,  0,  0,  0,  0,  0,\n",
            "         0,  0,  0,  0,  0,  0,  0,  0,  0,  0,  0,  0,  0,  0,  0,  0,  0,  0,\n",
            "         0,  0,  0,  0,  0,  0,  0,  0,  0,  0,  0,  0,  0,  0,  0,  0,  0,  0,\n",
            "         0,  0,  0,  0,  0,  0,  0,  0,  0,  0,  0,  0,  0,  0,  0,  0,  0,  0,\n",
            "         0,  0,  0,  0,  0,  0,  0,  0,  0,  0,  0,  0,  0,  0,  0,  0,  0,  0,\n",
            "         0,  0,  0,  0,  0,  0,  0,  0,  0,  0,  0,  0,  0,  0,  0,  0,  0,  0,\n",
            "         0,  0,  0,  0,  0,  0,  0,  0,  0,  0,  0,  0,  0,  0,  0,  0,  0,  0,\n",
            "         0,  0,  0,  0,  0,  0,  0,  0,  0,  0,  0,  0,  0,  0,  0,  0,  0,  0,\n",
            "         0,  0,  0,  0,  0,  0,  0,  0,  0,  0,  0,  0,  0,  0,  0,  0,  0,  0,\n",
            "         0,  0,  0,  0,  0,  0,  0,  0,  0,  0,  0,  0,  0,  0,  0,  0,  0,  0,\n",
            "         0,  0,  0,  0,  0,  0,  0,  0,  0,  0,  0,  0,  0,  0,  0,  0,  0,  0,\n",
            "         0,  0,  0,  0,  0,  0,  0,  0,  0,  0,  0,  0,  0,  0,  0,  0,  0,  0,\n",
            "         0,  0,  0,  0,  0,  0,  0,  0,  0,  0,  0,  0,  0,  0,  0,  0,  0,  0,\n",
            "         0,  0,  0,  0,  0,  0,  0,  0,  0,  0,  0,  0,  0,  0,  0,  0,  0,  0,\n",
            "         0,  0,  0,  0,  0,  0,  0,  0,  0,  0,  0,  0,  0])\n"
          ],
          "name": "stdout"
        }
      ]
    },
    {
      "cell_type": "code",
      "metadata": {
        "colab": {
          "base_uri": "https://localhost:8080/"
        },
        "id": "WKu6GqGUVpGP",
        "outputId": "d8f54989-7a77-4501-83e9-f6851ac9355b"
      },
      "source": [
        "full_sequence_length = data_encoded.shape[1]\n",
        "batch_size = data_encoded.shape[0]\n",
        "positional_encodings = position_to_positional_encoding_mapping[position_matrix.view(-1)].view(batch_size, full_sequence_length, embedding_dimension_size)\n",
        "positional_encodings[0,95]"
      ],
      "execution_count": 19,
      "outputs": [
        {
          "output_type": "execute_result",
          "data": {
            "text/plain": [
              "tensor([0., 1., 0., 1., 0., 1., 0., 1., 0., 1., 0., 1., 0., 1., 0., 1., 0., 1.,\n",
              "        0., 1., 0., 1., 0., 1., 0., 1., 0., 1., 0., 1., 0., 1.])"
            ]
          },
          "metadata": {
            "tags": []
          },
          "execution_count": 19
        }
      ]
    },
    {
      "cell_type": "code",
      "metadata": {
        "colab": {
          "base_uri": "https://localhost:8080/"
        },
        "id": "_rSBTAgA19e5",
        "outputId": "d9ca4512-e3be-4662-9bb9-10f35f60a443"
      },
      "source": [
        "positional_encodings.shape"
      ],
      "execution_count": 47,
      "outputs": [
        {
          "output_type": "execute_result",
          "data": {
            "text/plain": [
              "torch.Size([2277, 2101, 32])"
            ]
          },
          "metadata": {
            "tags": []
          },
          "execution_count": 47
        }
      ]
    },
    {
      "cell_type": "code",
      "metadata": {
        "colab": {
          "base_uri": "https://localhost:8080/",
          "height": 501
        },
        "id": "VyvQ_IOJc9M8",
        "outputId": "1a688caa-a040-403d-f3a4-f7f05b777421"
      },
      "source": [
        "plt.figure(figsize=(12,8))\n",
        "plt.pcolormesh(positional_encodings[743], cmap='cividis')\n",
        "plt.xlabel('Embedding Dimensions')\n",
        "plt.xlim((0, embedding_dimension_size))\n",
        "plt.ylim((0, full_sequence_length))\n",
        "plt.ylabel('Token Position')\n",
        "plt.colorbar()\n",
        "plt.show()"
      ],
      "execution_count": 48,
      "outputs": [
        {
          "output_type": "display_data",
          "data": {
            "image/png": "[encoded data removed]",
            "text/plain": [
              "<Figure size 864x576 with 2 Axes>"
            ]
          },
          "metadata": {
            "tags": [],
            "needs_background": "light"
          }
        }
      ]
    },
    {
      "cell_type": "code",
      "metadata": {
        "colab": {
          "base_uri": "https://localhost:8080/"
        },
        "id": "BlEXED33a1vh",
        "outputId": "265aacf7-718e-4998-ce2e-5f9e3c28d773"
      },
      "source": [
        "position_matrix.shape[1]"
      ],
      "execution_count": 26,
      "outputs": [
        {
          "output_type": "execute_result",
          "data": {
            "text/plain": [
              "2101"
            ]
          },
          "metadata": {
            "tags": []
          },
          "execution_count": 26
        }
      ]
    },
    {
      "cell_type": "code",
      "metadata": {
        "colab": {
          "base_uri": "https://localhost:8080/"
        },
        "id": "1J9VCBc7qBC2",
        "outputId": "6589d00b-9b9b-4ce9-94c0-06f3e50f18a3"
      },
      "source": [
        "positional_encodings = torch.Tensor([ [pos / np.power(10000, 2 * embedding_dimension_index/5) for embedding_dimension_index in range(5)] for pos in range(10) ])\n"
      ],
      "execution_count": 38,
      "outputs": [
        {
          "output_type": "execute_result",
          "data": {
            "text/plain": [
              "tensor([[0.0000e+00, 0.0000e+00, 0.0000e+00, 0.0000e+00, 0.0000e+00],\n",
              "        [1.0000e+00, 2.5119e-02, 6.3096e-04, 1.5849e-05, 3.9811e-07],\n",
              "        [2.0000e+00, 5.0238e-02, 1.2619e-03, 3.1698e-05, 7.9621e-07],\n",
              "        [3.0000e+00, 7.5357e-02, 1.8929e-03, 4.7547e-05, 1.1943e-06],\n",
              "        [4.0000e+00, 1.0048e-01, 2.5238e-03, 6.3396e-05, 1.5924e-06],\n",
              "        [5.0000e+00, 1.2559e-01, 3.1548e-03, 7.9245e-05, 1.9905e-06],\n",
              "        [6.0000e+00, 1.5071e-01, 3.7857e-03, 9.5094e-05, 2.3886e-06],\n",
              "        [7.0000e+00, 1.7583e-01, 4.4167e-03, 1.1094e-04, 2.7868e-06],\n",
              "        [8.0000e+00, 2.0095e-01, 5.0477e-03, 1.2679e-04, 3.1849e-06],\n",
              "        [9.0000e+00, 2.2607e-01, 5.6786e-03, 1.4264e-04, 3.5830e-06]])"
            ]
          },
          "metadata": {
            "tags": []
          },
          "execution_count": 38
        }
      ]
    },
    {
      "cell_type": "code",
      "metadata": {
        "colab": {
          "base_uri": "https://localhost:8080/"
        },
        "id": "Uep5FmCKxMj9",
        "outputId": "c96eb7b8-7f0e-4dcd-a86f-89514117007b"
      },
      "source": [
        "torch.sin(torch.deg2rad(torch.Tensor([6.3096e-04])))"
      ],
      "execution_count": 52,
      "outputs": [
        {
          "output_type": "execute_result",
          "data": {
            "text/plain": [
              "tensor([1.1012e-05])"
            ]
          },
          "metadata": {
            "tags": []
          },
          "execution_count": 52
        }
      ]
    },
    {
      "cell_type": "code",
      "metadata": {
        "colab": {
          "base_uri": "https://localhost:8080/"
        },
        "id": "lEhXW_R0zEoH",
        "outputId": "301189c2-d606-44b4-88c5-785d3afe9d36"
      },
      "source": [
        "import math\n",
        "math.sin(math.radians(6.3096e-04))"
      ],
      "execution_count": 47,
      "outputs": [
        {
          "output_type": "execute_result",
          "data": {
            "text/plain": [
              "1.1012329448160842e-05"
            ]
          },
          "metadata": {
            "tags": []
          },
          "execution_count": 47
        }
      ]
    },
    {
      "cell_type": "code",
      "metadata": {
        "colab": {
          "base_uri": "https://localhost:8080/"
        },
        "id": "Kp5-o0KQwvIf",
        "outputId": "a072d8ea-b710-4466-ec68-eec74d43792e"
      },
      "source": [
        "torch.sin(positional_encodings[:, 0::2])"
      ],
      "execution_count": 40,
      "outputs": [
        {
          "output_type": "execute_result",
          "data": {
            "text/plain": [
              "tensor([[ 0.0000e+00,  0.0000e+00,  0.0000e+00],\n",
              "        [ 8.4147e-01,  6.3096e-04,  3.9811e-07],\n",
              "        [ 9.0930e-01,  1.2619e-03,  7.9621e-07],\n",
              "        [ 1.4112e-01,  1.8929e-03,  1.1943e-06],\n",
              "        [-7.5680e-01,  2.5238e-03,  1.5924e-06],\n",
              "        [-9.5892e-01,  3.1548e-03,  1.9905e-06],\n",
              "        [-2.7942e-01,  3.7857e-03,  2.3886e-06],\n",
              "        [ 6.5699e-01,  4.4167e-03,  2.7868e-06],\n",
              "        [ 9.8936e-01,  5.0476e-03,  3.1849e-06],\n",
              "        [ 4.1212e-01,  5.6786e-03,  3.5830e-06]])"
            ]
          },
          "metadata": {
            "tags": []
          },
          "execution_count": 40
        }
      ]
    },
    {
      "cell_type": "code",
      "metadata": {
        "colab": {
          "base_uri": "https://localhost:8080/"
        },
        "id": "r43Mnd0vwZvU",
        "outputId": "21f4fa84-9cfc-427c-eb98-04e9bab9ff51"
      },
      "source": [
        "positional_encodings[:, 0::2]"
      ],
      "execution_count": 39,
      "outputs": [
        {
          "output_type": "execute_result",
          "data": {
            "text/plain": [
              "tensor([[0.0000e+00, 0.0000e+00, 0.0000e+00],\n",
              "        [1.0000e+00, 6.3096e-04, 3.9811e-07],\n",
              "        [2.0000e+00, 1.2619e-03, 7.9621e-07],\n",
              "        [3.0000e+00, 1.8929e-03, 1.1943e-06],\n",
              "        [4.0000e+00, 2.5238e-03, 1.5924e-06],\n",
              "        [5.0000e+00, 3.1548e-03, 1.9905e-06],\n",
              "        [6.0000e+00, 3.7857e-03, 2.3886e-06],\n",
              "        [7.0000e+00, 4.4167e-03, 2.7868e-06],\n",
              "        [8.0000e+00, 5.0477e-03, 3.1849e-06],\n",
              "        [9.0000e+00, 5.6786e-03, 3.5830e-06]])"
            ]
          },
          "metadata": {
            "tags": []
          },
          "execution_count": 39
        }
      ]
    },
    {
      "cell_type": "code",
      "metadata": {
        "colab": {
          "base_uri": "https://localhost:8080/"
        },
        "id": "2tWYb8bvvqNJ",
        "outputId": "ee090a4e-4349-4d2c-e8fc-205d4724d1cf"
      },
      "source": [
        "positional_encodings[:, 0::2] = np.sin(positional_encodings[:, 0::2])\n",
        "positional_encodings"
      ],
      "execution_count": 36,
      "outputs": [
        {
          "output_type": "execute_result",
          "data": {
            "text/plain": [
              "tensor([[ 0.0000e+00,  0.0000e+00,  0.0000e+00,  0.0000e+00,  0.0000e+00],\n",
              "        [ 8.4147e-01,  2.5119e-02,  6.3096e-04,  1.5849e-05,  3.9811e-07],\n",
              "        [ 9.0930e-01,  5.0238e-02,  1.2619e-03,  3.1698e-05,  7.9621e-07],\n",
              "        [ 1.4112e-01,  7.5357e-02,  1.8929e-03,  4.7547e-05,  1.1943e-06],\n",
              "        [-7.5680e-01,  1.0048e-01,  2.5238e-03,  6.3396e-05,  1.5924e-06],\n",
              "        [-9.5892e-01,  1.2559e-01,  3.1548e-03,  7.9245e-05,  1.9905e-06],\n",
              "        [-2.7942e-01,  1.5071e-01,  3.7857e-03,  9.5094e-05,  2.3886e-06],\n",
              "        [ 6.5699e-01,  1.7583e-01,  4.4167e-03,  1.1094e-04,  2.7868e-06],\n",
              "        [ 9.8936e-01,  2.0095e-01,  5.0476e-03,  1.2679e-04,  3.1849e-06],\n",
              "        [ 4.1212e-01,  2.2607e-01,  5.6786e-03,  1.4264e-04,  3.5830e-06]])"
            ]
          },
          "metadata": {
            "tags": []
          },
          "execution_count": 36
        }
      ]
    },
    {
      "cell_type": "code",
      "metadata": {
        "colab": {
          "base_uri": "https://localhost:8080/"
        },
        "id": "G559KyVEstv3",
        "outputId": "bd3c1f2c-fc52-4247-89b1-e70673e774a6"
      },
      "source": [
        "abe = [1,2,3,4,5,6]\n",
        "abe[1::2]"
      ],
      "execution_count": 18,
      "outputs": [
        {
          "output_type": "execute_result",
          "data": {
            "text/plain": [
              "[2, 4, 6]"
            ]
          },
          "metadata": {
            "tags": []
          },
          "execution_count": 18
        }
      ]
    },
    {
      "cell_type": "code",
      "metadata": {
        "colab": {
          "base_uri": "https://localhost:8080/"
        },
        "id": "kQ4eJ7_8qNoI",
        "outputId": "64b28710-6740-4e6b-ade7-9818e1218fde"
      },
      "source": [
        "positional_encodings"
      ],
      "execution_count": 12,
      "outputs": [
        {
          "output_type": "execute_result",
          "data": {
            "text/plain": [
              "array([[0.00000000e+00, 0.00000000e+00, 0.00000000e+00, 0.00000000e+00,\n",
              "        0.00000000e+00],\n",
              "       [1.00000000e+00, 2.51188643e-02, 6.30957344e-04, 1.58489319e-05,\n",
              "        3.98107171e-07],\n",
              "       [2.00000000e+00, 5.02377286e-02, 1.26191469e-03, 3.16978638e-05,\n",
              "        7.96214341e-07],\n",
              "       [3.00000000e+00, 7.53565929e-02, 1.89287203e-03, 4.75467958e-05,\n",
              "        1.19432151e-06],\n",
              "       [4.00000000e+00, 1.00475457e-01, 2.52382938e-03, 6.33957277e-05,\n",
              "        1.59242868e-06],\n",
              "       [5.00000000e+00, 1.25594322e-01, 3.15478672e-03, 7.92446596e-05,\n",
              "        1.99053585e-06],\n",
              "       [6.00000000e+00, 1.50713186e-01, 3.78574407e-03, 9.50935915e-05,\n",
              "        2.38864302e-06],\n",
              "       [7.00000000e+00, 1.75832050e-01, 4.41670141e-03, 1.10942523e-04,\n",
              "        2.78675019e-06],\n",
              "       [8.00000000e+00, 2.00950915e-01, 5.04765876e-03, 1.26791455e-04,\n",
              "        3.18485736e-06],\n",
              "       [9.00000000e+00, 2.26069779e-01, 5.67861610e-03, 1.42640387e-04,\n",
              "        3.58296453e-06]])"
            ]
          },
          "metadata": {
            "tags": []
          },
          "execution_count": 12
        }
      ]
    },
    {
      "cell_type": "code",
      "metadata": {
        "id": "Qfd6UvuxrU94"
      },
      "source": [
        "positional_encodings = np.array([\n",
        "        [pos / np.power(10000, 2 * embedding_dimension_index/5) for embedding_dimension_index in range(5)]\n",
        "        if pos != 0 else np.zeros(5) # Why this?\n",
        "        for pos in range(10)\n",
        "        ])"
      ],
      "execution_count": 14,
      "outputs": []
    },
    {
      "cell_type": "code",
      "metadata": {
        "colab": {
          "base_uri": "https://localhost:8080/"
        },
        "id": "asghC_6drdSZ",
        "outputId": "64e566b6-b6a6-43f0-df7f-a23c95bf8b97"
      },
      "source": [
        "positional_encodings"
      ],
      "execution_count": 15,
      "outputs": [
        {
          "output_type": "execute_result",
          "data": {
            "text/plain": [
              "array([[0.00000000e+00, 0.00000000e+00, 0.00000000e+00, 0.00000000e+00,\n",
              "        0.00000000e+00],\n",
              "       [1.00000000e+00, 2.51188643e-02, 6.30957344e-04, 1.58489319e-05,\n",
              "        3.98107171e-07],\n",
              "       [2.00000000e+00, 5.02377286e-02, 1.26191469e-03, 3.16978638e-05,\n",
              "        7.96214341e-07],\n",
              "       [3.00000000e+00, 7.53565929e-02, 1.89287203e-03, 4.75467958e-05,\n",
              "        1.19432151e-06],\n",
              "       [4.00000000e+00, 1.00475457e-01, 2.52382938e-03, 6.33957277e-05,\n",
              "        1.59242868e-06],\n",
              "       [5.00000000e+00, 1.25594322e-01, 3.15478672e-03, 7.92446596e-05,\n",
              "        1.99053585e-06],\n",
              "       [6.00000000e+00, 1.50713186e-01, 3.78574407e-03, 9.50935915e-05,\n",
              "        2.38864302e-06],\n",
              "       [7.00000000e+00, 1.75832050e-01, 4.41670141e-03, 1.10942523e-04,\n",
              "        2.78675019e-06],\n",
              "       [8.00000000e+00, 2.00950915e-01, 5.04765876e-03, 1.26791455e-04,\n",
              "        3.18485736e-06],\n",
              "       [9.00000000e+00, 2.26069779e-01, 5.67861610e-03, 1.42640387e-04,\n",
              "        3.58296453e-06]])"
            ]
          },
          "metadata": {
            "tags": []
          },
          "execution_count": 15
        }
      ]
    },
    {
      "cell_type": "code",
      "metadata": {
        "id": "pXwCMH7WqSaS"
      },
      "source": [
        "positional_encodings[1:, 0::2] = np.sin(positional_encodings[1:, 0::2])"
      ],
      "execution_count": 9,
      "outputs": []
    },
    {
      "cell_type": "code",
      "metadata": {
        "colab": {
          "base_uri": "https://localhost:8080/"
        },
        "id": "asI-5kwRqbr5",
        "outputId": "02f92639-6134-4fa7-b6a6-50324c8f1e7c"
      },
      "source": [
        "positional_encodings"
      ],
      "execution_count": 10,
      "outputs": [
        {
          "output_type": "execute_result",
          "data": {
            "text/plain": [
              "array([[ 0.00000000e+00,  0.00000000e+00,  0.00000000e+00,\n",
              "         0.00000000e+00,  0.00000000e+00],\n",
              "       [ 8.41470985e-01,  2.51188643e-02,  6.30957303e-04,\n",
              "         1.58489319e-05,  3.98107171e-07],\n",
              "       [ 9.09297427e-01,  5.02377286e-02,  1.26191435e-03,\n",
              "         3.16978638e-05,  7.96214341e-07],\n",
              "       [ 1.41120008e-01,  7.53565929e-02,  1.89287090e-03,\n",
              "         4.75467958e-05,  1.19432151e-06],\n",
              "       [-7.56802495e-01,  1.00475457e-01,  2.52382670e-03,\n",
              "         6.33957277e-05,  1.59242868e-06],\n",
              "       [-9.58924275e-01,  1.25594322e-01,  3.15478149e-03,\n",
              "         7.92446596e-05,  1.99053585e-06],\n",
              "       [-2.79415498e-01,  1.50713186e-01,  3.78573502e-03,\n",
              "         9.50935915e-05,  2.38864302e-06],\n",
              "       [ 6.56986599e-01,  1.75832050e-01,  4.41668705e-03,\n",
              "         1.10942523e-04,  2.78675019e-06],\n",
              "       [ 9.89358247e-01,  2.00950915e-01,  5.04763732e-03,\n",
              "         1.26791455e-04,  3.18485736e-06],\n",
              "       [ 4.12118485e-01,  2.26069779e-01,  5.67858558e-03,\n",
              "         1.42640387e-04,  3.58296453e-06]])"
            ]
          },
          "metadata": {
            "tags": []
          },
          "execution_count": 10
        }
      ]
    },
    {
      "cell_type": "code",
      "metadata": {
        "colab": {
          "base_uri": "https://localhost:8080/"
        },
        "id": "Sbo_wdbTIJXJ",
        "outputId": "755c35c6-be8c-41ce-d1bb-9fd237616340"
      },
      "source": [
        "input = torch.arange(0,5).unsqueeze(1).repeat(1,9)\n",
        "input"
      ],
      "execution_count": 33,
      "outputs": [
        {
          "output_type": "execute_result",
          "data": {
            "text/plain": [
              "tensor([[0, 0, 0, 0, 0, 0, 0, 0, 0],\n",
              "        [1, 1, 1, 1, 1, 1, 1, 1, 1],\n",
              "        [2, 2, 2, 2, 2, 2, 2, 2, 2],\n",
              "        [3, 3, 3, 3, 3, 3, 3, 3, 3],\n",
              "        [4, 4, 4, 4, 4, 4, 4, 4, 4]])"
            ]
          },
          "metadata": {
            "tags": []
          },
          "execution_count": 33
        }
      ]
    },
    {
      "cell_type": "code",
      "metadata": {
        "colab": {
          "base_uri": "https://localhost:8080/"
        },
        "id": "-x5gV59QKxF4",
        "outputId": "5d95fa3d-4cc4-4960-90ca-53632026af52"
      },
      "source": [
        "embedding = nn.Embedding(10, 3, padding_idx=0)\n",
        "embedding(input)"
      ],
      "execution_count": 35,
      "outputs": [
        {
          "output_type": "execute_result",
          "data": {
            "text/plain": [
              "tensor([[[ 0.0000,  0.0000,  0.0000],\n",
              "         [ 0.0000,  0.0000,  0.0000],\n",
              "         [ 0.0000,  0.0000,  0.0000],\n",
              "         [ 0.0000,  0.0000,  0.0000],\n",
              "         [ 0.0000,  0.0000,  0.0000],\n",
              "         [ 0.0000,  0.0000,  0.0000],\n",
              "         [ 0.0000,  0.0000,  0.0000],\n",
              "         [ 0.0000,  0.0000,  0.0000],\n",
              "         [ 0.0000,  0.0000,  0.0000]],\n",
              "\n",
              "        [[-1.7899, -0.9797,  0.9091],\n",
              "         [-1.7899, -0.9797,  0.9091],\n",
              "         [-1.7899, -0.9797,  0.9091],\n",
              "         [-1.7899, -0.9797,  0.9091],\n",
              "         [-1.7899, -0.9797,  0.9091],\n",
              "         [-1.7899, -0.9797,  0.9091],\n",
              "         [-1.7899, -0.9797,  0.9091],\n",
              "         [-1.7899, -0.9797,  0.9091],\n",
              "         [-1.7899, -0.9797,  0.9091]],\n",
              "\n",
              "        [[-0.0541, -0.2001,  1.7041],\n",
              "         [-0.0541, -0.2001,  1.7041],\n",
              "         [-0.0541, -0.2001,  1.7041],\n",
              "         [-0.0541, -0.2001,  1.7041],\n",
              "         [-0.0541, -0.2001,  1.7041],\n",
              "         [-0.0541, -0.2001,  1.7041],\n",
              "         [-0.0541, -0.2001,  1.7041],\n",
              "         [-0.0541, -0.2001,  1.7041],\n",
              "         [-0.0541, -0.2001,  1.7041]],\n",
              "\n",
              "        [[ 0.1844, -0.4846, -0.4886],\n",
              "         [ 0.1844, -0.4846, -0.4886],\n",
              "         [ 0.1844, -0.4846, -0.4886],\n",
              "         [ 0.1844, -0.4846, -0.4886],\n",
              "         [ 0.1844, -0.4846, -0.4886],\n",
              "         [ 0.1844, -0.4846, -0.4886],\n",
              "         [ 0.1844, -0.4846, -0.4886],\n",
              "         [ 0.1844, -0.4846, -0.4886],\n",
              "         [ 0.1844, -0.4846, -0.4886]],\n",
              "\n",
              "        [[ 1.2684, -0.0767,  0.1844],\n",
              "         [ 1.2684, -0.0767,  0.1844],\n",
              "         [ 1.2684, -0.0767,  0.1844],\n",
              "         [ 1.2684, -0.0767,  0.1844],\n",
              "         [ 1.2684, -0.0767,  0.1844],\n",
              "         [ 1.2684, -0.0767,  0.1844],\n",
              "         [ 1.2684, -0.0767,  0.1844],\n",
              "         [ 1.2684, -0.0767,  0.1844],\n",
              "         [ 1.2684, -0.0767,  0.1844]]], grad_fn=<EmbeddingBackward>)"
            ]
          },
          "metadata": {
            "tags": []
          },
          "execution_count": 35
        }
      ]
    },
    {
      "cell_type": "code",
      "metadata": {
        "colab": {
          "base_uri": "https://localhost:8080/"
        },
        "id": "kuOcMJtwKa_y",
        "outputId": "0e13b9a3-4295-4836-803a-24789de2ce95"
      },
      "source": [
        "torch.LongTensor([[1,2,4,5],[4,3,2,9]])"
      ],
      "execution_count": 32,
      "outputs": [
        {
          "output_type": "execute_result",
          "data": {
            "text/plain": [
              "tensor([[1, 2, 4, 5],\n",
              "        [4, 3, 2, 9]])"
            ]
          },
          "metadata": {
            "tags": []
          },
          "execution_count": 32
        }
      ]
    },
    {
      "cell_type": "code",
      "metadata": {
        "id": "27AlSYY3hptC"
      },
      "source": [
        "def count_parameters(model):\n",
        "    return sum(p.numel() for p in model.parameters() if p.requires_grad)"
      ],
      "execution_count": null,
      "outputs": []
    },
    {
      "cell_type": "code",
      "metadata": {
        "id": "Z1SpvL3Kkize"
      },
      "source": [
        "file = \"dataset.csv\"\n",
        "\n",
        "data, vocab, longest_sequence_length, sequence_pre_amino_acids_length = get_data(file)\n",
        "data_encoded, token_to_id, id_to_token = process_data(data, vocab, longest_sequence_length)"
      ],
      "execution_count": 18,
      "outputs": []
    },
    {
      "cell_type": "code",
      "metadata": {
        "colab": {
          "base_uri": "https://localhost:8080/"
        },
        "id": "5_0yG-PlygKD",
        "outputId": "617e0d6b-b400-40e5-d9ea-bac3e6fe4743"
      },
      "source": [
        "data_encoded.shape"
      ],
      "execution_count": 21,
      "outputs": [
        {
          "output_type": "execute_result",
          "data": {
            "text/plain": [
              "(2277, 2101)"
            ]
          },
          "metadata": {
            "tags": []
          },
          "execution_count": 21
        }
      ]
    },
    {
      "cell_type": "code",
      "metadata": {
        "colab": {
          "base_uri": "https://localhost:8080/"
        },
        "id": "iSreJt3yyZAR",
        "outputId": "5151d557-8ce1-4f5e-d22c-e153f04a6901"
      },
      "source": [
        "data.shape"
      ],
      "execution_count": 20,
      "outputs": [
        {
          "output_type": "execute_result",
          "data": {
            "text/plain": [
              "(2277, 96)"
            ]
          },
          "metadata": {
            "tags": []
          },
          "execution_count": 20
        }
      ]
    },
    {
      "cell_type": "code",
      "metadata": {
        "colab": {
          "base_uri": "https://localhost:8080/"
        },
        "id": "A4eX1Mqc-RDF",
        "outputId": "b50c428b-f9b6-4bb0-e4b5-ab64ae79dfcb"
      },
      "source": [
        "vocab_size = len(vocab)\n",
        "embedding_dimension_size = 32\n",
        "feedforward_dimension_size = 16\n",
        "longest_sequence_length = 120 # Why is this set to 120?\n",
        "attention_heads_count = 4\n",
        "n_layer= 8\n",
        "model = ProGen(embedding_dimension_size, vocab_size, attention_heads_count, n_layer, feedforward_dimension_size, longest_sequence_length)\n",
        "print(f'The model has {count_parameters(model):,} trainable parameters')"
      ],
      "execution_count": null,
      "outputs": [
        {
          "output_type": "stream",
          "text": [
            "The model has 161,122 trainable parameters\n"
          ],
          "name": "stdout"
        }
      ]
    },
    {
      "cell_type": "code",
      "metadata": {
        "id": "uS-ijaFuBK0l"
      },
      "source": [
        "data_encode=torch.from_numpy(data_encoded)\n",
        "inputs  = torch.zeros(data_encode.shape[0], max_len).to(torch.long).to(device)\n",
        "targets = torch.zeros(data_encode.shape[0], max_len).to(torch.long).to(device)\n",
        "for i in range(len(data_encode)):\n",
        "  inputs[i,  0:len(data_encode[i])]   = data_encode[i].to(device)\n",
        "  targets[i, 0:len(data_encode[i])-1] = data_encode[i][1:].to(device)\n",
        "  targets[i, len(data_encode[i])-1]   = 1  # <EOS> token\n",
        "# Split into train and test dataset\n",
        "combined = torch.stack([inputs, targets], dim=1)\n",
        "train_size = int(0.8 * len(combined))\n",
        "test_size = len(combined) - train_size\n",
        "train_ds, test_ds = torch.utils.data.random_split(combined, [train_size, test_size])\n",
        "train_x, train_y = combined[train_ds.indices][:, 0, :], combined[train_ds.indices][:, 1, :]\n",
        "test_x, test_y   = combined[test_ds.indices][:, 0, :],  combined[test_ds.indices][:, 1, :]\n",
        "tags_end = data.columns.get_loc(\"Sequence\")"
      ],
      "execution_count": null,
      "outputs": []
    },
    {
      "cell_type": "code",
      "metadata": {
        "id": "88pbdu6yAu6O"
      },
      "source": [
        "stats = { 'epoch':[], 'train_loss': [], 'train_perplexity': [], 'test_loss': [], 'test_perplexity': [] }\n",
        "batch_size, epochs, clip = 16, 500, 50\n",
        "posem = []\n",
        "opt = torch.optim.Adam(model.parameters(), lr=0.001, betas=(0.9, 0.98), eps=1e-9)\n",
        "criterion = torch.nn.CrossEntropyLoss()\n",
        "for i in range(epochs):\n",
        "    model.train()\n",
        "    opt.zero_grad()\n",
        "    # Sample a random batch of size `batch_size` from the train dataset\n",
        "    #idxs = torch.randint(size=(batch_size,), low=0, high=len(train_x))\n",
        "    idxs = np.random.randint(0, len(train_x), size=(batch_size,))\n",
        "    output, temp_pos_emb, before_posemb  = model(train_x[idxs])\n",
        "    loss = criterion(output.view(-1, vocab_size), train_y[idxs].view(-1)) \n",
        "    posem.append(_)\n",
        "    nn.utils.clip_grad_norm_(model.parameters(), 1)\n",
        "    loss.backward()\n",
        "    opt.step()\n",
        "    model.eval()\n",
        "    idxs = np.random.randint(0, len(test_x), size=(batch_size,))\n",
        "    output_test,b,c = model(test_x[idxs])\n",
        "    loss_on_test = criterion(output_test.view(-1, vocab_size), test_y[idxs].view(-1))\n",
        "    perplexity = torch.exp(loss_on_test).item()\n",
        "    # Update the stats and print something.\n",
        "    stats['train_loss'].append(loss.item())\n",
        "    stats['test_loss'].append(loss_on_test.item())\n",
        "    stats['epoch'].append(i)\n",
        "    stats['test_perplexity'].append(perplexity)\n",
        "    if i % 10 == 0:\n",
        "      print(i, loss.item())"
      ],
      "execution_count": null,
      "outputs": []
    },
    {
      "cell_type": "code",
      "metadata": {
        "colab": {
          "base_uri": "https://localhost:8080/",
          "height": 265
        },
        "id": "mcBrhx5dQr4b",
        "outputId": "41c66cf9-343f-4ba4-ea88-b71cba7b7ace"
      },
      "source": [
        "import matplotlib.pyplot as plt\n",
        "plt.plot(stats['epoch'], stats['train_loss'])\n",
        "plt.show()"
      ],
      "execution_count": null,
      "outputs": [
        {
          "output_type": "display_data",
          "data": {
            "image/png": "[encoded data removed]",
            "text/plain": [
              "<Figure size 432x288 with 1 Axes>"
            ]
          },
          "metadata": {
            "tags": [],
            "needs_background": "light"
          }
        }
      ]
    },
    {
      "cell_type": "code",
      "metadata": {
        "colab": {
          "base_uri": "https://localhost:8080/"
        },
        "id": "P-clZE_xVnPG",
        "outputId": "b5128014-f57a-4f59-fd06-b632866044b9"
      },
      "source": [
        "test_x[1,50:]"
      ],
      "execution_count": null,
      "outputs": [
        {
          "output_type": "execute_result",
          "data": {
            "text/plain": [
              "tensor([  2,   2,   2,   2,   2,   2,   2,   2,   2,   2, 492, 426, 426, 832,\n",
              "        607, 671, 144, 174, 933, 426, 607, 426,  84, 607, 426, 607,  45, 426,\n",
              "        607, 426,  45, 607, 164, 933, 607,  84,  40,  84, 806, 144, 144, 671,\n",
              "        144, 551, 956, 144, 164, 551,  40,  84, 144, 144, 551, 551, 607,  84,\n",
              "        671, 806, 806, 933,  84, 607, 100,  28, 806, 832, 956, 607, 832, 933,\n",
              "        100, 475, 100, 806, 164, 671, 100, 901,  84, 475, 551,  40, 426, 426,\n",
              "         84, 551, 607, 607, 572, 164, 164,  40, 956, 956, 100,  40, 475, 100,\n",
              "        901, 100, 806,  40,  40, 901, 806, 492, 174,   0,   0,   0,   0,   0,\n",
              "          0,   0,   0,   0,   0,   0,   0,   0,   0,   0,   0,   0,   0,   0,\n",
              "          0,   0,   0,   0])"
            ]
          },
          "metadata": {
            "tags": []
          },
          "execution_count": 525
        }
      ]
    },
    {
      "cell_type": "code",
      "metadata": {
        "id": "2cuMi3UAdKkI"
      },
      "source": [
        ""
      ],
      "execution_count": null,
      "outputs": []
    }
  ]
}